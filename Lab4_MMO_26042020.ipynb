{
  "nbformat": 4,
  "nbformat_minor": 0,
  "metadata": {
    "colab": {
      "name": "Lab4 MMO 26042020.ipynb",
      "provenance": [],
      "collapsed_sections": [],
      "mount_file_id": "1K46mJ2maG6dj_AuP7Fdba3Pu_Q8Z2KpM",
      "authorship_tag": "ABX9TyPNiO5BOpAL1m8LjXc5Y3Ps",
      "include_colab_link": true
    },
    "kernelspec": {
      "name": "python3",
      "display_name": "Python 3"
    }
  },
  "cells": [
    {
      "cell_type": "markdown",
      "metadata": {
        "id": "view-in-github",
        "colab_type": "text"
      },
      "source": [
        "<a href=\"https://colab.research.google.com/github/AhmadIsmail83N/MyData/blob/master/Lab4_MMO_26042020.ipynb\" target=\"_parent\"><img src=\"https://colab.research.google.com/assets/colab-badge.svg\" alt=\"Open In Colab\"/></a>"
      ]
    },
    {
      "cell_type": "markdown",
      "metadata": {
        "id": "NOs8rUk55-GU",
        "colab_type": "text"
      },
      "source": [
        "Подключим все необходимые библиотеки и настроим отображение графиков [2,3]"
      ]
    },
    {
      "cell_type": "code",
      "metadata": {
        "id": "wNCtpszvBaWb",
        "colab_type": "code",
        "colab": {}
      },
      "source": [
        "from datetime import datetime\n",
        "import matplotlib.pyplot as plt\n",
        "import numpy as np\n",
        "import pandas as pd\n",
        "from sklearn.metrics import mean_absolute_error\n",
        "from sklearn.metrics import median_absolute_error, r2_score\n",
        "from sklearn.model_selection import GridSearchCV\n",
        "from sklearn.model_selection import KFold, RepeatedKFold, ShuffleSplit\n",
        "from sklearn.model_selection import cross_val_score, train_test_split\n",
        "from sklearn.model_selection import learning_curve, validation_curve\n",
        "from sklearn.neighbors import KNeighborsRegressor\n",
        "from sklearn.preprocessing import StandardScaler\n",
        "# Enable inline plots\n",
        "%matplotlib inline\n",
        "# Set plots formats to save high resolution PNG\n",
        "from IPython.display import set_matplotlib_formats\n",
        "set_matplotlib_formats(\"retina\")\n"
      ],
      "execution_count": 0,
      "outputs": []
    },
    {
      "cell_type": "markdown",
      "metadata": {
        "id": "RW9rwRT654qQ",
        "colab_type": "text"
      },
      "source": [
        "Зададим ширину текстового представления данных, чтобы в дальнейшем текст в отчёте влезал на *А4* \n",
        "\n"
      ]
    },
    {
      "cell_type": "code",
      "metadata": {
        "id": "MQBR8O2cCdxe",
        "colab_type": "code",
        "colab": {}
      },
      "source": [
        "pd.set_option(\"display.width\", 70)"
      ],
      "execution_count": 0,
      "outputs": []
    },
    {
      "cell_type": "markdown",
      "metadata": {
        "id": "Q4am3Lzf6MaX",
        "colab_type": "text"
      },
      "source": [
        "**3.1. Предварительная подготовка данных**"
      ]
    },
    {
      "cell_type": "markdown",
      "metadata": {
        "id": "u29wGMJe75Ih",
        "colab_type": "text"
      },
      "source": [
        "В качестве набора данных используются метрологические данные с метеостанции\n",
        "HI-SEAS (Hawaii Space Exploration Analog and Simulation) за четыре месяца (с сентября\n",
        "по декабрь 2016 года) "
      ]
    },
    {
      "cell_type": "code",
      "metadata": {
        "id": "X6I3ZI02CkW5",
        "colab_type": "code",
        "colab": {}
      },
      "source": [
        "data = pd.read_csv(\"/content/sample_data/MapData-Evans-GP.csv\")"
      ],
      "execution_count": 0,
      "outputs": []
    },
    {
      "cell_type": "code",
      "metadata": {
        "id": "1BiYbnj09jBm",
        "colab_type": "code",
        "outputId": "b79c0360-a8ad-4b10-df1b-3451874bfa31",
        "colab": {
          "base_uri": "https://localhost:8080/",
          "height": 656
        }
      },
      "source": [
        "data.dtypes"
      ],
      "execution_count": 4,
      "outputs": [
        {
          "output_type": "execute_result",
          "data": {
            "text/plain": [
              "Latitude °               int64\n",
              "Latitude                object\n",
              "Longitude °              int64\n",
              "Longitude               object\n",
              "Topography              object\n",
              "Difficulty Challenge     int64\n",
              "Altitude                 int64\n",
              "Temperature              int64\n",
              "Metals                   int64\n",
              "Rare Metals              int64\n",
              "Concrete                 int64\n",
              "Water                    int64\n",
              "Dust Devils              int64\n",
              "Dust Storms              int64\n",
              "Meteors                  int64\n",
              "Cold Waves               int64\n",
              "Map Name                object\n",
              "Named Location          object\n",
              "Breakthrough 1          object\n",
              "Breakthrough 2          object\n",
              "Breakthrough 3          object\n",
              "Breakthrough 4          object\n",
              "Breakthrough 5          object\n",
              "Breakthrough 6          object\n",
              "Breakthrough 7          object\n",
              "Breakthrough 8          object\n",
              "Breakthrough 9          object\n",
              "Breakthrough 10         object\n",
              "Breakthrough 11         object\n",
              "Breakthrough 12         object\n",
              "Breakthrough 13         object\n",
              "Breakthrough 14         object\n",
              "Breakthrough 15         object\n",
              "Breakthrough 16         object\n",
              "Breakthrough 17         object\n",
              "dtype: object"
            ]
          },
          "metadata": {
            "tags": []
          },
          "execution_count": 4
        }
      ]
    },
    {
      "cell_type": "markdown",
      "metadata": {
        "id": "DiPs11OV9n31",
        "colab_type": "text"
      },
      "source": [
        "Посмотрим на данные в данном наборе данных:"
      ]
    },
    {
      "cell_type": "code",
      "metadata": {
        "id": "FukUcWsJ9lYD",
        "colab_type": "code",
        "outputId": "5128bf4a-e729-4141-8709-d284eb567ec4",
        "colab": {
          "base_uri": "https://localhost:8080/",
          "height": 367
        }
      },
      "source": [
        "data.head()"
      ],
      "execution_count": 5,
      "outputs": [
        {
          "output_type": "execute_result",
          "data": {
            "text/html": [
              "<div>\n",
              "<style scoped>\n",
              "    .dataframe tbody tr th:only-of-type {\n",
              "        vertical-align: middle;\n",
              "    }\n",
              "\n",
              "    .dataframe tbody tr th {\n",
              "        vertical-align: top;\n",
              "    }\n",
              "\n",
              "    .dataframe thead th {\n",
              "        text-align: right;\n",
              "    }\n",
              "</style>\n",
              "<table border=\"1\" class=\"dataframe\">\n",
              "  <thead>\n",
              "    <tr style=\"text-align: right;\">\n",
              "      <th></th>\n",
              "      <th>Latitude °</th>\n",
              "      <th>Latitude</th>\n",
              "      <th>Longitude °</th>\n",
              "      <th>Longitude</th>\n",
              "      <th>Topography</th>\n",
              "      <th>Difficulty Challenge</th>\n",
              "      <th>Altitude</th>\n",
              "      <th>Temperature</th>\n",
              "      <th>Metals</th>\n",
              "      <th>Rare Metals</th>\n",
              "      <th>Concrete</th>\n",
              "      <th>Water</th>\n",
              "      <th>Dust Devils</th>\n",
              "      <th>Dust Storms</th>\n",
              "      <th>Meteors</th>\n",
              "      <th>Cold Waves</th>\n",
              "      <th>Map Name</th>\n",
              "      <th>Named Location</th>\n",
              "      <th>Breakthrough 1</th>\n",
              "      <th>Breakthrough 2</th>\n",
              "      <th>Breakthrough 3</th>\n",
              "      <th>Breakthrough 4</th>\n",
              "      <th>Breakthrough 5</th>\n",
              "      <th>Breakthrough 6</th>\n",
              "      <th>Breakthrough 7</th>\n",
              "      <th>Breakthrough 8</th>\n",
              "      <th>Breakthrough 9</th>\n",
              "      <th>Breakthrough 10</th>\n",
              "      <th>Breakthrough 11</th>\n",
              "      <th>Breakthrough 12</th>\n",
              "      <th>Breakthrough 13</th>\n",
              "      <th>Breakthrough 14</th>\n",
              "      <th>Breakthrough 15</th>\n",
              "      <th>Breakthrough 16</th>\n",
              "      <th>Breakthrough 17</th>\n",
              "    </tr>\n",
              "  </thead>\n",
              "  <tbody>\n",
              "    <tr>\n",
              "      <th>0</th>\n",
              "      <td>0</td>\n",
              "      <td>S</td>\n",
              "      <td>0</td>\n",
              "      <td>E</td>\n",
              "      <td>Relatively Flat</td>\n",
              "      <td>140</td>\n",
              "      <td>-929</td>\n",
              "      <td>-1</td>\n",
              "      <td>2</td>\n",
              "      <td>2</td>\n",
              "      <td>4</td>\n",
              "      <td>1</td>\n",
              "      <td>2</td>\n",
              "      <td>1</td>\n",
              "      <td>4</td>\n",
              "      <td>1</td>\n",
              "      <td>BlankBigCliffsCMix_02</td>\n",
              "      <td>NaN</td>\n",
              "      <td>Martianborn Ingenuity</td>\n",
              "      <td>Vocation-Oriented Society</td>\n",
              "      <td>Martian Diet</td>\n",
              "      <td>Giant Crops</td>\n",
              "      <td>Rapid Sleep</td>\n",
              "      <td>Superfungus</td>\n",
              "      <td>Hypersensitive Photovoltaics</td>\n",
              "      <td>Superconducting Computing</td>\n",
              "      <td>Construction Nanites</td>\n",
              "      <td>Multispiral Architecture</td>\n",
              "      <td>Core Metals</td>\n",
              "      <td>Cloning</td>\n",
              "      <td>Cryo-sleep</td>\n",
              "      <td>Resilient Vegetation</td>\n",
              "      <td>Landscaping Nanites</td>\n",
              "      <td>Alien Imprints</td>\n",
              "      <td>Zero-Space Computing</td>\n",
              "    </tr>\n",
              "    <tr>\n",
              "      <th>1</th>\n",
              "      <td>0</td>\n",
              "      <td>S</td>\n",
              "      <td>1</td>\n",
              "      <td>E</td>\n",
              "      <td>Relatively Flat</td>\n",
              "      <td>100</td>\n",
              "      <td>-1160</td>\n",
              "      <td>-1</td>\n",
              "      <td>2</td>\n",
              "      <td>2</td>\n",
              "      <td>4</td>\n",
              "      <td>1</td>\n",
              "      <td>2</td>\n",
              "      <td>1</td>\n",
              "      <td>4</td>\n",
              "      <td>1</td>\n",
              "      <td>BlankBig_03</td>\n",
              "      <td>NaN</td>\n",
              "      <td>Frictionless Composites</td>\n",
              "      <td>Printed Electronics</td>\n",
              "      <td>Autonomous Hubs</td>\n",
              "      <td>Landscaping Nanites</td>\n",
              "      <td>Hypersensitive Photovoltaics</td>\n",
              "      <td>Extractor AI</td>\n",
              "      <td>Sustained Workload</td>\n",
              "      <td>Martian Diet</td>\n",
              "      <td>Resilient Vegetation</td>\n",
              "      <td>Construction Nanites</td>\n",
              "      <td>Core Rare Metals</td>\n",
              "      <td>Dry Farming</td>\n",
              "      <td>Superconducting Computing</td>\n",
              "      <td>Martianborn Ingenuity</td>\n",
              "      <td>Designed Forestation</td>\n",
              "      <td>Cloning</td>\n",
              "      <td>Service Bots</td>\n",
              "    </tr>\n",
              "    <tr>\n",
              "      <th>2</th>\n",
              "      <td>0</td>\n",
              "      <td>S</td>\n",
              "      <td>1</td>\n",
              "      <td>W</td>\n",
              "      <td>Relatively Flat</td>\n",
              "      <td>100</td>\n",
              "      <td>-1160</td>\n",
              "      <td>-3</td>\n",
              "      <td>2</td>\n",
              "      <td>2</td>\n",
              "      <td>4</td>\n",
              "      <td>1</td>\n",
              "      <td>2</td>\n",
              "      <td>2</td>\n",
              "      <td>4</td>\n",
              "      <td>1</td>\n",
              "      <td>BlankBig_01</td>\n",
              "      <td>NaN</td>\n",
              "      <td>Safe Mode</td>\n",
              "      <td>Artificial Muscles</td>\n",
              "      <td>Landscaping Nanites</td>\n",
              "      <td>Alien Imprints</td>\n",
              "      <td>Vocation-Oriented Society</td>\n",
              "      <td>Neural Empathy</td>\n",
              "      <td>Neo-Concrete</td>\n",
              "      <td>Frictionless Composites</td>\n",
              "      <td>Dry Farming</td>\n",
              "      <td>Martian Diet</td>\n",
              "      <td>Nocturnal Adaptation</td>\n",
              "      <td>Prefab Compression</td>\n",
              "      <td>Magnetic Extraction</td>\n",
              "      <td>Martian Steel</td>\n",
              "      <td>Hive Mind</td>\n",
              "      <td>Nano Refinement</td>\n",
              "      <td>Extractor AI</td>\n",
              "    </tr>\n",
              "    <tr>\n",
              "      <th>3</th>\n",
              "      <td>0</td>\n",
              "      <td>S</td>\n",
              "      <td>2</td>\n",
              "      <td>E</td>\n",
              "      <td>Relatively Flat</td>\n",
              "      <td>140</td>\n",
              "      <td>-1160</td>\n",
              "      <td>-1</td>\n",
              "      <td>2</td>\n",
              "      <td>2</td>\n",
              "      <td>4</td>\n",
              "      <td>1</td>\n",
              "      <td>2</td>\n",
              "      <td>1</td>\n",
              "      <td>4</td>\n",
              "      <td>1</td>\n",
              "      <td>BlankBigTerraceCMix_16</td>\n",
              "      <td>NaN</td>\n",
              "      <td>Dome Streamlining</td>\n",
              "      <td>Autonomous Hubs</td>\n",
              "      <td>Safe Mode</td>\n",
              "      <td>Prefab Compression</td>\n",
              "      <td>Magnetic Extraction</td>\n",
              "      <td>Overcharge Amplifications</td>\n",
              "      <td>Dry Farming</td>\n",
              "      <td>Alien Imprints</td>\n",
              "      <td>Inspiring Architecture</td>\n",
              "      <td>Ancient Terraforming Device</td>\n",
              "      <td>Nocturnal Adaptation</td>\n",
              "      <td>Good Vibrations</td>\n",
              "      <td>Nano Refinement</td>\n",
              "      <td>Superconducting Computing</td>\n",
              "      <td>Multispiral Architecture</td>\n",
              "      <td>Plasma Rocket</td>\n",
              "      <td>Superior Cables</td>\n",
              "    </tr>\n",
              "    <tr>\n",
              "      <th>4</th>\n",
              "      <td>0</td>\n",
              "      <td>S</td>\n",
              "      <td>2</td>\n",
              "      <td>W</td>\n",
              "      <td>Relatively Flat</td>\n",
              "      <td>100</td>\n",
              "      <td>-929</td>\n",
              "      <td>-3</td>\n",
              "      <td>2</td>\n",
              "      <td>2</td>\n",
              "      <td>4</td>\n",
              "      <td>1</td>\n",
              "      <td>2</td>\n",
              "      <td>3</td>\n",
              "      <td>4</td>\n",
              "      <td>1</td>\n",
              "      <td>BlankBig_01</td>\n",
              "      <td>NaN</td>\n",
              "      <td>Vector Pump</td>\n",
              "      <td>Construction Nanites</td>\n",
              "      <td>Plutonium Synthesis</td>\n",
              "      <td>Landscaping Nanites</td>\n",
              "      <td>Extractor AI</td>\n",
              "      <td>Superconducting Computing</td>\n",
              "      <td>Dry Farming</td>\n",
              "      <td>Neural Empathy</td>\n",
              "      <td>Overcharge Amplifications</td>\n",
              "      <td>Dome Streamlining</td>\n",
              "      <td>Nano Refinement</td>\n",
              "      <td>Nocturnal Adaptation</td>\n",
              "      <td>Zero-Space Computing</td>\n",
              "      <td>Eternal Fusion</td>\n",
              "      <td>Giant Crops</td>\n",
              "      <td>Magnetic Extraction</td>\n",
              "      <td>Core Metals</td>\n",
              "    </tr>\n",
              "  </tbody>\n",
              "</table>\n",
              "</div>"
            ],
            "text/plain": [
              "   Latitude ° Latitude  ...      Breakthrough 16       Breakthrough 17\n",
              "0           0        S  ...       Alien Imprints  Zero-Space Computing\n",
              "1           0        S  ...              Cloning          Service Bots\n",
              "2           0        S  ...      Nano Refinement          Extractor AI\n",
              "3           0        S  ...        Plasma Rocket       Superior Cables\n",
              "4           0        S  ...  Magnetic Extraction           Core Metals\n",
              "\n",
              "[5 rows x 35 columns]"
            ]
          },
          "metadata": {
            "tags": []
          },
          "execution_count": 5
        }
      ]
    },
    {
      "cell_type": "markdown",
      "metadata": {
        "id": "aehpjpD7_Ne0",
        "colab_type": "text"
      },
      "source": [
        "Convert Temperature (° F)   to Temperature (C)  "
      ]
    },
    {
      "cell_type": "code",
      "metadata": {
        "id": "kRe5NN87-7ZM",
        "colab_type": "code",
        "colab": {}
      },
      "source": [
        "def TempreatureCToF(t):\n",
        "  return t*9/5 +32"
      ],
      "execution_count": 0,
      "outputs": []
    },
    {
      "cell_type": "code",
      "metadata": {
        "id": "bsCHdeH7Du6t",
        "colab_type": "code",
        "outputId": "3d67e0c4-b27b-481d-c449-3280fc5f2133",
        "colab": {
          "base_uri": "https://localhost:8080/",
          "height": 367
        }
      },
      "source": [
        "df = data.copy()\n",
        "df[\"Tempreature(F)\"]=TempreatureCToF(df[\"Temperature\"])\n",
        "df.head()"
      ],
      "execution_count": 7,
      "outputs": [
        {
          "output_type": "execute_result",
          "data": {
            "text/html": [
              "<div>\n",
              "<style scoped>\n",
              "    .dataframe tbody tr th:only-of-type {\n",
              "        vertical-align: middle;\n",
              "    }\n",
              "\n",
              "    .dataframe tbody tr th {\n",
              "        vertical-align: top;\n",
              "    }\n",
              "\n",
              "    .dataframe thead th {\n",
              "        text-align: right;\n",
              "    }\n",
              "</style>\n",
              "<table border=\"1\" class=\"dataframe\">\n",
              "  <thead>\n",
              "    <tr style=\"text-align: right;\">\n",
              "      <th></th>\n",
              "      <th>Latitude °</th>\n",
              "      <th>Latitude</th>\n",
              "      <th>Longitude °</th>\n",
              "      <th>Longitude</th>\n",
              "      <th>Topography</th>\n",
              "      <th>Difficulty Challenge</th>\n",
              "      <th>Altitude</th>\n",
              "      <th>Temperature</th>\n",
              "      <th>Metals</th>\n",
              "      <th>Rare Metals</th>\n",
              "      <th>Concrete</th>\n",
              "      <th>Water</th>\n",
              "      <th>Dust Devils</th>\n",
              "      <th>Dust Storms</th>\n",
              "      <th>Meteors</th>\n",
              "      <th>Cold Waves</th>\n",
              "      <th>Map Name</th>\n",
              "      <th>Named Location</th>\n",
              "      <th>Breakthrough 1</th>\n",
              "      <th>Breakthrough 2</th>\n",
              "      <th>Breakthrough 3</th>\n",
              "      <th>Breakthrough 4</th>\n",
              "      <th>Breakthrough 5</th>\n",
              "      <th>Breakthrough 6</th>\n",
              "      <th>Breakthrough 7</th>\n",
              "      <th>Breakthrough 8</th>\n",
              "      <th>Breakthrough 9</th>\n",
              "      <th>Breakthrough 10</th>\n",
              "      <th>Breakthrough 11</th>\n",
              "      <th>Breakthrough 12</th>\n",
              "      <th>Breakthrough 13</th>\n",
              "      <th>Breakthrough 14</th>\n",
              "      <th>Breakthrough 15</th>\n",
              "      <th>Breakthrough 16</th>\n",
              "      <th>Breakthrough 17</th>\n",
              "      <th>Tempreature(F)</th>\n",
              "    </tr>\n",
              "  </thead>\n",
              "  <tbody>\n",
              "    <tr>\n",
              "      <th>0</th>\n",
              "      <td>0</td>\n",
              "      <td>S</td>\n",
              "      <td>0</td>\n",
              "      <td>E</td>\n",
              "      <td>Relatively Flat</td>\n",
              "      <td>140</td>\n",
              "      <td>-929</td>\n",
              "      <td>-1</td>\n",
              "      <td>2</td>\n",
              "      <td>2</td>\n",
              "      <td>4</td>\n",
              "      <td>1</td>\n",
              "      <td>2</td>\n",
              "      <td>1</td>\n",
              "      <td>4</td>\n",
              "      <td>1</td>\n",
              "      <td>BlankBigCliffsCMix_02</td>\n",
              "      <td>NaN</td>\n",
              "      <td>Martianborn Ingenuity</td>\n",
              "      <td>Vocation-Oriented Society</td>\n",
              "      <td>Martian Diet</td>\n",
              "      <td>Giant Crops</td>\n",
              "      <td>Rapid Sleep</td>\n",
              "      <td>Superfungus</td>\n",
              "      <td>Hypersensitive Photovoltaics</td>\n",
              "      <td>Superconducting Computing</td>\n",
              "      <td>Construction Nanites</td>\n",
              "      <td>Multispiral Architecture</td>\n",
              "      <td>Core Metals</td>\n",
              "      <td>Cloning</td>\n",
              "      <td>Cryo-sleep</td>\n",
              "      <td>Resilient Vegetation</td>\n",
              "      <td>Landscaping Nanites</td>\n",
              "      <td>Alien Imprints</td>\n",
              "      <td>Zero-Space Computing</td>\n",
              "      <td>30.2</td>\n",
              "    </tr>\n",
              "    <tr>\n",
              "      <th>1</th>\n",
              "      <td>0</td>\n",
              "      <td>S</td>\n",
              "      <td>1</td>\n",
              "      <td>E</td>\n",
              "      <td>Relatively Flat</td>\n",
              "      <td>100</td>\n",
              "      <td>-1160</td>\n",
              "      <td>-1</td>\n",
              "      <td>2</td>\n",
              "      <td>2</td>\n",
              "      <td>4</td>\n",
              "      <td>1</td>\n",
              "      <td>2</td>\n",
              "      <td>1</td>\n",
              "      <td>4</td>\n",
              "      <td>1</td>\n",
              "      <td>BlankBig_03</td>\n",
              "      <td>NaN</td>\n",
              "      <td>Frictionless Composites</td>\n",
              "      <td>Printed Electronics</td>\n",
              "      <td>Autonomous Hubs</td>\n",
              "      <td>Landscaping Nanites</td>\n",
              "      <td>Hypersensitive Photovoltaics</td>\n",
              "      <td>Extractor AI</td>\n",
              "      <td>Sustained Workload</td>\n",
              "      <td>Martian Diet</td>\n",
              "      <td>Resilient Vegetation</td>\n",
              "      <td>Construction Nanites</td>\n",
              "      <td>Core Rare Metals</td>\n",
              "      <td>Dry Farming</td>\n",
              "      <td>Superconducting Computing</td>\n",
              "      <td>Martianborn Ingenuity</td>\n",
              "      <td>Designed Forestation</td>\n",
              "      <td>Cloning</td>\n",
              "      <td>Service Bots</td>\n",
              "      <td>30.2</td>\n",
              "    </tr>\n",
              "    <tr>\n",
              "      <th>2</th>\n",
              "      <td>0</td>\n",
              "      <td>S</td>\n",
              "      <td>1</td>\n",
              "      <td>W</td>\n",
              "      <td>Relatively Flat</td>\n",
              "      <td>100</td>\n",
              "      <td>-1160</td>\n",
              "      <td>-3</td>\n",
              "      <td>2</td>\n",
              "      <td>2</td>\n",
              "      <td>4</td>\n",
              "      <td>1</td>\n",
              "      <td>2</td>\n",
              "      <td>2</td>\n",
              "      <td>4</td>\n",
              "      <td>1</td>\n",
              "      <td>BlankBig_01</td>\n",
              "      <td>NaN</td>\n",
              "      <td>Safe Mode</td>\n",
              "      <td>Artificial Muscles</td>\n",
              "      <td>Landscaping Nanites</td>\n",
              "      <td>Alien Imprints</td>\n",
              "      <td>Vocation-Oriented Society</td>\n",
              "      <td>Neural Empathy</td>\n",
              "      <td>Neo-Concrete</td>\n",
              "      <td>Frictionless Composites</td>\n",
              "      <td>Dry Farming</td>\n",
              "      <td>Martian Diet</td>\n",
              "      <td>Nocturnal Adaptation</td>\n",
              "      <td>Prefab Compression</td>\n",
              "      <td>Magnetic Extraction</td>\n",
              "      <td>Martian Steel</td>\n",
              "      <td>Hive Mind</td>\n",
              "      <td>Nano Refinement</td>\n",
              "      <td>Extractor AI</td>\n",
              "      <td>26.6</td>\n",
              "    </tr>\n",
              "    <tr>\n",
              "      <th>3</th>\n",
              "      <td>0</td>\n",
              "      <td>S</td>\n",
              "      <td>2</td>\n",
              "      <td>E</td>\n",
              "      <td>Relatively Flat</td>\n",
              "      <td>140</td>\n",
              "      <td>-1160</td>\n",
              "      <td>-1</td>\n",
              "      <td>2</td>\n",
              "      <td>2</td>\n",
              "      <td>4</td>\n",
              "      <td>1</td>\n",
              "      <td>2</td>\n",
              "      <td>1</td>\n",
              "      <td>4</td>\n",
              "      <td>1</td>\n",
              "      <td>BlankBigTerraceCMix_16</td>\n",
              "      <td>NaN</td>\n",
              "      <td>Dome Streamlining</td>\n",
              "      <td>Autonomous Hubs</td>\n",
              "      <td>Safe Mode</td>\n",
              "      <td>Prefab Compression</td>\n",
              "      <td>Magnetic Extraction</td>\n",
              "      <td>Overcharge Amplifications</td>\n",
              "      <td>Dry Farming</td>\n",
              "      <td>Alien Imprints</td>\n",
              "      <td>Inspiring Architecture</td>\n",
              "      <td>Ancient Terraforming Device</td>\n",
              "      <td>Nocturnal Adaptation</td>\n",
              "      <td>Good Vibrations</td>\n",
              "      <td>Nano Refinement</td>\n",
              "      <td>Superconducting Computing</td>\n",
              "      <td>Multispiral Architecture</td>\n",
              "      <td>Plasma Rocket</td>\n",
              "      <td>Superior Cables</td>\n",
              "      <td>30.2</td>\n",
              "    </tr>\n",
              "    <tr>\n",
              "      <th>4</th>\n",
              "      <td>0</td>\n",
              "      <td>S</td>\n",
              "      <td>2</td>\n",
              "      <td>W</td>\n",
              "      <td>Relatively Flat</td>\n",
              "      <td>100</td>\n",
              "      <td>-929</td>\n",
              "      <td>-3</td>\n",
              "      <td>2</td>\n",
              "      <td>2</td>\n",
              "      <td>4</td>\n",
              "      <td>1</td>\n",
              "      <td>2</td>\n",
              "      <td>3</td>\n",
              "      <td>4</td>\n",
              "      <td>1</td>\n",
              "      <td>BlankBig_01</td>\n",
              "      <td>NaN</td>\n",
              "      <td>Vector Pump</td>\n",
              "      <td>Construction Nanites</td>\n",
              "      <td>Plutonium Synthesis</td>\n",
              "      <td>Landscaping Nanites</td>\n",
              "      <td>Extractor AI</td>\n",
              "      <td>Superconducting Computing</td>\n",
              "      <td>Dry Farming</td>\n",
              "      <td>Neural Empathy</td>\n",
              "      <td>Overcharge Amplifications</td>\n",
              "      <td>Dome Streamlining</td>\n",
              "      <td>Nano Refinement</td>\n",
              "      <td>Nocturnal Adaptation</td>\n",
              "      <td>Zero-Space Computing</td>\n",
              "      <td>Eternal Fusion</td>\n",
              "      <td>Giant Crops</td>\n",
              "      <td>Magnetic Extraction</td>\n",
              "      <td>Core Metals</td>\n",
              "      <td>26.6</td>\n",
              "    </tr>\n",
              "  </tbody>\n",
              "</table>\n",
              "</div>"
            ],
            "text/plain": [
              "   Latitude ° Latitude  ...       Breakthrough 17 Tempreature(F)\n",
              "0           0        S  ...  Zero-Space Computing           30.2\n",
              "1           0        S  ...          Service Bots           30.2\n",
              "2           0        S  ...          Extractor AI           26.6\n",
              "3           0        S  ...       Superior Cables           30.2\n",
              "4           0        S  ...           Core Metals           26.6\n",
              "\n",
              "[5 rows x 36 columns]"
            ]
          },
          "metadata": {
            "tags": []
          },
          "execution_count": 7
        }
      ]
    },
    {
      "cell_type": "code",
      "metadata": {
        "id": "W9Zo4aygGrMt",
        "colab_type": "code",
        "outputId": "9bd157bf-eb94-4175-d6d6-7ebb10ce1865",
        "colab": {
          "base_uri": "https://localhost:8080/",
          "height": 674
        }
      },
      "source": [
        "df.dtypes"
      ],
      "execution_count": 8,
      "outputs": [
        {
          "output_type": "execute_result",
          "data": {
            "text/plain": [
              "Latitude °                int64\n",
              "Latitude                 object\n",
              "Longitude °               int64\n",
              "Longitude                object\n",
              "Topography               object\n",
              "Difficulty Challenge      int64\n",
              "Altitude                  int64\n",
              "Temperature               int64\n",
              "Metals                    int64\n",
              "Rare Metals               int64\n",
              "Concrete                  int64\n",
              "Water                     int64\n",
              "Dust Devils               int64\n",
              "Dust Storms               int64\n",
              "Meteors                   int64\n",
              "Cold Waves                int64\n",
              "Map Name                 object\n",
              "Named Location           object\n",
              "Breakthrough 1           object\n",
              "Breakthrough 2           object\n",
              "Breakthrough 3           object\n",
              "Breakthrough 4           object\n",
              "Breakthrough 5           object\n",
              "Breakthrough 6           object\n",
              "Breakthrough 7           object\n",
              "Breakthrough 8           object\n",
              "Breakthrough 9           object\n",
              "Breakthrough 10          object\n",
              "Breakthrough 11          object\n",
              "Breakthrough 12          object\n",
              "Breakthrough 13          object\n",
              "Breakthrough 14          object\n",
              "Breakthrough 15          object\n",
              "Breakthrough 16          object\n",
              "Breakthrough 17          object\n",
              "Tempreature(F)          float64\n",
              "dtype: object"
            ]
          },
          "metadata": {
            "tags": []
          },
          "execution_count": 8
        }
      ]
    },
    {
      "cell_type": "markdown",
      "metadata": {
        "id": "Rw6TYTOaHYVZ",
        "colab_type": "text"
      },
      "source": [
        "С такими данными уже можно работать. Проверим размер набора данных:"
      ]
    },
    {
      "cell_type": "code",
      "metadata": {
        "id": "KXEov3GwHY9J",
        "colab_type": "code",
        "outputId": "465fb978-1f28-4aec-ec1b-fd7127175c88",
        "colab": {
          "base_uri": "https://localhost:8080/",
          "height": 34
        }
      },
      "source": [
        "df.shape"
      ],
      "execution_count": 9,
      "outputs": [
        {
          "output_type": "execute_result",
          "data": {
            "text/plain": [
              "(50901, 36)"
            ]
          },
          "metadata": {
            "tags": []
          },
          "execution_count": 9
        }
      ]
    },
    {
      "cell_type": "markdown",
      "metadata": {
        "id": "RTID9-MLHdcT",
        "colab_type": "text"
      },
      "source": [
        "Проверим основные статистические характеристики набора данных:"
      ]
    },
    {
      "cell_type": "code",
      "metadata": {
        "id": "rKU_A9K1HbYy",
        "colab_type": "code",
        "outputId": "4efb0bd5-073f-4c7f-b52d-4eaafcc2e90e",
        "colab": {
          "base_uri": "https://localhost:8080/",
          "height": 324
        }
      },
      "source": [
        "df.describe()"
      ],
      "execution_count": 10,
      "outputs": [
        {
          "output_type": "execute_result",
          "data": {
            "text/html": [
              "<div>\n",
              "<style scoped>\n",
              "    .dataframe tbody tr th:only-of-type {\n",
              "        vertical-align: middle;\n",
              "    }\n",
              "\n",
              "    .dataframe tbody tr th {\n",
              "        vertical-align: top;\n",
              "    }\n",
              "\n",
              "    .dataframe thead th {\n",
              "        text-align: right;\n",
              "    }\n",
              "</style>\n",
              "<table border=\"1\" class=\"dataframe\">\n",
              "  <thead>\n",
              "    <tr style=\"text-align: right;\">\n",
              "      <th></th>\n",
              "      <th>Latitude °</th>\n",
              "      <th>Longitude °</th>\n",
              "      <th>Difficulty Challenge</th>\n",
              "      <th>Altitude</th>\n",
              "      <th>Temperature</th>\n",
              "      <th>Metals</th>\n",
              "      <th>Rare Metals</th>\n",
              "      <th>Concrete</th>\n",
              "      <th>Water</th>\n",
              "      <th>Dust Devils</th>\n",
              "      <th>Dust Storms</th>\n",
              "      <th>Meteors</th>\n",
              "      <th>Cold Waves</th>\n",
              "      <th>Tempreature(F)</th>\n",
              "    </tr>\n",
              "  </thead>\n",
              "  <tbody>\n",
              "    <tr>\n",
              "      <th>count</th>\n",
              "      <td>50901.000000</td>\n",
              "      <td>50901.000000</td>\n",
              "      <td>50901.000000</td>\n",
              "      <td>50901.000000</td>\n",
              "      <td>50901.00000</td>\n",
              "      <td>50901.000000</td>\n",
              "      <td>50901.000000</td>\n",
              "      <td>50901.000000</td>\n",
              "      <td>50901.000000</td>\n",
              "      <td>50901.000000</td>\n",
              "      <td>50901.000000</td>\n",
              "      <td>50901.000000</td>\n",
              "      <td>50901.000000</td>\n",
              "      <td>50901.000000</td>\n",
              "    </tr>\n",
              "    <tr>\n",
              "      <th>mean</th>\n",
              "      <td>35.248227</td>\n",
              "      <td>90.249307</td>\n",
              "      <td>133.196204</td>\n",
              "      <td>-425.882576</td>\n",
              "      <td>-35.55828</td>\n",
              "      <td>2.434962</td>\n",
              "      <td>2.434962</td>\n",
              "      <td>2.207069</td>\n",
              "      <td>2.703287</td>\n",
              "      <td>1.675802</td>\n",
              "      <td>2.214416</td>\n",
              "      <td>2.120823</td>\n",
              "      <td>2.150744</td>\n",
              "      <td>-32.004904</td>\n",
              "    </tr>\n",
              "    <tr>\n",
              "      <th>std</th>\n",
              "      <td>20.352820</td>\n",
              "      <td>52.106773</td>\n",
              "      <td>34.572810</td>\n",
              "      <td>2927.879760</td>\n",
              "      <td>30.46709</td>\n",
              "      <td>0.784851</td>\n",
              "      <td>0.784851</td>\n",
              "      <td>1.141824</td>\n",
              "      <td>1.153535</td>\n",
              "      <td>0.648712</td>\n",
              "      <td>1.138605</td>\n",
              "      <td>0.971024</td>\n",
              "      <td>1.388051</td>\n",
              "      <td>54.840762</td>\n",
              "    </tr>\n",
              "    <tr>\n",
              "      <th>min</th>\n",
              "      <td>0.000000</td>\n",
              "      <td>0.000000</td>\n",
              "      <td>100.000000</td>\n",
              "      <td>-8200.000000</td>\n",
              "      <td>-100.00000</td>\n",
              "      <td>1.000000</td>\n",
              "      <td>1.000000</td>\n",
              "      <td>1.000000</td>\n",
              "      <td>1.000000</td>\n",
              "      <td>1.000000</td>\n",
              "      <td>1.000000</td>\n",
              "      <td>1.000000</td>\n",
              "      <td>1.000000</td>\n",
              "      <td>-148.000000</td>\n",
              "    </tr>\n",
              "    <tr>\n",
              "      <th>25%</th>\n",
              "      <td>18.000000</td>\n",
              "      <td>45.000000</td>\n",
              "      <td>100.000000</td>\n",
              "      <td>-3353.000000</td>\n",
              "      <td>-72.00000</td>\n",
              "      <td>2.000000</td>\n",
              "      <td>2.000000</td>\n",
              "      <td>1.000000</td>\n",
              "      <td>2.000000</td>\n",
              "      <td>1.000000</td>\n",
              "      <td>1.000000</td>\n",
              "      <td>1.000000</td>\n",
              "      <td>1.000000</td>\n",
              "      <td>-97.600000</td>\n",
              "    </tr>\n",
              "    <tr>\n",
              "      <th>50%</th>\n",
              "      <td>35.000000</td>\n",
              "      <td>90.000000</td>\n",
              "      <td>140.000000</td>\n",
              "      <td>-121.000000</td>\n",
              "      <td>-15.00000</td>\n",
              "      <td>2.000000</td>\n",
              "      <td>2.000000</td>\n",
              "      <td>2.000000</td>\n",
              "      <td>3.000000</td>\n",
              "      <td>2.000000</td>\n",
              "      <td>2.000000</td>\n",
              "      <td>2.000000</td>\n",
              "      <td>1.000000</td>\n",
              "      <td>5.000000</td>\n",
              "    </tr>\n",
              "    <tr>\n",
              "      <th>75%</th>\n",
              "      <td>53.000000</td>\n",
              "      <td>135.000000</td>\n",
              "      <td>140.000000</td>\n",
              "      <td>1840.000000</td>\n",
              "      <td>-15.00000</td>\n",
              "      <td>3.000000</td>\n",
              "      <td>3.000000</td>\n",
              "      <td>3.000000</td>\n",
              "      <td>4.000000</td>\n",
              "      <td>2.000000</td>\n",
              "      <td>3.000000</td>\n",
              "      <td>3.000000</td>\n",
              "      <td>4.000000</td>\n",
              "      <td>5.000000</td>\n",
              "    </tr>\n",
              "    <tr>\n",
              "      <th>max</th>\n",
              "      <td>70.000000</td>\n",
              "      <td>180.000000</td>\n",
              "      <td>240.000000</td>\n",
              "      <td>21229.000000</td>\n",
              "      <td>-1.00000</td>\n",
              "      <td>4.000000</td>\n",
              "      <td>4.000000</td>\n",
              "      <td>4.000000</td>\n",
              "      <td>4.000000</td>\n",
              "      <td>4.000000</td>\n",
              "      <td>4.000000</td>\n",
              "      <td>4.000000</td>\n",
              "      <td>4.000000</td>\n",
              "      <td>30.200000</td>\n",
              "    </tr>\n",
              "  </tbody>\n",
              "</table>\n",
              "</div>"
            ],
            "text/plain": [
              "         Latitude °   Longitude °  ...    Cold Waves  Tempreature(F)\n",
              "count  50901.000000  50901.000000  ...  50901.000000    50901.000000\n",
              "mean      35.248227     90.249307  ...      2.150744      -32.004904\n",
              "std       20.352820     52.106773  ...      1.388051       54.840762\n",
              "min        0.000000      0.000000  ...      1.000000     -148.000000\n",
              "25%       18.000000     45.000000  ...      1.000000      -97.600000\n",
              "50%       35.000000     90.000000  ...      1.000000        5.000000\n",
              "75%       53.000000    135.000000  ...      4.000000        5.000000\n",
              "max       70.000000    180.000000  ...      4.000000       30.200000\n",
              "\n",
              "[8 rows x 14 columns]"
            ]
          },
          "metadata": {
            "tags": []
          },
          "execution_count": 10
        }
      ]
    },
    {
      "cell_type": "markdown",
      "metadata": {
        "id": "E-ylQYgkHkVV",
        "colab_type": "text"
      },
      "source": [
        "Проверим наличие пропусков в данных:"
      ]
    },
    {
      "cell_type": "code",
      "metadata": {
        "id": "FH5EruxPHlXM",
        "colab_type": "code",
        "outputId": "594304ba-cfa8-4e82-b4af-f8a54a5a5784",
        "colab": {
          "base_uri": "https://localhost:8080/",
          "height": 674
        }
      },
      "source": [
        "df.isnull().sum()"
      ],
      "execution_count": 11,
      "outputs": [
        {
          "output_type": "execute_result",
          "data": {
            "text/plain": [
              "Latitude °                  0\n",
              "Latitude                    0\n",
              "Longitude °                 0\n",
              "Longitude                   0\n",
              "Topography                  0\n",
              "Difficulty Challenge        0\n",
              "Altitude                    0\n",
              "Temperature                 0\n",
              "Metals                      0\n",
              "Rare Metals                 0\n",
              "Concrete                    0\n",
              "Water                       0\n",
              "Dust Devils                 0\n",
              "Dust Storms                 0\n",
              "Meteors                     0\n",
              "Cold Waves                  0\n",
              "Map Name                    0\n",
              "Named Location          38976\n",
              "Breakthrough 1              0\n",
              "Breakthrough 2              0\n",
              "Breakthrough 3              0\n",
              "Breakthrough 4              0\n",
              "Breakthrough 5              0\n",
              "Breakthrough 6              0\n",
              "Breakthrough 7              0\n",
              "Breakthrough 8              0\n",
              "Breakthrough 9              0\n",
              "Breakthrough 10             0\n",
              "Breakthrough 11             0\n",
              "Breakthrough 12             0\n",
              "Breakthrough 13             0\n",
              "Breakthrough 14             0\n",
              "Breakthrough 15             0\n",
              "Breakthrough 16             0\n",
              "Breakthrough 17             0\n",
              "Tempreature(F)              0\n",
              "dtype: int64"
            ]
          },
          "metadata": {
            "tags": []
          },
          "execution_count": 11
        }
      ]
    },
    {
      "cell_type": "markdown",
      "metadata": {
        "id": "q66qtpAtHpYc",
        "colab_type": "text"
      },
      "source": [
        "**3.2. Разделение данных**"
      ]
    },
    {
      "cell_type": "markdown",
      "metadata": {
        "id": "lISEjgeAHtMD",
        "colab_type": "text"
      },
      "source": [
        "Разделим данные на целевой столбец и признаки:"
      ]
    },
    {
      "cell_type": "code",
      "metadata": {
        "id": "9efzpyMbWdnG",
        "colab_type": "code",
        "outputId": "d7ff2618-b813-4163-b01f-4d1992145725",
        "colab": {
          "base_uri": "https://localhost:8080/",
          "height": 674
        }
      },
      "source": [
        "df.dtypes"
      ],
      "execution_count": 51,
      "outputs": [
        {
          "output_type": "execute_result",
          "data": {
            "text/plain": [
              "Latitude °                int64\n",
              "Latitude                 object\n",
              "Longitude °               int64\n",
              "Longitude                object\n",
              "Topography               object\n",
              "Difficulty Challenge      int64\n",
              "Altitude                  int64\n",
              "Temperature               int64\n",
              "Metals                    int64\n",
              "Rare Metals               int64\n",
              "Concrete                  int64\n",
              "Water                     int64\n",
              "Dust Devils               int64\n",
              "Dust Storms               int64\n",
              "Meteors                   int64\n",
              "Cold Waves                int64\n",
              "Map Name                 object\n",
              "Named Location           object\n",
              "Breakthrough 1           object\n",
              "Breakthrough 2           object\n",
              "Breakthrough 3           object\n",
              "Breakthrough 4           object\n",
              "Breakthrough 5           object\n",
              "Breakthrough 6           object\n",
              "Breakthrough 7           object\n",
              "Breakthrough 8           object\n",
              "Breakthrough 9           object\n",
              "Breakthrough 10          object\n",
              "Breakthrough 11          object\n",
              "Breakthrough 12          object\n",
              "Breakthrough 13          object\n",
              "Breakthrough 14          object\n",
              "Breakthrough 15          object\n",
              "Breakthrough 16          object\n",
              "Breakthrough 17          object\n",
              "Tempreature(F)          float64\n",
              "dtype: object"
            ]
          },
          "metadata": {
            "tags": []
          },
          "execution_count": 51
        }
      ]
    },
    {
      "cell_type": "code",
      "metadata": {
        "id": "tggZ0R-QHrWi",
        "colab_type": "code",
        "colab": {}
      },
      "source": [
        " X = df.drop([\"Difficulty Challenge\",\"Dust Devils\",\"Latitude\",\"Longitude\",\"Topography\",\"Map Name\",\n",
        "              \"Named Location\",\"Breakthrough 1\",\"Meteors\",\"Cold Waves\",\"Concrete\",\"Tempreature(F)\",\"Temperature\",\n",
        "              \"Breakthrough 2\",\"Breakthrough 3\",\"Breakthrough 4\",\"Breakthrough 5\",\"Breakthrough 6\",\n",
        "              \"Breakthrough 7\",\"Breakthrough 8\",\"Breakthrough 9\",\"Breakthrough 10\",\"Breakthrough 11\",\n",
        "              \"Breakthrough 12\",\"Breakthrough 13\",\"Breakthrough 14\",\"Breakthrough 15\",\"Breakthrough 16\",\n",
        "              \"Breakthrough 17\"              \n",
        "              ],axis=1)\n",
        " \n",
        "y = df[\"Tempreature(F)\"]"
      ],
      "execution_count": 0,
      "outputs": []
    },
    {
      "cell_type": "code",
      "metadata": {
        "id": "J6MTODsTJrFX",
        "colab_type": "code",
        "outputId": "ccb54ba8-da6a-44ef-c9e7-12857456bea1",
        "colab": {
          "base_uri": "https://localhost:8080/",
          "height": 247
        }
      },
      "source": [
        "print(X.head(), \"\\n\")\n",
        "print(y.head())"
      ],
      "execution_count": 54,
      "outputs": [
        {
          "output_type": "stream",
          "text": [
            "   Latitude °  Longitude °  Altitude  Metals  Rare Metals  Water  Dust Storms\n",
            "0           0            0      -929       2            2      1            1\n",
            "1           0            1     -1160       2            2      1            1\n",
            "2           0            1     -1160       2            2      1            2\n",
            "3           0            2     -1160       2            2      1            1\n",
            "4           0            2      -929       2            2      1            3 \n",
            "\n",
            "0    30.2\n",
            "1    30.2\n",
            "2    26.6\n",
            "3    30.2\n",
            "4    26.6\n",
            "Name: Tempreature(F), dtype: float64\n"
          ],
          "name": "stdout"
        }
      ]
    },
    {
      "cell_type": "code",
      "metadata": {
        "id": "v-cDrsbdKmtG",
        "colab_type": "code",
        "outputId": "6f70abe0-f788-4e5b-8266-c19e552d66b9",
        "colab": {
          "base_uri": "https://localhost:8080/",
          "height": 52
        }
      },
      "source": [
        " print(X.shape)\n",
        "print(y.shape)"
      ],
      "execution_count": 55,
      "outputs": [
        {
          "output_type": "stream",
          "text": [
            "(50901, 7)\n",
            "(50901,)\n"
          ],
          "name": "stdout"
        }
      ]
    },
    {
      "cell_type": "code",
      "metadata": {
        "id": "LvvSL_q8RUrE",
        "colab_type": "code",
        "outputId": "ea22a4fa-86cd-4cba-8955-71e684ecc285",
        "colab": {
          "base_uri": "https://localhost:8080/",
          "height": 197
        }
      },
      "source": [
        "X.head()"
      ],
      "execution_count": 56,
      "outputs": [
        {
          "output_type": "execute_result",
          "data": {
            "text/html": [
              "<div>\n",
              "<style scoped>\n",
              "    .dataframe tbody tr th:only-of-type {\n",
              "        vertical-align: middle;\n",
              "    }\n",
              "\n",
              "    .dataframe tbody tr th {\n",
              "        vertical-align: top;\n",
              "    }\n",
              "\n",
              "    .dataframe thead th {\n",
              "        text-align: right;\n",
              "    }\n",
              "</style>\n",
              "<table border=\"1\" class=\"dataframe\">\n",
              "  <thead>\n",
              "    <tr style=\"text-align: right;\">\n",
              "      <th></th>\n",
              "      <th>Latitude °</th>\n",
              "      <th>Longitude °</th>\n",
              "      <th>Altitude</th>\n",
              "      <th>Metals</th>\n",
              "      <th>Rare Metals</th>\n",
              "      <th>Water</th>\n",
              "      <th>Dust Storms</th>\n",
              "    </tr>\n",
              "  </thead>\n",
              "  <tbody>\n",
              "    <tr>\n",
              "      <th>0</th>\n",
              "      <td>0</td>\n",
              "      <td>0</td>\n",
              "      <td>-929</td>\n",
              "      <td>2</td>\n",
              "      <td>2</td>\n",
              "      <td>1</td>\n",
              "      <td>1</td>\n",
              "    </tr>\n",
              "    <tr>\n",
              "      <th>1</th>\n",
              "      <td>0</td>\n",
              "      <td>1</td>\n",
              "      <td>-1160</td>\n",
              "      <td>2</td>\n",
              "      <td>2</td>\n",
              "      <td>1</td>\n",
              "      <td>1</td>\n",
              "    </tr>\n",
              "    <tr>\n",
              "      <th>2</th>\n",
              "      <td>0</td>\n",
              "      <td>1</td>\n",
              "      <td>-1160</td>\n",
              "      <td>2</td>\n",
              "      <td>2</td>\n",
              "      <td>1</td>\n",
              "      <td>2</td>\n",
              "    </tr>\n",
              "    <tr>\n",
              "      <th>3</th>\n",
              "      <td>0</td>\n",
              "      <td>2</td>\n",
              "      <td>-1160</td>\n",
              "      <td>2</td>\n",
              "      <td>2</td>\n",
              "      <td>1</td>\n",
              "      <td>1</td>\n",
              "    </tr>\n",
              "    <tr>\n",
              "      <th>4</th>\n",
              "      <td>0</td>\n",
              "      <td>2</td>\n",
              "      <td>-929</td>\n",
              "      <td>2</td>\n",
              "      <td>2</td>\n",
              "      <td>1</td>\n",
              "      <td>3</td>\n",
              "    </tr>\n",
              "  </tbody>\n",
              "</table>\n",
              "</div>"
            ],
            "text/plain": [
              "   Latitude °  Longitude °  Altitude  Metals  Rare Metals  Water  Dust Storms\n",
              "0           0            0      -929       2            2      1            1\n",
              "1           0            1     -1160       2            2      1            1\n",
              "2           0            1     -1160       2            2      1            2\n",
              "3           0            2     -1160       2            2      1            1\n",
              "4           0            2      -929       2            2      1            3"
            ]
          },
          "metadata": {
            "tags": []
          },
          "execution_count": 56
        }
      ]
    },
    {
      "cell_type": "markdown",
      "metadata": {
        "id": "lPpsN3YGMWUv",
        "colab_type": "text"
      },
      "source": [
        "Предобработаем данные, чтобы методы работали лучше:"
      ]
    },
    {
      "cell_type": "code",
      "metadata": {
        "id": "W5daOs5JMXSb",
        "colab_type": "code",
        "outputId": "c54a17f2-9676-42fc-b982-29f8f98bf12a",
        "colab": {
          "base_uri": "https://localhost:8080/",
          "height": 287
        }
      },
      "source": [
        "columns = X.columns\n",
        "scaler = StandardScaler()\n",
        "X = scaler.fit_transform(X)\n",
        "pd.DataFrame(X, columns=columns).describe()\n"
      ],
      "execution_count": 57,
      "outputs": [
        {
          "output_type": "execute_result",
          "data": {
            "text/html": [
              "<div>\n",
              "<style scoped>\n",
              "    .dataframe tbody tr th:only-of-type {\n",
              "        vertical-align: middle;\n",
              "    }\n",
              "\n",
              "    .dataframe tbody tr th {\n",
              "        vertical-align: top;\n",
              "    }\n",
              "\n",
              "    .dataframe thead th {\n",
              "        text-align: right;\n",
              "    }\n",
              "</style>\n",
              "<table border=\"1\" class=\"dataframe\">\n",
              "  <thead>\n",
              "    <tr style=\"text-align: right;\">\n",
              "      <th></th>\n",
              "      <th>Latitude °</th>\n",
              "      <th>Longitude °</th>\n",
              "      <th>Altitude</th>\n",
              "      <th>Metals</th>\n",
              "      <th>Rare Metals</th>\n",
              "      <th>Water</th>\n",
              "      <th>Dust Storms</th>\n",
              "    </tr>\n",
              "  </thead>\n",
              "  <tbody>\n",
              "    <tr>\n",
              "      <th>count</th>\n",
              "      <td>5.090100e+04</td>\n",
              "      <td>5.090100e+04</td>\n",
              "      <td>5.090100e+04</td>\n",
              "      <td>5.090100e+04</td>\n",
              "      <td>5.090100e+04</td>\n",
              "      <td>5.090100e+04</td>\n",
              "      <td>5.090100e+04</td>\n",
              "    </tr>\n",
              "    <tr>\n",
              "      <th>mean</th>\n",
              "      <td>-7.345066e-14</td>\n",
              "      <td>3.911398e-16</td>\n",
              "      <td>-2.837249e-14</td>\n",
              "      <td>-6.191969e-14</td>\n",
              "      <td>-6.191969e-14</td>\n",
              "      <td>2.848557e-13</td>\n",
              "      <td>-1.750037e-14</td>\n",
              "    </tr>\n",
              "    <tr>\n",
              "      <th>std</th>\n",
              "      <td>1.000010e+00</td>\n",
              "      <td>1.000010e+00</td>\n",
              "      <td>1.000010e+00</td>\n",
              "      <td>1.000010e+00</td>\n",
              "      <td>1.000010e+00</td>\n",
              "      <td>1.000010e+00</td>\n",
              "      <td>1.000010e+00</td>\n",
              "    </tr>\n",
              "    <tr>\n",
              "      <th>min</th>\n",
              "      <td>-1.731877e+00</td>\n",
              "      <td>-1.732024e+00</td>\n",
              "      <td>-2.655230e+00</td>\n",
              "      <td>-1.828342e+00</td>\n",
              "      <td>-1.828342e+00</td>\n",
              "      <td>-1.476594e+00</td>\n",
              "      <td>-1.066593e+00</td>\n",
              "    </tr>\n",
              "    <tr>\n",
              "      <th>25%</th>\n",
              "      <td>-8.474696e-01</td>\n",
              "      <td>-8.684044e-01</td>\n",
              "      <td>-9.997494e-01</td>\n",
              "      <td>-5.542024e-01</td>\n",
              "      <td>-5.542024e-01</td>\n",
              "      <td>-6.096855e-01</td>\n",
              "      <td>-1.066593e+00</td>\n",
              "    </tr>\n",
              "    <tr>\n",
              "      <th>50%</th>\n",
              "      <td>-1.219631e-02</td>\n",
              "      <td>-4.784597e-03</td>\n",
              "      <td>1.041319e-01</td>\n",
              "      <td>-5.542024e-01</td>\n",
              "      <td>-5.542024e-01</td>\n",
              "      <td>2.572233e-01</td>\n",
              "      <td>-1.883167e-01</td>\n",
              "    </tr>\n",
              "    <tr>\n",
              "      <th>75%</th>\n",
              "      <td>8.722107e-01</td>\n",
              "      <td>8.588352e-01</td>\n",
              "      <td>7.739064e-01</td>\n",
              "      <td>7.199374e-01</td>\n",
              "      <td>7.199374e-01</td>\n",
              "      <td>1.124132e+00</td>\n",
              "      <td>6.899596e-01</td>\n",
              "    </tr>\n",
              "    <tr>\n",
              "      <th>max</th>\n",
              "      <td>1.707484e+00</td>\n",
              "      <td>1.722455e+00</td>\n",
              "      <td>7.396170e+00</td>\n",
              "      <td>1.994077e+00</td>\n",
              "      <td>1.994077e+00</td>\n",
              "      <td>1.124132e+00</td>\n",
              "      <td>1.568236e+00</td>\n",
              "    </tr>\n",
              "  </tbody>\n",
              "</table>\n",
              "</div>"
            ],
            "text/plain": [
              "         Latitude °   Longitude °  ...         Water   Dust Storms\n",
              "count  5.090100e+04  5.090100e+04  ...  5.090100e+04  5.090100e+04\n",
              "mean  -7.345066e-14  3.911398e-16  ...  2.848557e-13 -1.750037e-14\n",
              "std    1.000010e+00  1.000010e+00  ...  1.000010e+00  1.000010e+00\n",
              "min   -1.731877e+00 -1.732024e+00  ... -1.476594e+00 -1.066593e+00\n",
              "25%   -8.474696e-01 -8.684044e-01  ... -6.096855e-01 -1.066593e+00\n",
              "50%   -1.219631e-02 -4.784597e-03  ...  2.572233e-01 -1.883167e-01\n",
              "75%    8.722107e-01  8.588352e-01  ...  1.124132e+00  6.899596e-01\n",
              "max    1.707484e+00  1.722455e+00  ...  1.124132e+00  1.568236e+00\n",
              "\n",
              "[8 rows x 7 columns]"
            ]
          },
          "metadata": {
            "tags": []
          },
          "execution_count": 57
        }
      ]
    },
    {
      "cell_type": "code",
      "metadata": {
        "id": "ZjqdrmlaQbSL",
        "colab_type": "code",
        "outputId": "63449fdf-7d61-4ba3-cced-1858497ebb72",
        "colab": {
          "base_uri": "https://localhost:8080/",
          "height": 167
        }
      },
      "source": [
        "pd.DataFrame(y, columns=columns).describe()"
      ],
      "execution_count": 58,
      "outputs": [
        {
          "output_type": "execute_result",
          "data": {
            "text/html": [
              "<div>\n",
              "<style scoped>\n",
              "    .dataframe tbody tr th:only-of-type {\n",
              "        vertical-align: middle;\n",
              "    }\n",
              "\n",
              "    .dataframe tbody tr th {\n",
              "        vertical-align: top;\n",
              "    }\n",
              "\n",
              "    .dataframe thead th {\n",
              "        text-align: right;\n",
              "    }\n",
              "</style>\n",
              "<table border=\"1\" class=\"dataframe\">\n",
              "  <thead>\n",
              "    <tr style=\"text-align: right;\">\n",
              "      <th></th>\n",
              "      <th>Latitude °</th>\n",
              "      <th>Longitude °</th>\n",
              "      <th>Altitude</th>\n",
              "      <th>Metals</th>\n",
              "      <th>Rare Metals</th>\n",
              "      <th>Water</th>\n",
              "      <th>Dust Storms</th>\n",
              "    </tr>\n",
              "  </thead>\n",
              "  <tbody>\n",
              "    <tr>\n",
              "      <th>count</th>\n",
              "      <td>0</td>\n",
              "      <td>0</td>\n",
              "      <td>0</td>\n",
              "      <td>0</td>\n",
              "      <td>0</td>\n",
              "      <td>0</td>\n",
              "      <td>0</td>\n",
              "    </tr>\n",
              "    <tr>\n",
              "      <th>unique</th>\n",
              "      <td>0</td>\n",
              "      <td>0</td>\n",
              "      <td>0</td>\n",
              "      <td>0</td>\n",
              "      <td>0</td>\n",
              "      <td>0</td>\n",
              "      <td>0</td>\n",
              "    </tr>\n",
              "    <tr>\n",
              "      <th>top</th>\n",
              "      <td>NaN</td>\n",
              "      <td>NaN</td>\n",
              "      <td>NaN</td>\n",
              "      <td>NaN</td>\n",
              "      <td>NaN</td>\n",
              "      <td>NaN</td>\n",
              "      <td>NaN</td>\n",
              "    </tr>\n",
              "    <tr>\n",
              "      <th>freq</th>\n",
              "      <td>NaN</td>\n",
              "      <td>NaN</td>\n",
              "      <td>NaN</td>\n",
              "      <td>NaN</td>\n",
              "      <td>NaN</td>\n",
              "      <td>NaN</td>\n",
              "      <td>NaN</td>\n",
              "    </tr>\n",
              "  </tbody>\n",
              "</table>\n",
              "</div>"
            ],
            "text/plain": [
              "       Latitude ° Longitude ° Altitude Metals Rare Metals Water Dust Storms\n",
              "count           0           0        0      0           0     0           0\n",
              "unique          0           0        0      0           0     0           0\n",
              "top           NaN         NaN      NaN    NaN         NaN   NaN         NaN\n",
              "freq          NaN         NaN      NaN    NaN         NaN   NaN         NaN"
            ]
          },
          "metadata": {
            "tags": []
          },
          "execution_count": 58
        }
      ]
    },
    {
      "cell_type": "markdown",
      "metadata": {
        "id": "ql3FsNoiNQCZ",
        "colab_type": "text"
      },
      "source": [
        "Разделим выборку на тренировочную и тестовую:"
      ]
    },
    {
      "cell_type": "code",
      "metadata": {
        "id": "IQ4Gs6AmNQrB",
        "colab_type": "code",
        "colab": {}
      },
      "source": [
        " X_train, X_test, y_train, y_test = train_test_split(X, y,\n",
        "test_size=0.25, random_state=346705925)"
      ],
      "execution_count": 0,
      "outputs": []
    },
    {
      "cell_type": "code",
      "metadata": {
        "id": "flznUHqQNXHz",
        "colab_type": "code",
        "outputId": "ff44fe21-2d89-48a5-f34b-d9518bfe9193",
        "colab": {
          "base_uri": "https://localhost:8080/",
          "height": 87
        }
      },
      "source": [
        "print(X_train.shape)\n",
        "print(X_test.shape)\n",
        "print(y_train.shape)\n",
        "print(y_test.shape)"
      ],
      "execution_count": 60,
      "outputs": [
        {
          "output_type": "stream",
          "text": [
            "(38175, 7)\n",
            "(12726, 7)\n",
            "(38175,)\n",
            "(12726,)\n"
          ],
          "name": "stdout"
        }
      ]
    },
    {
      "cell_type": "markdown",
      "metadata": {
        "id": "gs26ECUuNcXl",
        "colab_type": "text"
      },
      "source": [
        "**3.3. Модель ближайших соседей для произвольно заданного гиперпараметра K**\n",
        "\n",
        "Напишем функцию, которая считает метрики построенной модели:"
      ]
    },
    {
      "cell_type": "code",
      "metadata": {
        "id": "N53mkqkHNaHs",
        "colab_type": "code",
        "colab": {}
      },
      "source": [
        "def test_model(model):\n",
        "  print(\"mean_absolute_error:\",\n",
        "  mean_absolute_error(y_test, model.predict(X_test)))\n",
        "  print(\"median_absolute_error:\",\n",
        "  median_absolute_error(y_test, model.predict(X_test)))\n",
        "  print(\"r2_score:\",\n",
        "  r2_score(y_test, model.predict(X_test)))"
      ],
      "execution_count": 0,
      "outputs": []
    },
    {
      "cell_type": "markdown",
      "metadata": {
        "id": "kxbrPLOBNl-6",
        "colab_type": "text"
      },
      "source": [
        "Попробуем метод ближайших соседей с гиперпараметром K = 5:"
      ]
    },
    {
      "cell_type": "code",
      "metadata": {
        "id": "pbsp2QZUNnwP",
        "colab_type": "code",
        "outputId": "4927eadf-221e-4545-afdd-816c65350b1f",
        "colab": {
          "base_uri": "https://localhost:8080/",
          "height": 70
        }
      },
      "source": [
        "reg_5 = KNeighborsRegressor(n_neighbors=5)\n",
        "reg_5.fit(X_train, y_train)"
      ],
      "execution_count": 62,
      "outputs": [
        {
          "output_type": "execute_result",
          "data": {
            "text/plain": [
              "KNeighborsRegressor(algorithm='auto', leaf_size=30, metric='minkowski',\n",
              "                    metric_params=None, n_jobs=None, n_neighbors=5, p=2,\n",
              "                    weights='uniform')"
            ]
          },
          "metadata": {
            "tags": []
          },
          "execution_count": 62
        }
      ]
    },
    {
      "cell_type": "markdown",
      "metadata": {
        "id": "YCM0Xx9jXwOE",
        "colab_type": "text"
      },
      "source": [
        "Проверим метрики построенной модели:"
      ]
    },
    {
      "cell_type": "code",
      "metadata": {
        "id": "ln8NxEkLXw7T",
        "colab_type": "code",
        "outputId": "e1bae540-a608-4ba1-9930-1f67b0c7e1d4",
        "colab": {
          "base_uri": "https://localhost:8080/",
          "height": 70
        }
      },
      "source": [
        "test_model(reg_5)"
      ],
      "execution_count": 63,
      "outputs": [
        {
          "output_type": "stream",
          "text": [
            "mean_absolute_error: 2.7600848656294215\n",
            "median_absolute_error: 0.0\n",
            "r2_score: 0.9821597871392004\n"
          ],
          "name": "stdout"
        }
      ]
    },
    {
      "cell_type": "markdown",
      "metadata": {
        "id": "Pml6OCDaX3Du",
        "colab_type": "text"
      },
      "source": [
        "**3.4. Использование кросс-валидации**"
      ]
    },
    {
      "cell_type": "markdown",
      "metadata": {
        "id": "BR6DQ1alYLDC",
        "colab_type": "text"
      },
      "source": [
        "Проверим различные стратегии кросс-валидации. Для начала посмотрим классический K-fold:"
      ]
    },
    {
      "cell_type": "code",
      "metadata": {
        "id": "mAVmyLkwX3te",
        "colab_type": "code",
        "outputId": "0ebb21a9-cd9e-448f-f87e-247b041aff87",
        "colab": {
          "base_uri": "https://localhost:8080/",
          "height": 70
        }
      },
      "source": [
        " scores = cross_val_score(KNeighborsRegressor(n_neighbors=5), X, y,\n",
        "cv=KFold(n_splits=10), scoring=\"r2\")\n",
        "print(scores)\n",
        "print(scores.mean(), \"±\", scores.std())"
      ],
      "execution_count": 64,
      "outputs": [
        {
          "output_type": "stream",
          "text": [
            "[0.17626404 0.2931496  0.57836441 0.8246736  0.92953402 0.89564835\n",
            " 0.82463454 0.78002489 0.94334315 0.81985568]\n",
            "0.7065492286077506 ± 0.25616783121172404\n"
          ],
          "name": "stdout"
        }
      ]
    },
    {
      "cell_type": "code",
      "metadata": {
        "id": "V22jVWwDYABx",
        "colab_type": "code",
        "outputId": "8a4ecc4d-9ebd-4951-88f7-099c6657cbb4",
        "colab": {
          "base_uri": "https://localhost:8080/",
          "height": 70
        }
      },
      "source": [
        "scores = cross_val_score(KNeighborsRegressor(n_neighbors=5), X, y,\n",
        "cv=RepeatedKFold(n_splits=5, n_repeats=2),\n",
        "scoring=\"r2\")\n",
        "print(scores)\n",
        "print(scores.mean(), \"±\", scores.std())"
      ],
      "execution_count": 65,
      "outputs": [
        {
          "output_type": "stream",
          "text": [
            "[0.98395929 0.98262252 0.98490856 0.98342454 0.98224064 0.98047329\n",
            " 0.98520845 0.98426963 0.98149179 0.98434172]\n",
            "0.9832940436994857 ± 0.0014678539243394358\n"
          ],
          "name": "stdout"
        }
      ]
    },
    {
      "cell_type": "code",
      "metadata": {
        "id": "UtG3HAJQYTCI",
        "colab_type": "code",
        "outputId": "81d8a6b4-3386-4fa0-b31e-d42d1329ed48",
        "colab": {
          "base_uri": "https://localhost:8080/",
          "height": 70
        }
      },
      "source": [
        "scores = cross_val_score(KNeighborsRegressor(n_neighbors=5), X, y,\n",
        "cv=ShuffleSplit(n_splits=10), scoring=\"r2\")\n",
        "print(scores)\n",
        "print(scores.mean(), \"±\", scores.std())"
      ],
      "execution_count": 66,
      "outputs": [
        {
          "output_type": "stream",
          "text": [
            "[0.9858947  0.98662581 0.98204068 0.9868731  0.98508682 0.98298309\n",
            " 0.98548452 0.98415403 0.98311727 0.98720183]\n",
            "0.9849461853633837 ± 0.001705855682817297\n"
          ],
          "name": "stdout"
        }
      ]
    },
    {
      "cell_type": "markdown",
      "metadata": {
        "id": "Z86AGGMCYWmq",
        "colab_type": "text"
      },
      "source": [
        "**3.5. Подбор гиперпараметра K**\n",
        "\n",
        "Введем список настраиваемых параметров:"
      ]
    },
    {
      "cell_type": "code",
      "metadata": {
        "id": "EUc3KptNYaU4",
        "colab_type": "code",
        "outputId": "64bee700-805e-4f43-945f-8c88c4b13f57",
        "colab": {
          "base_uri": "https://localhost:8080/",
          "height": 52
        }
      },
      "source": [
        "n_range = np.array(range(1, 50, 2))\n",
        "tuned_parameters = [{'n_neighbors': n_range}]\n",
        "n_range"
      ],
      "execution_count": 67,
      "outputs": [
        {
          "output_type": "execute_result",
          "data": {
            "text/plain": [
              "array([ 1,  3,  5,  7,  9, 11, 13, 15, 17, 19, 21, 23, 25, 27, 29, 31, 33,\n",
              "       35, 37, 39, 41, 43, 45, 47, 49])"
            ]
          },
          "metadata": {
            "tags": []
          },
          "execution_count": 67
        }
      ]
    },
    {
      "cell_type": "markdown",
      "metadata": {
        "id": "OywhIhM2YgQJ",
        "colab_type": "text"
      },
      "source": [
        "Запустим подбор параметра:"
      ]
    },
    {
      "cell_type": "code",
      "metadata": {
        "id": "Dnv8AKqA05y-",
        "colab_type": "code",
        "colab": {}
      },
      "source": [
        "gs = GridSearchCV(KNeighborsRegressor(), tuned_parameters,cv=ShuffleSplit(n_splits=10), scoring=\"r2\",\n",
        "                  return_train_score=True, n_jobs=-1)"
      ],
      "execution_count": 0,
      "outputs": []
    },
    {
      "cell_type": "code",
      "metadata": {
        "id": "lSRSsueLYhRB",
        "colab_type": "code",
        "colab": {
          "base_uri": "https://localhost:8080/",
          "height": 230
        },
        "outputId": "66b0ac19-eab5-4232-9a3f-4f350ac68a0b"
      },
      "source": [
        "gs.fit(X, y)"
      ],
      "execution_count": 69,
      "outputs": [
        {
          "output_type": "execute_result",
          "data": {
            "text/plain": [
              "GridSearchCV(cv=ShuffleSplit(n_splits=10, random_state=None, test_size=None, train_size=None),\n",
              "             error_score=nan,\n",
              "             estimator=KNeighborsRegressor(algorithm='auto', leaf_size=30,\n",
              "                                           metric='minkowski',\n",
              "                                           metric_params=None, n_jobs=None,\n",
              "                                           n_neighbors=5, p=2,\n",
              "                                           weights='uniform'),\n",
              "             iid='deprecated', n_jobs=-1,\n",
              "             param_grid=[{'n_neighbors': array([ 1,  3,  5,  7,  9, 11, 13, 15, 17, 19, 21, 23, 25, 27, 29, 31, 33,\n",
              "       35, 37, 39, 41, 43, 45, 47, 49])}],\n",
              "             pre_dispatch='2*n_jobs', refit=True, return_train_score=True,\n",
              "             scoring='r2', verbose=0)"
            ]
          },
          "metadata": {
            "tags": []
          },
          "execution_count": 69
        }
      ]
    },
    {
      "cell_type": "code",
      "metadata": {
        "id": "YK053BgO1BYU",
        "colab_type": "code",
        "colab": {
          "base_uri": "https://localhost:8080/",
          "height": 34
        },
        "outputId": "d1b8e0cd-3975-4705-83dc-d8e42885f073"
      },
      "source": [
        "gs.best_params_"
      ],
      "execution_count": 70,
      "outputs": [
        {
          "output_type": "execute_result",
          "data": {
            "text/plain": [
              "{'n_neighbors': 3}"
            ]
          },
          "metadata": {
            "tags": []
          },
          "execution_count": 70
        }
      ]
    },
    {
      "cell_type": "markdown",
      "metadata": {
        "id": "oBiTftPN44OX",
        "colab_type": "text"
      },
      "source": [
        "Проверим результаты при разных значения гиперпараметра на тренировочном наборе данных:"
      ]
    },
    {
      "cell_type": "code",
      "metadata": {
        "id": "FxoOS2B44xxB",
        "colab_type": "code",
        "colab": {
          "base_uri": "https://localhost:8080/",
          "height": 264
        },
        "outputId": "7b9971a0-2a9b-4991-fd9a-aa5629788373"
      },
      "source": [
        "plt.plot(n_range, gs.cv_results_[\"mean_train_score\"]);"
      ],
      "execution_count": 71,
      "outputs": [
        {
          "output_type": "display_data",
          "data": {
            "image/png": "[encoded data removed]",
            "text/plain": [
              "<Figure size 432x288 with 1 Axes>"
            ]
          },
          "metadata": {
            "tags": [],
            "image/png": {
              "width": 378,
              "height": 248
            },
            "needs_background": "light"
          }
        }
      ]
    },
    {
      "cell_type": "code",
      "metadata": {
        "id": "7lztzt0X40JP",
        "colab_type": "code",
        "colab": {
          "base_uri": "https://localhost:8080/",
          "height": 264
        },
        "outputId": "3ee51793-8369-4bc6-b2b7-4d8cabb7102e"
      },
      "source": [
        "plt.plot(n_range, gs.cv_results_[\"mean_test_score\"]);"
      ],
      "execution_count": 72,
      "outputs": [
        {
          "output_type": "display_data",
          "data": {
            "image/png": "[encoded data removed]",
            "text/plain": [
              "<Figure size 432x288 with 1 Axes>"
            ]
          },
          "metadata": {
            "tags": [],
            "image/png": {
              "width": 384,
              "height": 248
            },
            "needs_background": "light"
          }
        }
      ]
    },
    {
      "cell_type": "code",
      "metadata": {
        "id": "jNUyPZkL49WO",
        "colab_type": "code",
        "colab": {
          "base_uri": "https://localhost:8080/",
          "height": 70
        },
        "outputId": "832ceb81-3afc-4635-9c8c-85a5bee8df69"
      },
      "source": [
        "reg = KNeighborsRegressor(**gs.best_params_)\n",
        "reg.fit(X_train, y_train)\n",
        "test_model(reg)"
      ],
      "execution_count": 74,
      "outputs": [
        {
          "output_type": "stream",
          "text": [
            "mean_absolute_error: 2.4478547854785493\n",
            "median_absolute_error: 0.0\n",
            "r2_score: 0.9839835814841862\n"
          ],
          "name": "stdout"
        }
      ]
    },
    {
      "cell_type": "code",
      "metadata": {
        "id": "x-B_uA7r5JNR",
        "colab_type": "code",
        "colab": {}
      },
      "source": [
        "def plot_learning_curve(estimator, title, X, y, ylim=None, cv=None):\n",
        "  train_sizes=np.linspace(.1, 1.0, 5)\n",
        "  plt.figure()\n",
        "  plt.title(title)\n",
        "  if ylim is not None:\n",
        "    plt.ylim(*ylim)\n",
        "  plt.xlabel(\"Training examples\")\n",
        "  plt.ylabel(\"Score\")\n",
        "  train_sizes, train_scores, test_scores = learning_curve(\n",
        "  estimator, X, y, cv=cv, n_jobs=-1, train_sizes=train_sizes)\n",
        "  train_scores_mean = np.mean(train_scores, axis=1)\n",
        "  train_scores_std = np.std(train_scores, axis=1)\n",
        "  test_scores_mean = np.mean(test_scores, axis=1)\n",
        "  test_scores_std = np.std(test_scores, axis=1)\n",
        "  plt.grid()\n",
        "  plt.fill_between(train_sizes, train_scores_mean - train_scores_std,\n",
        "  train_scores_mean + train_scores_std, alpha=0.1,\n",
        "  color=\"r\")\n",
        "  plt.fill_between(train_sizes, test_scores_mean - test_scores_std,\n",
        "  test_scores_mean + test_scores_std, alpha=0.1,\n",
        "  color=\"g\")\n",
        "  plt.plot(train_sizes, train_scores_mean, 'o-', color=\"r\",\n",
        "  label=\"Training score\")\n",
        "  plt.plot(train_sizes, test_scores_mean, 'o-', color=\"g\",\n",
        "  label=\"Cross-validation score\")\n",
        "  plt.legend(loc=\"best\")\n",
        "  return plt"
      ],
      "execution_count": 0,
      "outputs": []
    },
    {
      "cell_type": "code",
      "metadata": {
        "id": "yt_iQpJC55uM",
        "colab_type": "code",
        "colab": {
          "base_uri": "https://localhost:8080/",
          "height": 294
        },
        "outputId": "5e026e2b-e9f7-4a0a-b167-a9ac78885ef7"
      },
      "source": [
        "plot_learning_curve(reg, str(gs.best_params_), X, y,\n",
        "cv=ShuffleSplit(n_splits=10));"
      ],
      "execution_count": 77,
      "outputs": [
        {
          "output_type": "display_data",
          "data": {
            "image/png": "[encoded data removed]",
            "text/plain": [
              "<Figure size 432x288 with 1 Axes>"
            ]
          },
          "metadata": {
            "tags": [],
            "image/png": {
              "width": 391,
              "height": 277
            },
            "needs_background": "light"
          }
        }
      ]
    },
    {
      "cell_type": "code",
      "metadata": {
        "id": "BrRHPfgo6Fsi",
        "colab_type": "code",
        "colab": {}
      },
      "source": [
        "def plot_validation_curve(estimator, title, X, y,param_name, param_range, cv,\n",
        "    scoring=\"accuracy\"):\n",
        "  train_scores, test_scores = validation_curve(\n",
        "  estimator, X, y, param_name=param_name,\n",
        "  param_range=param_range,\n",
        "  cv=cv, scoring=scoring, n_jobs=-1)\n",
        "  train_scores_mean = np.mean(train_scores, axis=1)\n",
        "  train_scores_std = np.std(train_scores, axis=1)\n",
        "  test_scores_mean = np.mean(test_scores, axis=1)\n",
        "  test_scores_std = np.std(test_scores, axis=1)\n",
        "  plt.title(title)\n",
        "  plt.xlabel(param_name)\n",
        "  plt.ylabel(\"Score\")\n",
        "  plt.ylim(0.0, 1.1)\n",
        "  lw = 2\n",
        "  plt.plot(param_range, train_scores_mean, label=\"Training score\",\n",
        "  color=\"darkorange\", lw=lw)\n",
        "  plt.fill_between(param_range, train_scores_mean - train_scores_std,\n",
        "  train_scores_mean + train_scores_std, alpha=0.2,\n",
        "  color=\"darkorange\", lw=lw)\n",
        "  plt.plot(param_range, test_scores_mean,\n",
        "  label=\"Cross-validation score\",\n",
        "  color=\"navy\", lw=lw)\n",
        "  plt.fill_between(param_range, test_scores_mean - test_scores_std,\n",
        "  test_scores_mean + test_scores_std, alpha=0.2,\n",
        "  color=\"navy\", lw=lw)\n",
        "  plt.legend(loc=\"best\")\n",
        "  return plt"
      ],
      "execution_count": 0,
      "outputs": []
    },
    {
      "cell_type": "code",
      "metadata": {
        "id": "OGiR3MzH6SUL",
        "colab_type": "code",
        "colab": {
          "base_uri": "https://localhost:8080/",
          "height": 294
        },
        "outputId": "024270fb-2c75-4425-cf53-8a5b87220a1e"
      },
      "source": [
        "plot_validation_curve(KNeighborsRegressor(), \"knn\", X, y,\n",
        "param_name=\"n_neighbors\", param_range=n_range,\n",
        "cv=ShuffleSplit(n_splits=10), scoring=\"r2\");"
      ],
      "execution_count": 79,
      "outputs": [
        {
          "output_type": "display_data",
          "data": {
            "image/png": "[encoded data removed]",
            "text/plain": [
              "<Figure size 432x288 with 1 Axes>"
            ]
          },
          "metadata": {
            "tags": [],
            "image/png": {
              "width": 385,
              "height": 277
            },
            "needs_background": "light"
          }
        }
      ]
    }
  ]
}
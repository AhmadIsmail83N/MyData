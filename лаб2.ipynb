{
  "nbformat": 4,
  "nbformat_minor": 0,
  "metadata": {
    "colab": {
      "name": "Copy of Copy of Untitled7.ipynb",
      "provenance": [],
      "toc_visible": true,
      "authorship_tag": "ABX9TyPBXcG64dCyH5Ng0bu0bKxJ",
      "include_colab_link": true
    },
    "kernelspec": {
      "name": "python3",
      "display_name": "Python 3"
    }
  },
  "cells": [
    {
      "cell_type": "markdown",
      "metadata": {
        "id": "view-in-github",
        "colab_type": "text"
      },
      "source": [
        "<a href=\"https://colab.research.google.com/github/AhmadIsmail83N/MyData/blob/master/%D0%BB%D0%B0%D0%B12.ipynb\" target=\"_parent\"><img src=\"https://colab.research.google.com/assets/colab-badge.svg\" alt=\"Open In Colab\"/></a>"
      ]
    },
    {
      "cell_type": "code",
      "metadata": {
        "id": "Guq-rgM5WVq_",
        "colab_type": "code",
        "colab": {}
      },
      "source": [
        "import pandas as pd\n",
        "pd.set_option('display.max.columns', 100)\n",
        "# to draw pictures in jupyter notebook\n",
        "%matplotlib inline \n",
        "import matplotlib.pyplot as plt\n",
        "import seaborn as sns\n",
        "# we don't like warnings\n",
        "# you can comment the following 2 lines if you'd like to\n",
        "import warnings\n",
        "warnings.filterwarnings('ignore')"
      ],
      "execution_count": 0,
      "outputs": []
    },
    {
      "cell_type": "code",
      "metadata": {
        "id": "L0WYhCidXvu6",
        "colab_type": "code",
        "outputId": "0cda7d5c-65bf-416d-f69b-d345ae23ecd2",
        "colab": {
          "base_uri": "https://localhost:8080/",
          "height": 198
        }
      },
      "source": [
        "data = pd.read_csv('/content/sample_data/diamonds.csv')\n",
        "data.head()"
      ],
      "execution_count": 0,
      "outputs": [
        {
          "output_type": "execute_result",
          "data": {
            "text/html": [
              "<div>\n",
              "<style scoped>\n",
              "    .dataframe tbody tr th:only-of-type {\n",
              "        vertical-align: middle;\n",
              "    }\n",
              "\n",
              "    .dataframe tbody tr th {\n",
              "        vertical-align: top;\n",
              "    }\n",
              "\n",
              "    .dataframe thead th {\n",
              "        text-align: right;\n",
              "    }\n",
              "</style>\n",
              "<table border=\"1\" class=\"dataframe\">\n",
              "  <thead>\n",
              "    <tr style=\"text-align: right;\">\n",
              "      <th></th>\n",
              "      <th>Unnamed: 0</th>\n",
              "      <th>carat</th>\n",
              "      <th>cut</th>\n",
              "      <th>color</th>\n",
              "      <th>clarity</th>\n",
              "      <th>depth</th>\n",
              "      <th>table</th>\n",
              "      <th>price</th>\n",
              "      <th>x</th>\n",
              "      <th>y</th>\n",
              "      <th>z</th>\n",
              "    </tr>\n",
              "  </thead>\n",
              "  <tbody>\n",
              "    <tr>\n",
              "      <th>0</th>\n",
              "      <td>1</td>\n",
              "      <td>0.23</td>\n",
              "      <td>Ideal</td>\n",
              "      <td>E</td>\n",
              "      <td>SI2</td>\n",
              "      <td>61.5</td>\n",
              "      <td>55.0</td>\n",
              "      <td>326</td>\n",
              "      <td>3.95</td>\n",
              "      <td>3.98</td>\n",
              "      <td>2.43</td>\n",
              "    </tr>\n",
              "    <tr>\n",
              "      <th>1</th>\n",
              "      <td>2</td>\n",
              "      <td>0.21</td>\n",
              "      <td>Premium</td>\n",
              "      <td>E</td>\n",
              "      <td>SI1</td>\n",
              "      <td>59.8</td>\n",
              "      <td>61.0</td>\n",
              "      <td>326</td>\n",
              "      <td>3.89</td>\n",
              "      <td>3.84</td>\n",
              "      <td>2.31</td>\n",
              "    </tr>\n",
              "    <tr>\n",
              "      <th>2</th>\n",
              "      <td>3</td>\n",
              "      <td>0.23</td>\n",
              "      <td>Good</td>\n",
              "      <td>E</td>\n",
              "      <td>VS1</td>\n",
              "      <td>56.9</td>\n",
              "      <td>65.0</td>\n",
              "      <td>327</td>\n",
              "      <td>4.05</td>\n",
              "      <td>4.07</td>\n",
              "      <td>2.31</td>\n",
              "    </tr>\n",
              "    <tr>\n",
              "      <th>3</th>\n",
              "      <td>4</td>\n",
              "      <td>0.29</td>\n",
              "      <td>Premium</td>\n",
              "      <td>I</td>\n",
              "      <td>VS2</td>\n",
              "      <td>62.4</td>\n",
              "      <td>58.0</td>\n",
              "      <td>334</td>\n",
              "      <td>4.20</td>\n",
              "      <td>4.23</td>\n",
              "      <td>2.63</td>\n",
              "    </tr>\n",
              "    <tr>\n",
              "      <th>4</th>\n",
              "      <td>5</td>\n",
              "      <td>0.31</td>\n",
              "      <td>Good</td>\n",
              "      <td>J</td>\n",
              "      <td>SI2</td>\n",
              "      <td>63.3</td>\n",
              "      <td>58.0</td>\n",
              "      <td>335</td>\n",
              "      <td>4.34</td>\n",
              "      <td>4.35</td>\n",
              "      <td>2.75</td>\n",
              "    </tr>\n",
              "  </tbody>\n",
              "</table>\n",
              "</div>"
            ],
            "text/plain": [
              "   Unnamed: 0  carat      cut color clarity  depth  table  price     x     y  \\\n",
              "0           1   0.23    Ideal     E     SI2   61.5   55.0    326  3.95  3.98   \n",
              "1           2   0.21  Premium     E     SI1   59.8   61.0    326  3.89  3.84   \n",
              "2           3   0.23     Good     E     VS1   56.9   65.0    327  4.05  4.07   \n",
              "3           4   0.29  Premium     I     VS2   62.4   58.0    334  4.20  4.23   \n",
              "4           5   0.31     Good     J     SI2   63.3   58.0    335  4.34  4.35   \n",
              "\n",
              "      z  \n",
              "0  2.43  \n",
              "1  2.31  \n",
              "2  2.31  \n",
              "3  2.63  \n",
              "4  2.75  "
            ]
          },
          "metadata": {
            "tags": []
          },
          "execution_count": 4
        }
      ]
    },
    {
      "cell_type": "code",
      "metadata": {
        "id": "HsybJt-sY41F",
        "colab_type": "code",
        "outputId": "10d2a0af-11f5-4faa-8e14-23fabeff70d8",
        "colab": {
          "base_uri": "https://localhost:8080/",
          "height": 163
        }
      },
      "source": [
        "data[\"color\"].value_counts()"
      ],
      "execution_count": 0,
      "outputs": [
        {
          "output_type": "execute_result",
          "data": {
            "text/plain": [
              "G    11292\n",
              "E     9797\n",
              "F     9542\n",
              "H     8304\n",
              "D     6775\n",
              "I     5422\n",
              "J     2808\n",
              "Name: color, dtype: int64"
            ]
          },
          "metadata": {
            "tags": []
          },
          "execution_count": 5
        }
      ]
    },
    {
      "cell_type": "code",
      "metadata": {
        "id": "G3QvJcDkZBmr",
        "colab_type": "code",
        "outputId": "7bae89d2-970e-4a43-e7e2-39302de954fe",
        "colab": {
          "base_uri": "https://localhost:8080/",
          "height": 126
        }
      },
      "source": [
        "data[\"cut\"].value_counts()"
      ],
      "execution_count": 0,
      "outputs": [
        {
          "output_type": "execute_result",
          "data": {
            "text/plain": [
              "Ideal        21551\n",
              "Premium      13791\n",
              "Very Good    12082\n",
              "Good          4906\n",
              "Fair          1610\n",
              "Name: cut, dtype: int64"
            ]
          },
          "metadata": {
            "tags": []
          },
          "execution_count": 6
        }
      ]
    },
    {
      "cell_type": "markdown",
      "metadata": {
        "id": "7GPz4CzQauuh",
        "colab_type": "text"
      },
      "source": [
        "What is the mean average of price of diamonds color D"
      ]
    },
    {
      "cell_type": "code",
      "metadata": {
        "id": "eG_9zCn9agMI",
        "colab_type": "code",
        "outputId": "17564946-ef32-4455-dccc-5e596c59b31e",
        "colab": {
          "base_uri": "https://localhost:8080/",
          "height": 35
        }
      },
      "source": [
        "data[data[\"color\"] == \"D\"][\"price\"].mean()"
      ],
      "execution_count": 0,
      "outputs": [
        {
          "output_type": "execute_result",
          "data": {
            "text/plain": [
              "3169.9540959409596"
            ]
          },
          "metadata": {
            "tags": []
          },
          "execution_count": 7
        }
      ]
    },
    {
      "cell_type": "markdown",
      "metadata": {
        "id": "gTehTfGdcDyL",
        "colab_type": "text"
      },
      "source": [
        "What is the percentage of Ideal type ?\n"
      ]
    },
    {
      "cell_type": "code",
      "metadata": {
        "id": "1DYch6YocHzo",
        "colab_type": "code",
        "outputId": "e2f545fb-3a7e-4be5-fd0e-204bfd4edeea",
        "colab": {
          "base_uri": "https://localhost:8080/",
          "height": 35
        }
      },
      "source": [
        "print(\"{0:%}\".format(data[data[\"cut\"] == \"Ideal\"]\n",
        ".shape[0] / data.shape[0]))"
      ],
      "execution_count": 0,
      "outputs": [
        {
          "output_type": "stream",
          "text": [
            "39.953652%\n"
          ],
          "name": "stdout"
        }
      ]
    },
    {
      "cell_type": "markdown",
      "metadata": {
        "id": "RmrJWrb8fyH6",
        "colab_type": "text"
      },
      "source": [
        "build a fucntion to check if cut in group high cutted\n",
        "\n",
        "then chek if true if all diamnds prices higher than 2000 are in this group"
      ]
    },
    {
      "cell_type": "code",
      "metadata": {
        "id": "tyqthNtzhND3",
        "colab_type": "code",
        "outputId": "8b2a8b81-91fd-4f74-cd99-587d80eeea20",
        "colab": {
          "base_uri": "https://localhost:8080/",
          "height": 35
        }
      },
      "source": [
        "high_cut = set([\"Ideal\", \"Premium\"])\n",
        "def high_cutted(e):\n",
        "  return e in high_cut\n",
        "data[data[\"price\"] == \">2000\"][\"cut\"].map(high_cutted).all()"
      ],
      "execution_count": 0,
      "outputs": [
        {
          "output_type": "execute_result",
          "data": {
            "text/plain": [
              "True"
            ]
          },
          "metadata": {
            "tags": []
          },
          "execution_count": 9
        }
      ]
    },
    {
      "cell_type": "markdown",
      "metadata": {
        "id": "4iCxSOWr4yQf",
        "colab_type": "text"
      },
      "source": [
        "use groupby and describe to show data prices according to features : cut and color"
      ]
    },
    {
      "cell_type": "code",
      "metadata": {
        "id": "InxdfPIJ4bmz",
        "colab_type": "code",
        "outputId": "76426df8-1ea9-45a3-f4d0-0530edd0a452",
        "colab": {
          "base_uri": "https://localhost:8080/",
          "height": 1000
        }
      },
      "source": [
        "data.groupby([\"cut\", \"color\"])[\"price\"].describe()"
      ],
      "execution_count": 0,
      "outputs": [
        {
          "output_type": "execute_result",
          "data": {
            "text/html": [
              "<div>\n",
              "<style scoped>\n",
              "    .dataframe tbody tr th:only-of-type {\n",
              "        vertical-align: middle;\n",
              "    }\n",
              "\n",
              "    .dataframe tbody tr th {\n",
              "        vertical-align: top;\n",
              "    }\n",
              "\n",
              "    .dataframe thead th {\n",
              "        text-align: right;\n",
              "    }\n",
              "</style>\n",
              "<table border=\"1\" class=\"dataframe\">\n",
              "  <thead>\n",
              "    <tr style=\"text-align: right;\">\n",
              "      <th></th>\n",
              "      <th></th>\n",
              "      <th>count</th>\n",
              "      <th>mean</th>\n",
              "      <th>std</th>\n",
              "      <th>min</th>\n",
              "      <th>25%</th>\n",
              "      <th>50%</th>\n",
              "      <th>75%</th>\n",
              "      <th>max</th>\n",
              "    </tr>\n",
              "    <tr>\n",
              "      <th>cut</th>\n",
              "      <th>color</th>\n",
              "      <th></th>\n",
              "      <th></th>\n",
              "      <th></th>\n",
              "      <th></th>\n",
              "      <th></th>\n",
              "      <th></th>\n",
              "      <th></th>\n",
              "      <th></th>\n",
              "    </tr>\n",
              "  </thead>\n",
              "  <tbody>\n",
              "    <tr>\n",
              "      <th rowspan=\"7\" valign=\"top\">Fair</th>\n",
              "      <th>D</th>\n",
              "      <td>163.0</td>\n",
              "      <td>4291.061350</td>\n",
              "      <td>3286.114238</td>\n",
              "      <td>536.0</td>\n",
              "      <td>2204.50</td>\n",
              "      <td>3730.0</td>\n",
              "      <td>4797.00</td>\n",
              "      <td>16386.0</td>\n",
              "    </tr>\n",
              "    <tr>\n",
              "      <th>E</th>\n",
              "      <td>224.0</td>\n",
              "      <td>3682.312500</td>\n",
              "      <td>2976.651645</td>\n",
              "      <td>337.0</td>\n",
              "      <td>1589.50</td>\n",
              "      <td>2956.0</td>\n",
              "      <td>4518.25</td>\n",
              "      <td>15584.0</td>\n",
              "    </tr>\n",
              "    <tr>\n",
              "      <th>F</th>\n",
              "      <td>312.0</td>\n",
              "      <td>3827.003205</td>\n",
              "      <td>3223.302685</td>\n",
              "      <td>496.0</td>\n",
              "      <td>1641.75</td>\n",
              "      <td>3035.0</td>\n",
              "      <td>4791.00</td>\n",
              "      <td>17995.0</td>\n",
              "    </tr>\n",
              "    <tr>\n",
              "      <th>G</th>\n",
              "      <td>314.0</td>\n",
              "      <td>4239.254777</td>\n",
              "      <td>3609.644379</td>\n",
              "      <td>369.0</td>\n",
              "      <td>1985.00</td>\n",
              "      <td>3057.0</td>\n",
              "      <td>5071.00</td>\n",
              "      <td>18574.0</td>\n",
              "    </tr>\n",
              "    <tr>\n",
              "      <th>H</th>\n",
              "      <td>303.0</td>\n",
              "      <td>5135.683168</td>\n",
              "      <td>3886.481847</td>\n",
              "      <td>659.0</td>\n",
              "      <td>2457.50</td>\n",
              "      <td>3816.0</td>\n",
              "      <td>6598.00</td>\n",
              "      <td>18565.0</td>\n",
              "    </tr>\n",
              "    <tr>\n",
              "      <th>I</th>\n",
              "      <td>175.0</td>\n",
              "      <td>4685.445714</td>\n",
              "      <td>3730.271132</td>\n",
              "      <td>735.0</td>\n",
              "      <td>2324.00</td>\n",
              "      <td>3246.0</td>\n",
              "      <td>5905.50</td>\n",
              "      <td>18242.0</td>\n",
              "    </tr>\n",
              "    <tr>\n",
              "      <th>J</th>\n",
              "      <td>119.0</td>\n",
              "      <td>4975.655462</td>\n",
              "      <td>4050.458933</td>\n",
              "      <td>416.0</td>\n",
              "      <td>2313.00</td>\n",
              "      <td>3302.0</td>\n",
              "      <td>5915.00</td>\n",
              "      <td>18531.0</td>\n",
              "    </tr>\n",
              "    <tr>\n",
              "      <th rowspan=\"7\" valign=\"top\">Good</th>\n",
              "      <th>D</th>\n",
              "      <td>662.0</td>\n",
              "      <td>3405.382175</td>\n",
              "      <td>3175.148710</td>\n",
              "      <td>361.0</td>\n",
              "      <td>957.25</td>\n",
              "      <td>2728.5</td>\n",
              "      <td>4581.00</td>\n",
              "      <td>18468.0</td>\n",
              "    </tr>\n",
              "    <tr>\n",
              "      <th>E</th>\n",
              "      <td>933.0</td>\n",
              "      <td>3423.644159</td>\n",
              "      <td>3330.702061</td>\n",
              "      <td>327.0</td>\n",
              "      <td>969.00</td>\n",
              "      <td>2420.0</td>\n",
              "      <td>4535.00</td>\n",
              "      <td>18236.0</td>\n",
              "    </tr>\n",
              "    <tr>\n",
              "      <th>F</th>\n",
              "      <td>909.0</td>\n",
              "      <td>3495.750275</td>\n",
              "      <td>3202.411187</td>\n",
              "      <td>357.0</td>\n",
              "      <td>1214.00</td>\n",
              "      <td>2647.0</td>\n",
              "      <td>4432.00</td>\n",
              "      <td>18686.0</td>\n",
              "    </tr>\n",
              "    <tr>\n",
              "      <th>G</th>\n",
              "      <td>871.0</td>\n",
              "      <td>4123.482204</td>\n",
              "      <td>3702.504718</td>\n",
              "      <td>394.0</td>\n",
              "      <td>1244.50</td>\n",
              "      <td>3340.0</td>\n",
              "      <td>5599.50</td>\n",
              "      <td>18788.0</td>\n",
              "    </tr>\n",
              "    <tr>\n",
              "      <th>H</th>\n",
              "      <td>702.0</td>\n",
              "      <td>4276.254986</td>\n",
              "      <td>4020.660488</td>\n",
              "      <td>368.0</td>\n",
              "      <td>1128.75</td>\n",
              "      <td>3468.5</td>\n",
              "      <td>5208.00</td>\n",
              "      <td>18640.0</td>\n",
              "    </tr>\n",
              "    <tr>\n",
              "      <th>I</th>\n",
              "      <td>522.0</td>\n",
              "      <td>5078.532567</td>\n",
              "      <td>4631.702141</td>\n",
              "      <td>351.0</td>\n",
              "      <td>1681.00</td>\n",
              "      <td>3639.5</td>\n",
              "      <td>7921.50</td>\n",
              "      <td>18707.0</td>\n",
              "    </tr>\n",
              "    <tr>\n",
              "      <th>J</th>\n",
              "      <td>307.0</td>\n",
              "      <td>4574.172638</td>\n",
              "      <td>3707.790845</td>\n",
              "      <td>335.0</td>\n",
              "      <td>1824.00</td>\n",
              "      <td>3733.0</td>\n",
              "      <td>6522.00</td>\n",
              "      <td>18325.0</td>\n",
              "    </tr>\n",
              "    <tr>\n",
              "      <th rowspan=\"7\" valign=\"top\">Ideal</th>\n",
              "      <th>D</th>\n",
              "      <td>2834.0</td>\n",
              "      <td>2629.094566</td>\n",
              "      <td>3001.069919</td>\n",
              "      <td>367.0</td>\n",
              "      <td>854.25</td>\n",
              "      <td>1576.0</td>\n",
              "      <td>3102.00</td>\n",
              "      <td>18693.0</td>\n",
              "    </tr>\n",
              "    <tr>\n",
              "      <th>E</th>\n",
              "      <td>3903.0</td>\n",
              "      <td>2597.550090</td>\n",
              "      <td>2956.007149</td>\n",
              "      <td>326.0</td>\n",
              "      <td>872.00</td>\n",
              "      <td>1437.0</td>\n",
              "      <td>3013.50</td>\n",
              "      <td>18729.0</td>\n",
              "    </tr>\n",
              "    <tr>\n",
              "      <th>F</th>\n",
              "      <td>3826.0</td>\n",
              "      <td>3374.939362</td>\n",
              "      <td>3766.635328</td>\n",
              "      <td>408.0</td>\n",
              "      <td>900.25</td>\n",
              "      <td>1775.0</td>\n",
              "      <td>4121.50</td>\n",
              "      <td>18780.0</td>\n",
              "    </tr>\n",
              "    <tr>\n",
              "      <th>G</th>\n",
              "      <td>4884.0</td>\n",
              "      <td>3720.706388</td>\n",
              "      <td>4006.262468</td>\n",
              "      <td>361.0</td>\n",
              "      <td>891.00</td>\n",
              "      <td>1857.5</td>\n",
              "      <td>5584.50</td>\n",
              "      <td>18806.0</td>\n",
              "    </tr>\n",
              "    <tr>\n",
              "      <th>H</th>\n",
              "      <td>3115.0</td>\n",
              "      <td>3889.334831</td>\n",
              "      <td>4013.375228</td>\n",
              "      <td>357.0</td>\n",
              "      <td>815.50</td>\n",
              "      <td>2278.0</td>\n",
              "      <td>5606.00</td>\n",
              "      <td>18760.0</td>\n",
              "    </tr>\n",
              "    <tr>\n",
              "      <th>I</th>\n",
              "      <td>2093.0</td>\n",
              "      <td>4451.970377</td>\n",
              "      <td>4505.150405</td>\n",
              "      <td>348.0</td>\n",
              "      <td>849.00</td>\n",
              "      <td>2659.0</td>\n",
              "      <td>6143.00</td>\n",
              "      <td>18779.0</td>\n",
              "    </tr>\n",
              "    <tr>\n",
              "      <th>J</th>\n",
              "      <td>896.0</td>\n",
              "      <td>4918.186384</td>\n",
              "      <td>4476.206836</td>\n",
              "      <td>340.0</td>\n",
              "      <td>1132.50</td>\n",
              "      <td>4096.0</td>\n",
              "      <td>6731.50</td>\n",
              "      <td>18508.0</td>\n",
              "    </tr>\n",
              "    <tr>\n",
              "      <th rowspan=\"7\" valign=\"top\">Premium</th>\n",
              "      <th>D</th>\n",
              "      <td>1603.0</td>\n",
              "      <td>3631.292576</td>\n",
              "      <td>3711.634010</td>\n",
              "      <td>367.0</td>\n",
              "      <td>958.00</td>\n",
              "      <td>2009.0</td>\n",
              "      <td>4915.00</td>\n",
              "      <td>18575.0</td>\n",
              "    </tr>\n",
              "    <tr>\n",
              "      <th>E</th>\n",
              "      <td>2337.0</td>\n",
              "      <td>3538.914420</td>\n",
              "      <td>3794.987184</td>\n",
              "      <td>326.0</td>\n",
              "      <td>964.00</td>\n",
              "      <td>1928.0</td>\n",
              "      <td>4628.00</td>\n",
              "      <td>18477.0</td>\n",
              "    </tr>\n",
              "    <tr>\n",
              "      <th>F</th>\n",
              "      <td>2331.0</td>\n",
              "      <td>4324.890176</td>\n",
              "      <td>4012.022756</td>\n",
              "      <td>342.0</td>\n",
              "      <td>1122.00</td>\n",
              "      <td>2841.0</td>\n",
              "      <td>5988.00</td>\n",
              "      <td>18791.0</td>\n",
              "    </tr>\n",
              "    <tr>\n",
              "      <th>G</th>\n",
              "      <td>2924.0</td>\n",
              "      <td>4500.742134</td>\n",
              "      <td>4356.571034</td>\n",
              "      <td>382.0</td>\n",
              "      <td>984.00</td>\n",
              "      <td>2745.0</td>\n",
              "      <td>6553.25</td>\n",
              "      <td>18741.0</td>\n",
              "    </tr>\n",
              "    <tr>\n",
              "      <th>H</th>\n",
              "      <td>2360.0</td>\n",
              "      <td>5216.706780</td>\n",
              "      <td>4466.189717</td>\n",
              "      <td>368.0</td>\n",
              "      <td>1168.25</td>\n",
              "      <td>4511.0</td>\n",
              "      <td>6727.50</td>\n",
              "      <td>18795.0</td>\n",
              "    </tr>\n",
              "    <tr>\n",
              "      <th>I</th>\n",
              "      <td>1428.0</td>\n",
              "      <td>5946.180672</td>\n",
              "      <td>5053.746146</td>\n",
              "      <td>334.0</td>\n",
              "      <td>1697.50</td>\n",
              "      <td>4640.0</td>\n",
              "      <td>8930.00</td>\n",
              "      <td>18823.0</td>\n",
              "    </tr>\n",
              "    <tr>\n",
              "      <th>J</th>\n",
              "      <td>808.0</td>\n",
              "      <td>6294.591584</td>\n",
              "      <td>4788.936691</td>\n",
              "      <td>363.0</td>\n",
              "      <td>2202.75</td>\n",
              "      <td>5063.0</td>\n",
              "      <td>9050.25</td>\n",
              "      <td>18710.0</td>\n",
              "    </tr>\n",
              "    <tr>\n",
              "      <th rowspan=\"7\" valign=\"top\">Very Good</th>\n",
              "      <th>D</th>\n",
              "      <td>1513.0</td>\n",
              "      <td>3470.467284</td>\n",
              "      <td>3523.753268</td>\n",
              "      <td>357.0</td>\n",
              "      <td>850.00</td>\n",
              "      <td>2310.0</td>\n",
              "      <td>4633.00</td>\n",
              "      <td>18542.0</td>\n",
              "    </tr>\n",
              "    <tr>\n",
              "      <th>E</th>\n",
              "      <td>2400.0</td>\n",
              "      <td>3214.652083</td>\n",
              "      <td>3408.023634</td>\n",
              "      <td>352.0</td>\n",
              "      <td>755.00</td>\n",
              "      <td>1989.5</td>\n",
              "      <td>4355.00</td>\n",
              "      <td>18731.0</td>\n",
              "    </tr>\n",
              "    <tr>\n",
              "      <th>F</th>\n",
              "      <td>2164.0</td>\n",
              "      <td>3778.820240</td>\n",
              "      <td>3786.124033</td>\n",
              "      <td>357.0</td>\n",
              "      <td>905.75</td>\n",
              "      <td>2471.0</td>\n",
              "      <td>5007.00</td>\n",
              "      <td>18777.0</td>\n",
              "    </tr>\n",
              "    <tr>\n",
              "      <th>G</th>\n",
              "      <td>2299.0</td>\n",
              "      <td>3872.753806</td>\n",
              "      <td>3861.375464</td>\n",
              "      <td>354.0</td>\n",
              "      <td>854.00</td>\n",
              "      <td>2437.0</td>\n",
              "      <td>5759.00</td>\n",
              "      <td>18818.0</td>\n",
              "    </tr>\n",
              "    <tr>\n",
              "      <th>H</th>\n",
              "      <td>1824.0</td>\n",
              "      <td>4535.390351</td>\n",
              "      <td>4185.798202</td>\n",
              "      <td>337.0</td>\n",
              "      <td>1089.75</td>\n",
              "      <td>3734.0</td>\n",
              "      <td>5887.25</td>\n",
              "      <td>18803.0</td>\n",
              "    </tr>\n",
              "    <tr>\n",
              "      <th>I</th>\n",
              "      <td>1204.0</td>\n",
              "      <td>5255.879568</td>\n",
              "      <td>4687.104775</td>\n",
              "      <td>336.0</td>\n",
              "      <td>1810.75</td>\n",
              "      <td>3888.0</td>\n",
              "      <td>7394.00</td>\n",
              "      <td>18500.0</td>\n",
              "    </tr>\n",
              "    <tr>\n",
              "      <th>J</th>\n",
              "      <td>678.0</td>\n",
              "      <td>5103.513274</td>\n",
              "      <td>4135.652742</td>\n",
              "      <td>336.0</td>\n",
              "      <td>1897.50</td>\n",
              "      <td>4113.0</td>\n",
              "      <td>7534.00</td>\n",
              "      <td>18430.0</td>\n",
              "    </tr>\n",
              "  </tbody>\n",
              "</table>\n",
              "</div>"
            ],
            "text/plain": [
              "                  count         mean          std    min      25%     50%  \\\n",
              "cut       color                                                             \n",
              "Fair      D       163.0  4291.061350  3286.114238  536.0  2204.50  3730.0   \n",
              "          E       224.0  3682.312500  2976.651645  337.0  1589.50  2956.0   \n",
              "          F       312.0  3827.003205  3223.302685  496.0  1641.75  3035.0   \n",
              "          G       314.0  4239.254777  3609.644379  369.0  1985.00  3057.0   \n",
              "          H       303.0  5135.683168  3886.481847  659.0  2457.50  3816.0   \n",
              "          I       175.0  4685.445714  3730.271132  735.0  2324.00  3246.0   \n",
              "          J       119.0  4975.655462  4050.458933  416.0  2313.00  3302.0   \n",
              "Good      D       662.0  3405.382175  3175.148710  361.0   957.25  2728.5   \n",
              "          E       933.0  3423.644159  3330.702061  327.0   969.00  2420.0   \n",
              "          F       909.0  3495.750275  3202.411187  357.0  1214.00  2647.0   \n",
              "          G       871.0  4123.482204  3702.504718  394.0  1244.50  3340.0   \n",
              "          H       702.0  4276.254986  4020.660488  368.0  1128.75  3468.5   \n",
              "          I       522.0  5078.532567  4631.702141  351.0  1681.00  3639.5   \n",
              "          J       307.0  4574.172638  3707.790845  335.0  1824.00  3733.0   \n",
              "Ideal     D      2834.0  2629.094566  3001.069919  367.0   854.25  1576.0   \n",
              "          E      3903.0  2597.550090  2956.007149  326.0   872.00  1437.0   \n",
              "          F      3826.0  3374.939362  3766.635328  408.0   900.25  1775.0   \n",
              "          G      4884.0  3720.706388  4006.262468  361.0   891.00  1857.5   \n",
              "          H      3115.0  3889.334831  4013.375228  357.0   815.50  2278.0   \n",
              "          I      2093.0  4451.970377  4505.150405  348.0   849.00  2659.0   \n",
              "          J       896.0  4918.186384  4476.206836  340.0  1132.50  4096.0   \n",
              "Premium   D      1603.0  3631.292576  3711.634010  367.0   958.00  2009.0   \n",
              "          E      2337.0  3538.914420  3794.987184  326.0   964.00  1928.0   \n",
              "          F      2331.0  4324.890176  4012.022756  342.0  1122.00  2841.0   \n",
              "          G      2924.0  4500.742134  4356.571034  382.0   984.00  2745.0   \n",
              "          H      2360.0  5216.706780  4466.189717  368.0  1168.25  4511.0   \n",
              "          I      1428.0  5946.180672  5053.746146  334.0  1697.50  4640.0   \n",
              "          J       808.0  6294.591584  4788.936691  363.0  2202.75  5063.0   \n",
              "Very Good D      1513.0  3470.467284  3523.753268  357.0   850.00  2310.0   \n",
              "          E      2400.0  3214.652083  3408.023634  352.0   755.00  1989.5   \n",
              "          F      2164.0  3778.820240  3786.124033  357.0   905.75  2471.0   \n",
              "          G      2299.0  3872.753806  3861.375464  354.0   854.00  2437.0   \n",
              "          H      1824.0  4535.390351  4185.798202  337.0  1089.75  3734.0   \n",
              "          I      1204.0  5255.879568  4687.104775  336.0  1810.75  3888.0   \n",
              "          J       678.0  5103.513274  4135.652742  336.0  1897.50  4113.0   \n",
              "\n",
              "                     75%      max  \n",
              "cut       color                    \n",
              "Fair      D      4797.00  16386.0  \n",
              "          E      4518.25  15584.0  \n",
              "          F      4791.00  17995.0  \n",
              "          G      5071.00  18574.0  \n",
              "          H      6598.00  18565.0  \n",
              "          I      5905.50  18242.0  \n",
              "          J      5915.00  18531.0  \n",
              "Good      D      4581.00  18468.0  \n",
              "          E      4535.00  18236.0  \n",
              "          F      4432.00  18686.0  \n",
              "          G      5599.50  18788.0  \n",
              "          H      5208.00  18640.0  \n",
              "          I      7921.50  18707.0  \n",
              "          J      6522.00  18325.0  \n",
              "Ideal     D      3102.00  18693.0  \n",
              "          E      3013.50  18729.0  \n",
              "          F      4121.50  18780.0  \n",
              "          G      5584.50  18806.0  \n",
              "          H      5606.00  18760.0  \n",
              "          I      6143.00  18779.0  \n",
              "          J      6731.50  18508.0  \n",
              "Premium   D      4915.00  18575.0  \n",
              "          E      4628.00  18477.0  \n",
              "          F      5988.00  18791.0  \n",
              "          G      6553.25  18741.0  \n",
              "          H      6727.50  18795.0  \n",
              "          I      8930.00  18823.0  \n",
              "          J      9050.25  18710.0  \n",
              "Very Good D      4633.00  18542.0  \n",
              "          E      4355.00  18731.0  \n",
              "          F      5007.00  18777.0  \n",
              "          G      5759.00  18818.0  \n",
              "          H      5887.25  18803.0  \n",
              "          I      7394.00  18500.0  \n",
              "          J      7534.00  18430.0  "
            ]
          },
          "metadata": {
            "tags": []
          },
          "execution_count": 10
        }
      ]
    },
    {
      "cell_type": "markdown",
      "metadata": {
        "id": "nKsHC-wt7tZ5",
        "colab_type": "text"
      },
      "source": [
        "find max price of Ideal diamonds of color D"
      ]
    },
    {
      "cell_type": "code",
      "metadata": {
        "id": "4qUAFuyI6soO",
        "colab_type": "code",
        "outputId": "adf69e3f-b5a2-48c8-b154-ac0b2f3bff7e",
        "colab": {
          "base_uri": "https://localhost:8080/",
          "height": 35
        }
      },
      "source": [
        "data[(data[\"color\"] == \"D\")\n",
        "& (data[\"cut\"] == \"Ideal\")][\"price\"].max()"
      ],
      "execution_count": 0,
      "outputs": [
        {
          "output_type": "execute_result",
          "data": {
            "text/plain": [
              "18693"
            ]
          },
          "metadata": {
            "tags": []
          },
          "execution_count": 11
        }
      ]
    },
    {
      "cell_type": "markdown",
      "metadata": {
        "id": "QJ3zpdOU1TEk",
        "colab_type": "text"
      },
      "source": [
        "Calculate the mean average of diamonds depth then\n",
        "\n",
        "check of all which has depth > mean and price >900\n"
      ]
    },
    {
      "cell_type": "code",
      "metadata": {
        "id": "1cO-ZJ0yXZpB",
        "colab_type": "code",
        "outputId": "044b18d5-6bbe-4216-a7bd-46aa365b03d6",
        "colab": {
          "base_uri": "https://localhost:8080/",
          "height": 72
        }
      },
      "source": [
        "m = data[\"depth\"].mean()\n",
        "print(\"MeanAverage is {} depth.\".format(m))\n",
        "diamonds = data[data[\"depth\"] >= m]\n",
        "c = diamonds.shape[0]\n",
        "print(\"{} diamonds with depth greater than this are: \".format(c))\n",
        "s = diamonds[diamonds[\"price\"] >= 900].shape[0]\n",
        "print(\"{0:%} get price of >900.\".format(s / c))"
      ],
      "execution_count": 0,
      "outputs": [
        {
          "output_type": "stream",
          "text": [
            "MeanAverage is 61.74940489432624 depth.\n",
            "28909 diamonds with depth greater than this are: \n",
            "76.834204% get price of >900.\n"
          ],
          "name": "stdout"
        }
      ]
    },
    {
      "cell_type": "code",
      "metadata": {
        "id": "EUUABZbqCUGZ",
        "colab_type": "code",
        "outputId": "5c900d57-88be-49e0-ea82-5557a40c0739",
        "colab": {
          "base_uri": "https://localhost:8080/",
          "height": 35
        }
      },
      "source": [
        "A = (pd.read_csv('/content/sample_data/diamonds.csv',\n",
        "                 header=None,names=[\"color\", \"cut\"])\n",
        "   .drop(\"cut\", axis=1))"
      ],
      "execution_count": 0,
      "outputs": [
        {
          "output_type": "stream",
          "text": [
            "ERROR! Session/line number was not unique in database. History logging moved to new session 74\n"
          ],
          "name": "stdout"
        }
      ]
    },
    {
      "cell_type": "code",
      "metadata": {
        "id": "bs04jC-sFisk",
        "colab_type": "code",
        "outputId": "6ecd50b1-831d-4bcc-bdac-244645342ae8",
        "colab": {
          "base_uri": "https://localhost:8080/",
          "height": 198
        }
      },
      "source": [
        "A.head()"
      ],
      "execution_count": 0,
      "outputs": [
        {
          "output_type": "execute_result",
          "data": {
            "text/html": [
              "<div>\n",
              "<style scoped>\n",
              "    .dataframe tbody tr th:only-of-type {\n",
              "        vertical-align: middle;\n",
              "    }\n",
              "\n",
              "    .dataframe tbody tr th {\n",
              "        vertical-align: top;\n",
              "    }\n",
              "\n",
              "    .dataframe thead th {\n",
              "        text-align: right;\n",
              "    }\n",
              "</style>\n",
              "<table border=\"1\" class=\"dataframe\">\n",
              "  <thead>\n",
              "    <tr style=\"text-align: right;\">\n",
              "      <th></th>\n",
              "      <th></th>\n",
              "      <th></th>\n",
              "      <th></th>\n",
              "      <th></th>\n",
              "      <th></th>\n",
              "      <th></th>\n",
              "      <th></th>\n",
              "      <th></th>\n",
              "      <th>color</th>\n",
              "      <th>cut</th>\n",
              "    </tr>\n",
              "  </thead>\n",
              "  <tbody>\n",
              "    <tr>\n",
              "      <th>NaN</th>\n",
              "      <th>carat</th>\n",
              "      <th>cut</th>\n",
              "      <th>color</th>\n",
              "      <th>clarity</th>\n",
              "      <th>depth</th>\n",
              "      <th>table</th>\n",
              "      <th>price</th>\n",
              "      <th>x</th>\n",
              "      <td>y</td>\n",
              "      <td>z</td>\n",
              "    </tr>\n",
              "    <tr>\n",
              "      <th>1.0</th>\n",
              "      <th>0.23</th>\n",
              "      <th>Ideal</th>\n",
              "      <th>E</th>\n",
              "      <th>SI2</th>\n",
              "      <th>61.5</th>\n",
              "      <th>55</th>\n",
              "      <th>326</th>\n",
              "      <th>3.95</th>\n",
              "      <td>3.98</td>\n",
              "      <td>2.43</td>\n",
              "    </tr>\n",
              "    <tr>\n",
              "      <th>2.0</th>\n",
              "      <th>0.21</th>\n",
              "      <th>Premium</th>\n",
              "      <th>E</th>\n",
              "      <th>SI1</th>\n",
              "      <th>59.8</th>\n",
              "      <th>61</th>\n",
              "      <th>326</th>\n",
              "      <th>3.89</th>\n",
              "      <td>3.84</td>\n",
              "      <td>2.31</td>\n",
              "    </tr>\n",
              "    <tr>\n",
              "      <th>3.0</th>\n",
              "      <th>0.23</th>\n",
              "      <th>Good</th>\n",
              "      <th>E</th>\n",
              "      <th>VS1</th>\n",
              "      <th>56.9</th>\n",
              "      <th>65</th>\n",
              "      <th>327</th>\n",
              "      <th>4.05</th>\n",
              "      <td>4.07</td>\n",
              "      <td>2.31</td>\n",
              "    </tr>\n",
              "    <tr>\n",
              "      <th>4.0</th>\n",
              "      <th>0.29</th>\n",
              "      <th>Premium</th>\n",
              "      <th>I</th>\n",
              "      <th>VS2</th>\n",
              "      <th>62.4</th>\n",
              "      <th>58</th>\n",
              "      <th>334</th>\n",
              "      <th>4.2</th>\n",
              "      <td>4.23</td>\n",
              "      <td>2.63</td>\n",
              "    </tr>\n",
              "  </tbody>\n",
              "</table>\n",
              "</div>"
            ],
            "text/plain": [
              "                                                           color   cut\n",
              "NaN     carat cut     color clarity depth table price x        y     z\n",
              "1.0     0.23  Ideal   E     SI2     61.5  55    326   3.95  3.98  2.43\n",
              "2.0     0.21  Premium E     SI1     59.8  61    326   3.89  3.84  2.31\n",
              "3.0     0.23  Good    E     VS1     56.9  65    327   4.05  4.07  2.31\n",
              "4.0     0.29  Premium I     VS2     62.4  58    334   4.2   4.23  2.63"
            ]
          },
          "metadata": {
            "tags": []
          },
          "execution_count": 48
        }
      ]
    },
    {
      "cell_type": "code",
      "metadata": {
        "id": "v1CIaK_BO1FI",
        "colab_type": "code",
        "colab": {}
      },
      "source": [
        "wind = (pd.read_csv('/content/sample_data/wind speed.csv', header=None,\n",
        "names=[\"row\", \"UNIX\", \"date\",\n",
        "\"time\", \"speed\", \"text\"])\n",
        ".drop(\"text\", axis=1))"
      ],
      "execution_count": 0,
      "outputs": []
    },
    {
      "cell_type": "code",
      "metadata": {
        "id": "PNXeeckQO-C2",
        "colab_type": "code",
        "outputId": "b18ac715-1d9e-4814-8e58-89fff3c3726f",
        "colab": {
          "base_uri": "https://localhost:8080/",
          "height": 198
        }
      },
      "source": [
        " wind.head()"
      ],
      "execution_count": 0,
      "outputs": [
        {
          "output_type": "execute_result",
          "data": {
            "text/html": [
              "<div>\n",
              "<style scoped>\n",
              "    .dataframe tbody tr th:only-of-type {\n",
              "        vertical-align: middle;\n",
              "    }\n",
              "\n",
              "    .dataframe tbody tr th {\n",
              "        vertical-align: top;\n",
              "    }\n",
              "\n",
              "    .dataframe thead th {\n",
              "        text-align: right;\n",
              "    }\n",
              "</style>\n",
              "<table border=\"1\" class=\"dataframe\">\n",
              "  <thead>\n",
              "    <tr style=\"text-align: right;\">\n",
              "      <th></th>\n",
              "      <th>row</th>\n",
              "      <th>UNIX</th>\n",
              "      <th>date</th>\n",
              "      <th>time</th>\n",
              "      <th>speed</th>\n",
              "    </tr>\n",
              "  </thead>\n",
              "  <tbody>\n",
              "    <tr>\n",
              "      <th>0</th>\n",
              "      <td>1</td>\n",
              "      <td>1475315718</td>\n",
              "      <td>2016-09-30</td>\n",
              "      <td>23:55:18</td>\n",
              "      <td>7.87</td>\n",
              "    </tr>\n",
              "    <tr>\n",
              "      <th>1</th>\n",
              "      <td>2</td>\n",
              "      <td>1475315423</td>\n",
              "      <td>2016-09-30</td>\n",
              "      <td>23:50:23</td>\n",
              "      <td>7.87</td>\n",
              "    </tr>\n",
              "    <tr>\n",
              "      <th>2</th>\n",
              "      <td>3</td>\n",
              "      <td>1475315124</td>\n",
              "      <td>2016-09-30</td>\n",
              "      <td>23:45:24</td>\n",
              "      <td>9.00</td>\n",
              "    </tr>\n",
              "    <tr>\n",
              "      <th>3</th>\n",
              "      <td>4</td>\n",
              "      <td>1475314821</td>\n",
              "      <td>2016-09-30</td>\n",
              "      <td>23:40:21</td>\n",
              "      <td>13.50</td>\n",
              "    </tr>\n",
              "    <tr>\n",
              "      <th>4</th>\n",
              "      <td>5</td>\n",
              "      <td>1475314522</td>\n",
              "      <td>2016-09-30</td>\n",
              "      <td>23:35:22</td>\n",
              "      <td>15.75</td>\n",
              "    </tr>\n",
              "  </tbody>\n",
              "</table>\n",
              "</div>"
            ],
            "text/plain": [
              "   row        UNIX        date      time  speed\n",
              "0    1  1475315718  2016-09-30  23:55:18   7.87\n",
              "1    2  1475315423  2016-09-30  23:50:23   7.87\n",
              "2    3  1475315124  2016-09-30  23:45:24   9.00\n",
              "3    4  1475314821  2016-09-30  23:40:21  13.50\n",
              "4    5  1475314522  2016-09-30  23:35:22  15.75"
            ]
          },
          "metadata": {
            "tags": []
          },
          "execution_count": 51
        }
      ]
    },
    {
      "cell_type": "code",
      "metadata": {
        "id": "4_ze8dmZPVQL",
        "colab_type": "code",
        "outputId": "2b06dad1-50b9-4b01-f740-aaa3e0bc479a",
        "colab": {
          "base_uri": "https://localhost:8080/",
          "height": 126
        }
      },
      "source": [
        "wind.dtypes"
      ],
      "execution_count": 0,
      "outputs": [
        {
          "output_type": "execute_result",
          "data": {
            "text/plain": [
              "row        int64\n",
              "UNIX       int64\n",
              "date      object\n",
              "time      object\n",
              "speed    float64\n",
              "dtype: object"
            ]
          },
          "metadata": {
            "tags": []
          },
          "execution_count": 52
        }
      ]
    },
    {
      "cell_type": "code",
      "metadata": {
        "id": "sTvPuYoDPsFp",
        "colab_type": "code",
        "colab": {}
      },
      "source": [
        "from pandasql import sqldf\n",
        "pysqldf = lambda q: sqldf(q, globals())"
      ],
      "execution_count": 0,
      "outputs": []
    },
    {
      "cell_type": "code",
      "metadata": {
        "id": "YkMi765-PhDe",
        "colab_type": "code",
        "outputId": "e2a2488d-eefc-47e6-c12d-b51eb817ca5c",
        "colab": {
          "base_uri": "https://localhost:8080/",
          "height": 198
        }
      },
      "source": [
        " pysqldf(\"\"\" SELECT w.row, w.UNIX, w.date, w.time,w.speed\n",
        "FROM wind w\n",
        "where w.speed>9 \n",
        "\"\"\").head()"
      ],
      "execution_count": 0,
      "outputs": [
        {
          "output_type": "execute_result",
          "data": {
            "text/html": [
              "<div>\n",
              "<style scoped>\n",
              "    .dataframe tbody tr th:only-of-type {\n",
              "        vertical-align: middle;\n",
              "    }\n",
              "\n",
              "    .dataframe tbody tr th {\n",
              "        vertical-align: top;\n",
              "    }\n",
              "\n",
              "    .dataframe thead th {\n",
              "        text-align: right;\n",
              "    }\n",
              "</style>\n",
              "<table border=\"1\" class=\"dataframe\">\n",
              "  <thead>\n",
              "    <tr style=\"text-align: right;\">\n",
              "      <th></th>\n",
              "      <th>row</th>\n",
              "      <th>UNIX</th>\n",
              "      <th>date</th>\n",
              "      <th>time</th>\n",
              "      <th>speed</th>\n",
              "    </tr>\n",
              "  </thead>\n",
              "  <tbody>\n",
              "    <tr>\n",
              "      <th>0</th>\n",
              "      <td>4</td>\n",
              "      <td>1475314821</td>\n",
              "      <td>2016-09-30</td>\n",
              "      <td>23:40:21</td>\n",
              "      <td>13.50</td>\n",
              "    </tr>\n",
              "    <tr>\n",
              "      <th>1</th>\n",
              "      <td>5</td>\n",
              "      <td>1475314522</td>\n",
              "      <td>2016-09-30</td>\n",
              "      <td>23:35:22</td>\n",
              "      <td>15.75</td>\n",
              "    </tr>\n",
              "    <tr>\n",
              "      <th>2</th>\n",
              "      <td>7</td>\n",
              "      <td>1475313921</td>\n",
              "      <td>2016-09-30</td>\n",
              "      <td>23:25:21</td>\n",
              "      <td>10.12</td>\n",
              "    </tr>\n",
              "    <tr>\n",
              "      <th>3</th>\n",
              "      <td>8</td>\n",
              "      <td>1475313621</td>\n",
              "      <td>2016-09-30</td>\n",
              "      <td>23:20:21</td>\n",
              "      <td>10.12</td>\n",
              "    </tr>\n",
              "    <tr>\n",
              "      <th>4</th>\n",
              "      <td>9</td>\n",
              "      <td>1475313321</td>\n",
              "      <td>2016-09-30</td>\n",
              "      <td>23:15:21</td>\n",
              "      <td>14.62</td>\n",
              "    </tr>\n",
              "  </tbody>\n",
              "</table>\n",
              "</div>"
            ],
            "text/plain": [
              "   row        UNIX        date      time  speed\n",
              "0    4  1475314821  2016-09-30  23:40:21  13.50\n",
              "1    5  1475314522  2016-09-30  23:35:22  15.75\n",
              "2    7  1475313921  2016-09-30  23:25:21  10.12\n",
              "3    8  1475313621  2016-09-30  23:20:21  10.12\n",
              "4    9  1475313321  2016-09-30  23:15:21  14.62"
            ]
          },
          "metadata": {
            "tags": []
          },
          "execution_count": 58
        }
      ]
    },
    {
      "cell_type": "code",
      "metadata": {
        "id": "njlUYjcXRkid",
        "colab_type": "code",
        "outputId": "743f33c6-2c85-44af-a28b-f3d75f9c1019",
        "colab": {
          "base_uri": "https://localhost:8080/",
          "height": 145
        }
      },
      "source": [
        "wind.groupby(\"date\")[\"speed\"].mean().head()"
      ],
      "execution_count": 0,
      "outputs": [
        {
          "output_type": "execute_result",
          "data": {
            "text/plain": [
              "date\n",
              "2016-09-01    6.396560\n",
              "2016-09-02    5.804086\n",
              "2016-09-03    4.960248\n",
              "2016-09-04    5.184571\n",
              "2016-09-05    5.830676\n",
              "Name: speed, dtype: float64"
            ]
          },
          "metadata": {
            "tags": []
          },
          "execution_count": 61
        }
      ]
    },
    {
      "cell_type": "code",
      "metadata": {
        "id": "uhKIuEKuSHpF",
        "colab_type": "code",
        "outputId": "480aade4-849d-4fed-a347-3e0c4682931f",
        "colab": {
          "base_uri": "https://localhost:8080/",
          "height": 198
        }
      },
      "source": [
        " pysqldf(\"\"\"SELECT row,time, AVG(speed)\n",
        "FROM wind\n",
        "GROUP BY date\n",
        "\"\"\").head()"
      ],
      "execution_count": 0,
      "outputs": [
        {
          "output_type": "execute_result",
          "data": {
            "text/html": [
              "<div>\n",
              "<style scoped>\n",
              "    .dataframe tbody tr th:only-of-type {\n",
              "        vertical-align: middle;\n",
              "    }\n",
              "\n",
              "    .dataframe tbody tr th {\n",
              "        vertical-align: top;\n",
              "    }\n",
              "\n",
              "    .dataframe thead th {\n",
              "        text-align: right;\n",
              "    }\n",
              "</style>\n",
              "<table border=\"1\" class=\"dataframe\">\n",
              "  <thead>\n",
              "    <tr style=\"text-align: right;\">\n",
              "      <th></th>\n",
              "      <th>row</th>\n",
              "      <th>time</th>\n",
              "      <th>AVG(speed)</th>\n",
              "    </tr>\n",
              "  </thead>\n",
              "  <tbody>\n",
              "    <tr>\n",
              "      <th>0</th>\n",
              "      <td>7696</td>\n",
              "      <td>00:00:08</td>\n",
              "      <td>6.396560</td>\n",
              "    </tr>\n",
              "    <tr>\n",
              "      <th>1</th>\n",
              "      <td>7446</td>\n",
              "      <td>00:00:04</td>\n",
              "      <td>5.804086</td>\n",
              "    </tr>\n",
              "    <tr>\n",
              "      <th>2</th>\n",
              "      <td>7167</td>\n",
              "      <td>00:00:04</td>\n",
              "      <td>4.960248</td>\n",
              "    </tr>\n",
              "    <tr>\n",
              "      <th>3</th>\n",
              "      <td>6885</td>\n",
              "      <td>00:00:06</td>\n",
              "      <td>5.184571</td>\n",
              "    </tr>\n",
              "    <tr>\n",
              "      <th>4</th>\n",
              "      <td>6605</td>\n",
              "      <td>00:00:05</td>\n",
              "      <td>5.830676</td>\n",
              "    </tr>\n",
              "  </tbody>\n",
              "</table>\n",
              "</div>"
            ],
            "text/plain": [
              "    row      time  AVG(speed)\n",
              "0  7696  00:00:08    6.396560\n",
              "1  7446  00:00:04    5.804086\n",
              "2  7167  00:00:04    4.960248\n",
              "3  6885  00:00:06    5.184571\n",
              "4  6605  00:00:05    5.830676"
            ]
          },
          "metadata": {
            "tags": []
          },
          "execution_count": 63
        }
      ]
    },
    {
      "cell_type": "code",
      "metadata": {
        "id": "d_uF4_bUSXt2",
        "colab_type": "code",
        "outputId": "aa68d6eb-edee-4731-a149-9a41e2c5af0b",
        "colab": {
          "base_uri": "https://localhost:8080/",
          "height": 35
        }
      },
      "source": [
        "%%timeit\n",
        "pysqldf(\"\"\"SELECT date, AVG(speed)\n",
        "FROM wind\n",
        "GROUP BY date\n",
        "\"\"\")"
      ],
      "execution_count": 0,
      "outputs": [
        {
          "output_type": "stream",
          "text": [
            "1 loop, best of 3: 204 ms per loop\n"
          ],
          "name": "stdout"
        }
      ]
    }
  ]
}
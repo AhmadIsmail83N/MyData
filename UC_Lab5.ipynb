{
  "nbformat": 4,
  "nbformat_minor": 0,
  "metadata": {
    "colab": {
      "name": "Lab5.ipynb",
      "provenance": [],
      "collapsed_sections": [],
      "authorship_tag": "ABX9TyPUX6khiXAA+0nSqvdCvVRW",
      "include_colab_link": true
    },
    "kernelspec": {
      "name": "python3",
      "display_name": "Python 3"
    }
  },
  "cells": [
    {
      "cell_type": "markdown",
      "metadata": {
        "id": "view-in-github",
        "colab_type": "text"
      },
      "source": [
        "<a href=\"https://colab.research.google.com/github/AhmadIsmail83N/MyData/blob/master/UC_Lab5.ipynb\" target=\"_parent\"><img src=\"https://colab.research.google.com/assets/colab-badge.svg\" alt=\"Open In Colab\"/></a>"
      ]
    },
    {
      "cell_type": "code",
      "metadata": {
        "id": "qQO1NiB2J-qJ",
        "colab_type": "code",
        "outputId": "faceadd2-e94f-40f4-f108-01ffd4ef24c0",
        "colab": {
          "base_uri": "https://localhost:8080/",
          "height": 51
        }
      },
      "source": [
        "%load_ext tensorboard"
      ],
      "execution_count": 51,
      "outputs": [
        {
          "output_type": "stream",
          "text": [
            "The tensorboard extension is already loaded. To reload it, use:\n",
            "  %reload_ext tensorboard\n"
          ],
          "name": "stdout"
        }
      ]
    },
    {
      "cell_type": "markdown",
      "metadata": {
        "id": "0yjP3fpKM5As",
        "colab_type": "text"
      },
      "source": [
        "**Import Libraries**"
      ]
    },
    {
      "cell_type": "code",
      "metadata": {
        "id": "h3frK81tKIGF",
        "colab_type": "code",
        "outputId": "755bc7cf-411f-4d92-e9f2-475134c205ef",
        "colab": {
          "base_uri": "https://localhost:8080/",
          "height": 34
        }
      },
      "source": [
        "from packaging import version\n",
        "\n",
        "import tensorflow as tf\n",
        "from tensorflow import keras\n",
        "import datetime as dt\n",
        "                                      \n",
        "print(\"TensorFlow version: \", tf.__version__)\n",
        "assert version.parse(tf.__version__).release[0] >= 2, \\\n",
        "    \"This notebook requires TensorFlow 2.0 or above.\""
      ],
      "execution_count": 52,
      "outputs": [
        {
          "output_type": "stream",
          "text": [
            "TensorFlow version:  2.2.0-rc4\n"
          ],
          "name": "stdout"
        }
      ]
    },
    {
      "cell_type": "markdown",
      "metadata": {
        "id": "ycrk844cMsT_",
        "colab_type": "text"
      },
      "source": [
        "**download MNIST and create data set for training**"
      ]
    },
    {
      "cell_type": "code",
      "metadata": {
        "id": "vArZH339MQLL",
        "colab_type": "code",
        "colab": {}
      },
      "source": [
        "(x_train, _), (x_test, _) = keras.datasets.mnist.load_data()\n",
        "train_dataset = tf.data.Dataset.from_tensor_slices((x_train)).batch(32).shuffle(10000)\n",
        "train_dataset = train_dataset.map(lambda x: (tf.math.divide(tf.cast(x, tf.float32), 255.0)))\n",
        "#Бинаризация\n",
        "train_dataset = train_dataset.map(lambda x: (tf.round(x)))\n",
        "train_dataset = train_dataset.map(lambda x: (tf.image.random_flip_left_right(x)))\n",
        "\n",
        "test_dataset = tf.data.Dataset.from_tensor_slices((x_test)).batch(32)\n",
        "test_dataset = test_dataset.map(lambda x: (tf.math.divide(tf.cast(x, tf.float32), 255.0)))\n",
        "#Бинаризация\n",
        "test_dataset = test_dataset.map(lambda x: (tf.round(x)))"
      ],
      "execution_count": 0,
      "outputs": []
    },
    {
      "cell_type": "markdown",
      "metadata": {
        "id": "t1J_8GwbNPU2",
        "colab_type": "text"
      },
      "source": [
        "**creating a variation auto-encoder.**"
      ]
    },
    {
      "cell_type": "markdown",
      "metadata": {
        "id": "hSHqybpwRjQU",
        "colab_type": "text"
      },
      "source": [
        "**Create Class Incoder: inheritance from Keras.Model**\n",
        "\n",
        "method  _init : for creating model layers\n",
        "\n",
        "method  call  : apply to Input x"
      ]
    },
    {
      "cell_type": "code",
      "metadata": {
        "id": "TrnReuAcTPLk",
        "colab_type": "code",
        "colab": {}
      },
      "source": [
        "class MnistEncoder(keras.Model):\n",
        "    def __init__(self):\n",
        "        super(MnistEncoder, self).__init__(name='mnist_encoder')\n",
        "        with tf.device('/device:GPU:0'):\n",
        "            \n",
        "            \n",
        "            self.Input =    keras.layers.InputLayer(input_shape=(28, 28))\n",
        "            \n",
        "            self.conv1 =    tf.keras.layers.Conv2D( \n",
        "                                                  filters=32, \n",
        "                                                   kernel_size=3,\n",
        "                                                   strides=(2, 2),\n",
        "                                                   activation='relu'\n",
        "                                                  )\n",
        "            self.conv2 =    tf.keras.layers.Conv2D(filters=64, kernel_size=3, strides=(2, 2), activation='relu')\n",
        "            self.pool  =    tf.keras.layers.MaxPooling2D(strides=(2, 2), padding='same')\n",
        "           \n",
        "            self.flatten = keras.layers.Flatten(input_shape=(28, 28))\n",
        "            self.fc2 = keras.layers.Dense(64,\n",
        "                                         activation=tf.nn.relu,\n",
        "                                         kernel_initializer=tf.initializers.RandomNormal,\n",
        "                                         kernel_regularizer=keras.regularizers.l2(l=0.001))\n",
        "            self.dropout = keras.layers.Dropout(0.5)\n",
        "            self.fc_mu = keras.layers.Dense(2,\n",
        "                                            activation=None,\n",
        "                                            kernel_initializer=tf.initializers.RandomNormal,\n",
        "                                            kernel_regularizer=keras.regularizers.l2(l=0.001))\n",
        "            self.fc_var = keras.layers.Dense(2,\n",
        "                                             activation=None,\n",
        "                                             kernel_initializer=tf.initializers.RandomNormal,\n",
        "                                             kernel_regularizer=keras.regularizers.l2(l=0.001))\n",
        "\n",
        "\n",
        "    def call(self, x, training=False):\n",
        "        if training:\n",
        "            x = self.dropout(self.fc2(self.flatten(x)))\n",
        "        else:\n",
        "            x= self.flatten(x)\n",
        "            x = self.conv1(x)\n",
        "            x=  self.pool(x)\n",
        "            x = self.conv2(x)\n",
        "            x=  self.pool(x)\n",
        "            x = self.fc2(x)\n",
        "        mu = self.fc_mu(x)\n",
        "        var = self.fc_var(x)\n",
        "        return mu, var"
      ],
      "execution_count": 0,
      "outputs": []
    },
    {
      "cell_type": "markdown",
      "metadata": {
        "id": "hOIwP5LIfkLE",
        "colab_type": "text"
      },
      "source": [
        "**Decoder**"
      ]
    },
    {
      "cell_type": "code",
      "metadata": {
        "colab_type": "code",
        "id": "6pQ8ncROiYMf",
        "colab": {}
      },
      "source": [
        "class MnistDecoder(keras.Model):\n",
        "    def __init__(self):\n",
        "        super(MnistDecoder, self).__init__(name='mnist_decoder')\n",
        "        with tf.device('/device:GPU:0'):\n",
        "            self.fc1 = keras.layers.Dense(64,\n",
        "                                             activation=tf.nn.relu,\n",
        "                                             kernel_initializer=tf.initializers.RandomNormal)        \n",
        "    #         self.fc2 = keras.layers.Dense(256,\n",
        "    #                                       activation=tf.nn.relu,\n",
        "    #                                          kernel_initializer=tf.initializers.RandomNormal)\n",
        "            self.Input= keras.layers.InputLayer(input_shape=(2,))\n",
        "\n",
        "            self.dropout = keras.layers.Dropout(0.5)    \n",
        "            self.Conv2DT1 = keras.layers.Conv2DTranspose(\n",
        "                                                  filters=32,\n",
        "                                                  kernel_size=3,\n",
        "                                                  strides=(2, 2),\n",
        "                                                  padding=\"SAME\",\n",
        "                                                  activation='relu')\n",
        "            self.Conv2DT2 = keras.layers.Conv2DTranspose(\n",
        "                                                  filters=64,\n",
        "                                                  kernel_size=3,\n",
        "                                                  strides=(2, 2),\n",
        "                                                  padding=\"SAME\",\n",
        "                                                  activation='relu')            \n",
        "            self.fc3 = keras.layers.Dense(784,\n",
        "                                          activation=None,\n",
        "                                             kernel_initializer=tf.initializers.RandomNormal)\n",
        "            self.reshape = keras.layers.Reshape(target_shape=(28, 28))\n",
        "\n",
        "    def call(self, x, training=False):\n",
        "        x =self.fc1(x)\n",
        "        if training:\n",
        "            #x = self.dropout(self.fc2(x))\n",
        "            x = self.dropout(self.fc3(x))\n",
        "        else:\n",
        "            #x = self.fc2(x)\n",
        "            x=  self.input(x)           \n",
        "            x = self.fc3(x)\n",
        "            x=  self.reshape(x)\n",
        "            x=  self.Conv2DT2(x)\n",
        "            x=  self.Conv2DT1(x)        \n",
        "        return x"
      ],
      "execution_count": 0,
      "outputs": []
    },
    {
      "cell_type": "markdown",
      "metadata": {
        "id": "O4qBACfgfq6m",
        "colab_type": "text"
      },
      "source": [
        "**Create Model for use encoder and decoder**"
      ]
    },
    {
      "cell_type": "code",
      "metadata": {
        "id": "k8xDZS8GkuvD",
        "colab_type": "code",
        "colab": {}
      },
      "source": [
        "class VAE(keras.Model):\n",
        "    # Функции от keras.Model\n",
        "        def __init__(self):\n",
        "            super(VAE, self).__init__(name='mnist_vae')\n",
        "            with tf.device('/device:GPU:0'):\n",
        "                self.encoder = MnistEncoder()\n",
        "                self.decoder = MnistDecoder()\n",
        "\n",
        "        def call(self, x, training=False):\n",
        "            mu, var = self.encoder(x,training)\n",
        "            z = self.reparametrize(mu, var)\n",
        "            x_hat = self.decoder(z,training)\n",
        "            return x_hat, mu, var\n",
        "            return x_hat, mu, var\n",
        "    \n",
        "    # Функция выполняющая репараметризацию\n",
        "        def reparametrize(self, mu, var):\n",
        "            eps = tf.random.normal(shape=mu.shape)\n",
        "            return eps * var + mu\n",
        "    \n",
        "    # Функция выполняющая получение изображение из вектора z. Заметим, что \n",
        "    # здесь присутствует сигмоида\n",
        "        def sample(self, eps=None):\n",
        "            if eps is None:\n",
        "                eps = tf.random.normal(shape=(100, self.latent_dim))\n",
        "            return tf.sigmoid(self.decoder(eps,False))        "
      ],
      "execution_count": 0,
      "outputs": []
    },
    {
      "cell_type": "markdown",
      "metadata": {
        "id": "Ir1Ah82Og4Wv",
        "colab_type": "text"
      },
      "source": [
        "**Ready to train, build optimizer and loss function**"
      ]
    },
    {
      "cell_type": "code",
      "metadata": {
        "id": "C_GSus-doXw3",
        "colab_type": "code",
        "colab": {}
      },
      "source": [
        "from datetime import datetime\n",
        "import numpy as np\n",
        "\n",
        "optimizer = tf.keras.optimizers.Adam(1e-4)\n",
        "\n",
        "summary_writer = tf.summary.create_file_writer('logs', flush_millis=10000)\n",
        "summary_writer.set_as_default()\n",
        "@tf.function\n",
        "def log_normal_pdf(mean, var, raxis=1):    \n",
        "    arg1 = tf.multiply(tf.pow(mean,2) + tf.pow(var,2) - tf.math.log(tf.pow(var,2)) - 1,0.5)    \n",
        "    return tf.reduce_sum(arg1,axis=1)\n",
        "\n",
        "@tf.function\n",
        "def compute_loss(model, x):\n",
        "    x_hat, mu, var = model(x,False)\n",
        "    ## сигмоида встроена в функцию потери\n",
        "    cross_ent = tf.nn.sigmoid_cross_entropy_with_logits(logits=x_hat, labels=x)   \n",
        "    logpx_z = -tf.reduce_sum(cross_ent, axis=[1, 2])   \n",
        "    logqz_x = log_normal_pdf(mu, var)\n",
        "    return -tf.reduce_mean(logpx_z  - logqz_x)\n",
        "\n",
        "@tf.function\n",
        "def compute_gradients(model, x):\n",
        "    with tf.device('/gpu:0'):\n",
        "        with tf.GradientTape() as tape:\n",
        "            loss = compute_loss(model, x)\n",
        "        return tape.gradient(loss, model.trainable_variables), loss\n",
        "@tf.function\n",
        "def apply_gradients(optimizer, gradients, variables):\n",
        "    optimizer.apply_gradients(zip(gradients, variables))\n",
        "    \n",
        "def generate_and_save_images(model, epoch, test_input, file_writer):\n",
        "    '''\n",
        "    Генерирует примеры на основе test_input и записывает их в file_writer для\n",
        "    визуализации в tensorboard\n",
        "    '''\n",
        "    predictions = model.sample(test_input)\n",
        "    with file_writer.as_default():\n",
        "        images = np.reshape(predictions, (-1, 28, 28, 1)) * 255\n",
        "        images[images < 0] = 0\n",
        "        images[images > 255] = 255\n",
        "        tf.summary.image(\"16 generated data examples\", images, max_outputs=16, step=epoch)\n",
        "\n",
        "    for epoch in range(1, epochs + 1):\n",
        "       start_time = time.time()\n",
        "       for train_x in train_dataset:\n",
        "          compute_gradients(model, train_x)\n",
        "          with tf.GradientTape() as tape:\n",
        "            loss = compute_loss(model, train_x)\n",
        "            gradients = tape.gradient(loss, model.trainable_variables)\n",
        "            apply_gradients(optimizer,gradients, model.trainable_variables)\n",
        "          end_time = time.time()\n",
        "\n",
        "          if epoch % 1 == 0:    \n",
        "            loss = tf.keras.metrics.Mean()\n",
        "            for test_x in test_dataset:\n",
        "             loss(compute_loss(model, test_x))\n",
        "          elbo = -loss.result()\n",
        "          display.clear_output(wait=False)\n",
        "          print('Epoch: {}, Test set ELBO: {}, '\n",
        "              'time elapse for current epoch {}'.format(epoch,\n",
        "                                                    elbo,\n",
        "                                                    end_time - start_time))\n",
        "          generate_and_save_images(\n",
        "            model, epoch, random_vector_for_generation,file_writer) \n",
        "          \n",
        "    "
      ],
      "execution_count": 0,
      "outputs": []
    },
    {
      "cell_type": "markdown",
      "metadata": {
        "id": "1PPoEbT4hrmH",
        "colab_type": "text"
      },
      "source": [
        "**Create instance of Model and start training**\n",
        "\n"
      ]
    },
    {
      "cell_type": "markdown",
      "metadata": {
        "id": "ZJR3UJeIlIHZ",
        "colab_type": "text"
      },
      "source": [
        "# Загрузает расширение в Notebook\n",
        "%load_ext tensorboard\n",
        "....\n",
        "# Открывает в выводе ячейки tensorboard\n",
        "%tensorboard --logdir logs/gradient_tape"
      ]
    },
    {
      "cell_type": "code",
      "metadata": {
        "id": "-IWtsT_urHa0",
        "colab_type": "code",
        "colab": {}
      },
      "source": [
        "epochs = 100\n",
        "latent_dim = 2\n",
        "num_examples_to_generate = 16\n",
        "\n",
        "# Создадим случайный вектор\n",
        "random_vector_for_generation = tf.random.normal(\n",
        "    shape=[num_examples_to_generate, latent_dim])\n",
        "\n",
        "model = VAE()"
      ],
      "execution_count": 0,
      "outputs": []
    },
    {
      "cell_type": "code",
      "metadata": {
        "id": "1pRoD0OWrXMF",
        "colab_type": "code",
        "colab": {}
      },
      "source": [
        "import time\n",
        "\n",
        "current_time  = datetime.now().strftime(\"%Y%m%d-%H%M%S\")\n",
        "train_log_dir = 'logs/gradient_tape/' + current_time + '/train'\n",
        "test_log_dir  = 'logs/gradient_tape/' + current_time + '/test'\n",
        "train_summary_writer = tf.summary.create_file_writer(train_log_dir)\n",
        "test_summary_writer = tf.summary.create_file_writer(test_log_dir)\n",
        "\n",
        "generate_and_save_images(model, 0, random_vector_for_generation, test_summary_writer)\n",
        "# Создаем метрики для вычисления.\n",
        "train_loss = tf.keras.metrics.Mean('train_loss', dtype=tf.float32)\n",
        "test_loss = tf.keras.metrics.Mean('test_loss', dtype=tf.float32)\n",
        "\n",
        "%tensorboard --logdir logs/gradient_tape\n",
        "\n",
        "for epoch in range(1, epochs + 1):\n",
        "    for train_x in train_dataset:\n",
        "        gradients, loss = compute_gradients(model, train_x)\n",
        "        train_loss(loss)\n",
        "        apply_gradients(optimizer, gradients, model.trainable_variables)\n",
        "    with train_summary_writer.as_default():\n",
        "        tf.summary.scalar('loss', train_loss.result(), step=epoch)\n",
        "    #print(epoch,loss)\n",
        "\n",
        "    if epoch % 1 == 0:\n",
        "#         for test_x in test_dataset:\n",
        "#             test_loss(compute_loss(model, test_x))\n",
        "#         with test_summary_writer.as_default():\n",
        "#             tf.summary.scalar('loss', test_loss.result(), step=epoch)\n",
        "\n",
        "        generate_and_save_images(model, epoch, random_vector_for_generation, test_summary_writer)\n",
        "    # Обнуляем метрики на каждой эпохе\n",
        "    train_loss.reset_states()\n",
        "    test_loss.reset_states()\n",
        "\n"
      ],
      "execution_count": 0,
      "outputs": []
    }
  ]
}
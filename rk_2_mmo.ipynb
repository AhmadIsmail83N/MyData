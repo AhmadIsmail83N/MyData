{
  "nbformat": 4,
  "nbformat_minor": 0,
  "metadata": {
    "kernelspec": {
      "display_name": "Python 3",
      "language": "python",
      "name": "python3"
    },
    "language_info": {
      "codemirror_mode": {
        "name": "ipython",
        "version": 3
      },
      "file_extension": ".py",
      "mimetype": "text/x-python",
      "name": "python",
      "nbconvert_exporter": "python",
      "pygments_lexer": "ipython3",
      "version": "3.7.1"
    },
    "colab": {
      "name": "rk_2_mmo.ipynb",
      "provenance": [],
      "toc_visible": true,
      "include_colab_link": true
    }
  },
  "cells": [
    {
      "cell_type": "markdown",
      "metadata": {
        "id": "view-in-github",
        "colab_type": "text"
      },
      "source": [
        "<a href=\"https://colab.research.google.com/github/AhmadIsmail83N/MyData/blob/master/rk_2_mmo.ipynb\" target=\"_parent\"><img src=\"https://colab.research.google.com/assets/colab-badge.svg\" alt=\"Open In Colab\"/></a>"
      ]
    },
    {
      "cell_type": "markdown",
      "metadata": {
        "id": "JzwJ5UxboFGV",
        "colab_type": "text"
      },
      "source": [
        "### РК №2 по ММО Исмаил Ахмад, ИУ5И-21М\n",
        "\n",
        "> Indented block\n",
        "\n",
        "\n",
        "### Задача №1. Классификация текстов на основе методов наивного Байеса.\n",
        "### Задание:\n",
        "Необходимо решить задачу классификации текстов на основе любого выбранного Вами датасета. Классификация может быть бинарной или многоклассовой. Целевой признак из выбранного Вами датасета может иметь любой физический смысл, примером является задача анализа тональности текста.\n",
        "\n",
        "Необходимо сформировать признаки на основе CountVectorizer или TfidfVectorizer.\n",
        "\n",
        "В качестве классификаторов необходимо использовать один из классификаторов, не относящихся к наивным Байесовским методам \n",
        "(например, LogisticRegression), а также Multinomial Naive Bayes (MNB), Complement Naive Bayes (CNB), Bernoulli Naive Bayes.\n",
        "\n",
        "Для каждого метода необходимо оценить качество классификации с помощью хотя бы одной метрики качества классификации (например, Accuracy).\n",
        "\n",
        "Сделате выводы о том, какой классификатор осуществляет более качественную классификацию на Вашем наборе данных."
      ]
    },
    {
      "cell_type": "markdown",
      "metadata": {
        "id": "8tNq9as5oFGZ",
        "colab_type": "text"
      },
      "source": [
        "Датасет: https://www.kaggle.com/snap/amazon-fine-food-reviews"
      ]
    },
    {
      "cell_type": "code",
      "metadata": {
        "id": "0kt_apWdoFGc",
        "colab_type": "code",
        "colab": {}
      },
      "source": [
        "import pandas as pd\n",
        "\n",
        "df = pd.read_csv(\"/content/sample_data/Reviews.csv\", sep = \",\")"
      ],
      "execution_count": 0,
      "outputs": []
    },
    {
      "cell_type": "code",
      "metadata": {
        "id": "Y5FT0E41oFGq",
        "colab_type": "code",
        "outputId": "8d69aa54-3c73-4594-8276-a112d15448d6",
        "colab": {
          "base_uri": "https://localhost:8080/",
          "height": 202
        }
      },
      "source": [
        "df.head(1)"
      ],
      "execution_count": 2,
      "outputs": [
        {
          "output_type": "execute_result",
          "data": {
            "text/html": [
              "<div>\n",
              "<style scoped>\n",
              "    .dataframe tbody tr th:only-of-type {\n",
              "        vertical-align: middle;\n",
              "    }\n",
              "\n",
              "    .dataframe tbody tr th {\n",
              "        vertical-align: top;\n",
              "    }\n",
              "\n",
              "    .dataframe thead th {\n",
              "        text-align: right;\n",
              "    }\n",
              "</style>\n",
              "<table border=\"1\" class=\"dataframe\">\n",
              "  <thead>\n",
              "    <tr style=\"text-align: right;\">\n",
              "      <th></th>\n",
              "      <th>Id</th>\n",
              "      <th>ProductId</th>\n",
              "      <th>UserId</th>\n",
              "      <th>ProfileName</th>\n",
              "      <th>HelpfulnessNumerator</th>\n",
              "      <th>HelpfulnessDenominator</th>\n",
              "      <th>Score</th>\n",
              "      <th>Time</th>\n",
              "      <th>Summary</th>\n",
              "      <th>Text</th>\n",
              "    </tr>\n",
              "  </thead>\n",
              "  <tbody>\n",
              "    <tr>\n",
              "      <th>0</th>\n",
              "      <td>1</td>\n",
              "      <td>B001E4KFG0</td>\n",
              "      <td>A3SGXH7AUHU8GW</td>\n",
              "      <td>delmartian</td>\n",
              "      <td>1</td>\n",
              "      <td>1</td>\n",
              "      <td>5</td>\n",
              "      <td>1303862400</td>\n",
              "      <td>Good Quality Dog Food</td>\n",
              "      <td>I have bought several of the Vitality canned d...</td>\n",
              "    </tr>\n",
              "  </tbody>\n",
              "</table>\n",
              "</div>"
            ],
            "text/plain": [
              "   Id  ...                                               Text\n",
              "0   1  ...  I have bought several of the Vitality canned d...\n",
              "\n",
              "[1 rows x 10 columns]"
            ]
          },
          "metadata": {
            "tags": []
          },
          "execution_count": 2
        }
      ]
    },
    {
      "cell_type": "code",
      "metadata": {
        "id": "TPTtWmB3oFG1",
        "colab_type": "code",
        "outputId": "d7fe23de-efb6-492e-bf70-69acc52a4d99",
        "colab": {
          "base_uri": "https://localhost:8080/",
          "height": 142
        }
      },
      "source": [
        "del df['ProductId']\n",
        "del df['UserId']\n",
        "del df['HelpfulnessNumerator']\n",
        "del df['HelpfulnessDenominator']\n",
        "del df['Time']\n",
        "del df['ProfileName']\n",
        "del df['Id']\n",
        "df.head(3)"
      ],
      "execution_count": 3,
      "outputs": [
        {
          "output_type": "execute_result",
          "data": {
            "text/html": [
              "<div>\n",
              "<style scoped>\n",
              "    .dataframe tbody tr th:only-of-type {\n",
              "        vertical-align: middle;\n",
              "    }\n",
              "\n",
              "    .dataframe tbody tr th {\n",
              "        vertical-align: top;\n",
              "    }\n",
              "\n",
              "    .dataframe thead th {\n",
              "        text-align: right;\n",
              "    }\n",
              "</style>\n",
              "<table border=\"1\" class=\"dataframe\">\n",
              "  <thead>\n",
              "    <tr style=\"text-align: right;\">\n",
              "      <th></th>\n",
              "      <th>Score</th>\n",
              "      <th>Summary</th>\n",
              "      <th>Text</th>\n",
              "    </tr>\n",
              "  </thead>\n",
              "  <tbody>\n",
              "    <tr>\n",
              "      <th>0</th>\n",
              "      <td>5</td>\n",
              "      <td>Good Quality Dog Food</td>\n",
              "      <td>I have bought several of the Vitality canned d...</td>\n",
              "    </tr>\n",
              "    <tr>\n",
              "      <th>1</th>\n",
              "      <td>1</td>\n",
              "      <td>Not as Advertised</td>\n",
              "      <td>Product arrived labeled as Jumbo Salted Peanut...</td>\n",
              "    </tr>\n",
              "    <tr>\n",
              "      <th>2</th>\n",
              "      <td>4</td>\n",
              "      <td>\"Delight\" says it all</td>\n",
              "      <td>This is a confection that has been around a fe...</td>\n",
              "    </tr>\n",
              "  </tbody>\n",
              "</table>\n",
              "</div>"
            ],
            "text/plain": [
              "   Score  ...                                               Text\n",
              "0      5  ...  I have bought several of the Vitality canned d...\n",
              "1      1  ...  Product arrived labeled as Jumbo Salted Peanut...\n",
              "2      4  ...  This is a confection that has been around a fe...\n",
              "\n",
              "[3 rows x 3 columns]"
            ]
          },
          "metadata": {
            "tags": []
          },
          "execution_count": 3
        }
      ]
    },
    {
      "cell_type": "code",
      "metadata": {
        "id": "gVTDNO_toFG_",
        "colab_type": "code",
        "outputId": "e3a4586b-7f34-4a1d-944f-405b4ea4e34e",
        "colab": {
          "base_uri": "https://localhost:8080/",
          "height": 85
        }
      },
      "source": [
        "df.dtypes"
      ],
      "execution_count": 4,
      "outputs": [
        {
          "output_type": "execute_result",
          "data": {
            "text/plain": [
              "Score       int64\n",
              "Summary    object\n",
              "Text       object\n",
              "dtype: object"
            ]
          },
          "metadata": {
            "tags": []
          },
          "execution_count": 4
        }
      ]
    },
    {
      "cell_type": "code",
      "metadata": {
        "id": "RfF5PBSkoFHF",
        "colab_type": "code",
        "outputId": "4ec56a3f-f791-4e7a-f0af-694672e3d14f",
        "colab": {
          "base_uri": "https://localhost:8080/",
          "height": 85
        }
      },
      "source": [
        "# Проверка на пустые значения\n",
        "df.isnull().sum()"
      ],
      "execution_count": 5,
      "outputs": [
        {
          "output_type": "execute_result",
          "data": {
            "text/plain": [
              "Score      0\n",
              "Summary    1\n",
              "Text       0\n",
              "dtype: int64"
            ]
          },
          "metadata": {
            "tags": []
          },
          "execution_count": 5
        }
      ]
    },
    {
      "cell_type": "code",
      "metadata": {
        "id": "n2W2E6pioFHS",
        "colab_type": "code",
        "colab": {}
      },
      "source": [
        "df = df.dropna(axis=0, how='any')"
      ],
      "execution_count": 0,
      "outputs": []
    },
    {
      "cell_type": "code",
      "metadata": {
        "id": "eKlklNBHoFHg",
        "colab_type": "code",
        "outputId": "ab9508fd-4d05-41e6-dc28-5a832f27a25a",
        "colab": {
          "base_uri": "https://localhost:8080/",
          "height": 34
        }
      },
      "source": [
        "df.shape"
      ],
      "execution_count": 7,
      "outputs": [
        {
          "output_type": "execute_result",
          "data": {
            "text/plain": [
              "(36304, 3)"
            ]
          },
          "metadata": {
            "tags": []
          },
          "execution_count": 7
        }
      ]
    },
    {
      "cell_type": "code",
      "metadata": {
        "id": "2xnhr9gtoFHm",
        "colab_type": "code",
        "colab": {}
      },
      "source": [
        "# df3_ = df3.dropna(axis=0, how='any')"
      ],
      "execution_count": 0,
      "outputs": []
    },
    {
      "cell_type": "code",
      "metadata": {
        "id": "iXKRCfaroFHr",
        "colab_type": "code",
        "colab": {}
      },
      "source": [
        "%matplotlib inline "
      ],
      "execution_count": 0,
      "outputs": []
    },
    {
      "cell_type": "markdown",
      "metadata": {
        "id": "AkvJg4JmoFHx",
        "colab_type": "text"
      },
      "source": [
        "Обработка данных"
      ]
    },
    {
      "cell_type": "code",
      "metadata": {
        "id": "ldUwQrUdoFHy",
        "colab_type": "code",
        "colab": {}
      },
      "source": [
        "from typing import Dict, Tuple\n",
        "from sklearn.linear_model import LogisticRegression\n",
        "from sklearn.metrics import accuracy_score, balanced_accuracy_score\n",
        "from sklearn.naive_bayes import MultinomialNB, ComplementNB, BernoulliNB\n",
        "from sklearn.feature_extraction.text import CountVectorizer, TfidfVectorizer\n",
        "from sklearn.model_selection import train_test_split\n",
        "from sklearn.pipeline import Pipeline\n",
        "import numpy as np\n",
        "import string"
      ],
      "execution_count": 0,
      "outputs": []
    },
    {
      "cell_type": "code",
      "metadata": {
        "id": "bbOW_ym7oFH1",
        "colab_type": "code",
        "outputId": "79e35648-a17a-4bbe-8073-c5a4791f181f",
        "colab": {
          "base_uri": "https://localhost:8080/",
          "height": 51
        }
      },
      "source": [
        "from sklearn.model_selection import train_test_split\n",
        "\n",
        "X_train, X_test, y_train, y_test = train_test_split(\n",
        "    df['Text'], \n",
        "    df['Score'],\n",
        "     test_size=0.4,\n",
        "    random_state = 1\n",
        ")\n",
        "\n",
        "print(\"Training dataset: \", X_train.shape[0])\n",
        "print(\"Test dataset: \", X_test.shape[0])"
      ],
      "execution_count": 10,
      "outputs": [
        {
          "output_type": "stream",
          "text": [
            "Training dataset:  21782\n",
            "Test dataset:  14522\n"
          ],
          "name": "stdout"
        }
      ]
    },
    {
      "cell_type": "code",
      "metadata": {
        "id": "J0uUS-eSoFH-",
        "colab_type": "code",
        "colab": {}
      },
      "source": [
        "def accuracy_score_for_classes(\n",
        "    y_true: np.ndarray, \n",
        "    y_pred: np.ndarray) -> Dict[int, float]:\n",
        "    \"\"\"\n",
        "    Вычисление метрики accuracy для каждого класса\n",
        "    y_true - истинные значения классов\n",
        "    y_pred - предсказанные значения классов\n",
        "    Возвращает словарь: ключ - метка класса, \n",
        "    значение - Accuracy для данного класса\n",
        "    \"\"\"\n",
        "    # Для удобства фильтрации сформируем Pandas DataFrame \n",
        "    d = {'t': y_true, 'p': y_pred}\n",
        "    df = pd.DataFrame(data=d)\n",
        "    # Метки классов\n",
        "    classes = np.unique(y_true)\n",
        "    # Результирующий словарь\n",
        "    res = dict()\n",
        "    # Перебор меток классов\n",
        "    for c in classes:\n",
        "        # отфильтруем данные, которые соответствуют \n",
        "        # текущей метке класса в истинных значениях\n",
        "        temp_data_flt = df[df['t']==c]\n",
        "        # расчет accuracy для заданной метки класса\n",
        "        temp_acc = accuracy_score(\n",
        "            temp_data_flt['t'].values, \n",
        "            temp_data_flt['p'].values)\n",
        "        # сохранение результата в словарь\n",
        "        res[c] = temp_acc\n",
        "    return res\n",
        "def print_accuracy_score_for_classes(\n",
        "    y_true: np.ndarray, \n",
        "    y_pred: np.ndarray):\n",
        "    \"\"\"\n",
        "    Вывод метрики accuracy для каждого класса\n",
        "    \"\"\"\n",
        "    accs = accuracy_score_for_classes(y_true, y_pred)\n",
        "    if len(accs)>0:\n",
        "        print('Метка \\t Accuracy')\n",
        "    for i in accs:\n",
        "        print('{} \\t {}'.format(i, accs[i]))"
      ],
      "execution_count": 0,
      "outputs": []
    },
    {
      "cell_type": "code",
      "metadata": {
        "id": "sqKbrErooFIC",
        "colab_type": "code",
        "colab": {}
      },
      "source": [
        "def sentiment(v, c):\n",
        "    model = Pipeline(\n",
        "        [(\"vectorizer\", v), \n",
        "         (\"classifier\", c)])\n",
        "    model.fit(X_train, y_train)\n",
        "    y_pred = model.predict(X_test)\n",
        "    print_accuracy_score_for_classes(y_test, y_pred)"
      ],
      "execution_count": 0,
      "outputs": []
    },
    {
      "cell_type": "code",
      "metadata": {
        "id": "SogHrf86oFIF",
        "colab_type": "code",
        "colab": {}
      },
      "source": [
        "classificators = [LogisticRegression(C=5.0), MultinomialNB(), ComplementNB(), BernoulliNB()]\n",
        "vectorizers = [TfidfVectorizer(), CountVectorizer()]"
      ],
      "execution_count": 0,
      "outputs": []
    },
    {
      "cell_type": "code",
      "metadata": {
        "id": "PUeLTW3BoFIL",
        "colab_type": "code",
        "outputId": "8056d445-47bc-41e3-80fc-9845366c2f76",
        "colab": {
          "base_uri": "https://localhost:8080/",
          "height": 119
        }
      },
      "source": [
        "import warnings\n",
        "warnings.filterwarnings('ignore')\n",
        "\n",
        "sentiment(TfidfVectorizer(), LogisticRegression(C=5.0))"
      ],
      "execution_count": 14,
      "outputs": [
        {
          "output_type": "stream",
          "text": [
            "Метка \t Accuracy\n",
            "1 \t 0.5958549222797928\n",
            "2 \t 0.23564593301435408\n",
            "3 \t 0.32096635030198445\n",
            "4 \t 0.2800959232613909\n",
            "5 \t 0.9129908700912991\n"
          ],
          "name": "stdout"
        }
      ]
    },
    {
      "cell_type": "code",
      "metadata": {
        "id": "6irYqyyZoFIQ",
        "colab_type": "code",
        "outputId": "7692167d-4158-4385-e4d6-f51febde75a9",
        "colab": {
          "base_uri": "https://localhost:8080/",
          "height": 119
        }
      },
      "source": [
        "sentiment(CountVectorizer(), MultinomialNB())"
      ],
      "execution_count": 15,
      "outputs": [
        {
          "output_type": "stream",
          "text": [
            "Метка \t Accuracy\n",
            "1 \t 0.5062916358253146\n",
            "2 \t 0.03708133971291866\n",
            "3 \t 0.14926660914581535\n",
            "4 \t 0.24988009592326138\n",
            "5 \t 0.9347706522934771\n"
          ],
          "name": "stdout"
        }
      ]
    },
    {
      "cell_type": "code",
      "metadata": {
        "id": "BvVgYMeEoFIU",
        "colab_type": "code",
        "outputId": "612a53d7-e5d8-4b05-f6af-8582ffcc7910",
        "colab": {
          "base_uri": "https://localhost:8080/",
          "height": 119
        }
      },
      "source": [
        "sentiment(TfidfVectorizer(), MultinomialNB())"
      ],
      "execution_count": 16,
      "outputs": [
        {
          "output_type": "stream",
          "text": [
            "Метка \t Accuracy\n",
            "1 \t 0.0014803849000740192\n",
            "2 \t 0.0\n",
            "3 \t 0.0\n",
            "4 \t 0.0\n",
            "5 \t 0.999780002199978\n"
          ],
          "name": "stdout"
        }
      ]
    },
    {
      "cell_type": "code",
      "metadata": {
        "id": "m0BdG-bUoFIY",
        "colab_type": "code",
        "outputId": "3cb18776-2ac6-4983-aed2-d54eafd44e84",
        "colab": {
          "base_uri": "https://localhost:8080/",
          "height": 119
        }
      },
      "source": [
        "sentiment(CountVectorizer(), ComplementNB())"
      ],
      "execution_count": 17,
      "outputs": [
        {
          "output_type": "stream",
          "text": [
            "Метка \t Accuracy\n",
            "1 \t 0.6787564766839378\n",
            "2 \t 0.1339712918660287\n",
            "3 \t 0.23382226056945643\n",
            "4 \t 0.26091127098321343\n",
            "5 \t 0.8838411615883841\n"
          ],
          "name": "stdout"
        }
      ]
    },
    {
      "cell_type": "code",
      "metadata": {
        "id": "nH0DV6b-oFIe",
        "colab_type": "code",
        "outputId": "1272caf6-40e4-4967-aab7-909f7e58c396",
        "colab": {
          "base_uri": "https://localhost:8080/",
          "height": 119
        }
      },
      "source": [
        "sentiment(TfidfVectorizer(), ComplementNB())"
      ],
      "execution_count": 18,
      "outputs": [
        {
          "output_type": "stream",
          "text": [
            "Метка \t Accuracy\n",
            "1 \t 0.3545521835677276\n",
            "2 \t 0.03708133971291866\n",
            "3 \t 0.04400345125107852\n",
            "4 \t 0.04364508393285372\n",
            "5 \t 0.982180178198218\n"
          ],
          "name": "stdout"
        }
      ]
    },
    {
      "cell_type": "code",
      "metadata": {
        "id": "UbyJLANqoFIj",
        "colab_type": "code",
        "outputId": "2a352a15-a6e3-497c-ac03-53687a57cd4b",
        "colab": {
          "base_uri": "https://localhost:8080/",
          "height": 119
        }
      },
      "source": [
        "sentiment(CountVectorizer(binary=True), BernoulliNB())"
      ],
      "execution_count": 19,
      "outputs": [
        {
          "output_type": "stream",
          "text": [
            "Метка \t Accuracy\n",
            "1 \t 0.2908956328645448\n",
            "2 \t 0.02631578947368421\n",
            "3 \t 0.14150129421915444\n",
            "4 \t 0.23932853717026378\n",
            "5 \t 0.8691013089869102\n"
          ],
          "name": "stdout"
        }
      ]
    },
    {
      "cell_type": "code",
      "metadata": {
        "id": "e6UdJhkhoFIn",
        "colab_type": "code",
        "outputId": "9557e330-188d-43eb-ebb5-b4223fafa038",
        "colab": {
          "base_uri": "https://localhost:8080/",
          "height": 119
        }
      },
      "source": [
        "sentiment(TfidfVectorizer(binary=True), BernoulliNB())"
      ],
      "execution_count": 20,
      "outputs": [
        {
          "output_type": "stream",
          "text": [
            "Метка \t Accuracy\n",
            "1 \t 0.2908956328645448\n",
            "2 \t 0.02631578947368421\n",
            "3 \t 0.14150129421915444\n",
            "4 \t 0.23932853717026378\n",
            "5 \t 0.8691013089869102\n"
          ],
          "name": "stdout"
        }
      ]
    },
    {
      "cell_type": "markdown",
      "metadata": {
        "id": "04if_ZtPoFIs",
        "colab_type": "text"
      },
      "source": [
        "### Вывод: \n",
        "Методы классификации текстов, основанные на \"наивном\" Байесе работают не хуже чем логистическая регрессия.\n",
        "Логистическая регрессия - точность достигает даже 95 процентов для метки 5,70%-для 1, для остальных случаев результаты не очень хорошие.\n",
        "Во всех методах для метки 5 были достигнуты хорошие результаты - выше 82 процентов.\n",
        "Логистическая регрессия работает более плавно. Все методы в чем-то показывают лучше результат, а в чем-то хуже. Закономерности не наблюдается. \n"
      ]
    }
  ]
}
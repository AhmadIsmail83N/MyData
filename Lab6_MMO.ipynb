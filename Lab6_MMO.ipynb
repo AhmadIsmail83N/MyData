{
  "nbformat": 4,
  "nbformat_minor": 0,
  "metadata": {
    "colab": {
      "name": "Lab6 MMO.ipynb",
      "provenance": [],
      "collapsed_sections": [],
      "mount_file_id": "1K46mJ2maG6dj_AuP7Fdba3Pu_Q8Z2KpM",
      "authorship_tag": "ABX9TyP+x+qCDidpX0OYWh+QCJpA",
      "include_colab_link": true
    },
    "kernelspec": {
      "name": "python3",
      "display_name": "Python 3"
    },
    "accelerator": "GPU"
  },
  "cells": [
    {
      "cell_type": "markdown",
      "metadata": {
        "id": "view-in-github",
        "colab_type": "text"
      },
      "source": [
        "<a href=\"https://colab.research.google.com/github/AhmadIsmail83N/MyData/blob/master/Lab6_MMO.ipynb\" target=\"_parent\"><img src=\"https://colab.research.google.com/assets/colab-badge.svg\" alt=\"Open In Colab\"/></a>"
      ]
    },
    {
      "cell_type": "markdown",
      "metadata": {
        "id": "NOs8rUk55-GU",
        "colab_type": "text"
      },
      "source": [
        "Подключим все необходимые библиотеки и настроим отображение графиков [2,3]\n"
      ]
    },
    {
      "cell_type": "code",
      "metadata": {
        "id": "wNCtpszvBaWb",
        "colab_type": "code",
        "colab": {}
      },
      "source": [
        "from datetime import datetime\n",
        "import matplotlib.pyplot as plt\n",
        "import numpy as np\n",
        "import pandas as pd\n",
        "from sklearn.ensemble import GradientBoostingRegressor\n",
        "from sklearn.ensemble import RandomForestRegressor\n",
        "from sklearn.metrics import mean_absolute_error\n",
        "from sklearn.metrics import median_absolute_error, r2_score\n",
        "from sklearn.model_selection import GridSearchCV\n",
        "from sklearn.model_selection import ShuffleSplit\n",
        "from sklearn.model_selection import train_test_split\n",
        "from sklearn.preprocessing import StandardScaler\n",
        "# Enable inline plots\n",
        "%matplotlib inline\n",
        "# Set plots formats to save high resolution PNG\n",
        "from IPython.display import set_matplotlib_formats\n",
        "set_matplotlib_formats(\"retina\")"
      ],
      "execution_count": 0,
      "outputs": []
    },
    {
      "cell_type": "markdown",
      "metadata": {
        "id": "RW9rwRT654qQ",
        "colab_type": "text"
      },
      "source": [
        "Зададим ширину текстового представления данных, чтобы в дальнейшем текст в отчёте влезал на *А4* \n",
        "\n"
      ]
    },
    {
      "cell_type": "code",
      "metadata": {
        "id": "MQBR8O2cCdxe",
        "colab_type": "code",
        "colab": {}
      },
      "source": [
        "pd.set_option(\"display.width\", 70)"
      ],
      "execution_count": 0,
      "outputs": []
    },
    {
      "cell_type": "markdown",
      "metadata": {
        "id": "Q4am3Lzf6MaX",
        "colab_type": "text"
      },
      "source": [
        "**3.1. Предварительная подготовка данных**"
      ]
    },
    {
      "cell_type": "markdown",
      "metadata": {
        "id": "u29wGMJe75Ih",
        "colab_type": "text"
      },
      "source": [
        "В качестве набора данных используются метрологические данные MapData-Evans-GP.csv  \"Mars\""
      ]
    },
    {
      "cell_type": "code",
      "metadata": {
        "id": "X6I3ZI02CkW5",
        "colab_type": "code",
        "colab": {}
      },
      "source": [
        "data = pd.read_csv(\"/content/sample_data/MapData-Evans-GP.csv\", skiprows=range(1, 45000))"
      ],
      "execution_count": 0,
      "outputs": []
    },
    {
      "cell_type": "code",
      "metadata": {
        "id": "eeW3E4nZx3aO",
        "colab_type": "code",
        "colab": {}
      },
      "source": [
        "def TempreatureCToF(t):\n",
        "  return t*9/5 +32"
      ],
      "execution_count": 0,
      "outputs": []
    },
    {
      "cell_type": "code",
      "metadata": {
        "id": "ZBQxcFnpx5-W",
        "colab_type": "code",
        "colab": {}
      },
      "source": [
        "df = data.copy()\n",
        "df[\"Tempreature(F)\"]=TempreatureCToF(df[\"Temperature\"])\n"
      ],
      "execution_count": 0,
      "outputs": []
    },
    {
      "cell_type": "code",
      "metadata": {
        "id": "WFYlpzRntdLd",
        "colab_type": "code",
        "colab": {}
      },
      "source": [
        "X = df.drop([\"Difficulty Challenge\",\"Dust Devils\",\"Latitude\",\"Longitude\",\"Topography\",\"Map Name\",\n",
        "              \"Named Location\",\"Breakthrough 1\",\"Meteors\",\"Cold Waves\",\"Concrete\",\"Tempreature(F)\",\"Temperature\",\n",
        "              \"Breakthrough 2\",\"Breakthrough 3\",\"Breakthrough 4\",\"Breakthrough 5\",\"Breakthrough 6\",\n",
        "              \"Breakthrough 7\",\"Breakthrough 8\",\"Breakthrough 9\",\"Breakthrough 10\",\"Breakthrough 11\",\n",
        "              \"Breakthrough 12\",\"Breakthrough 13\",\"Breakthrough 14\",\"Breakthrough 15\",\"Breakthrough 16\",\n",
        "              \"Breakthrough 17\",\"Dust Storms\",\"Altitude\"               \n",
        "              ],axis=1)"
      ],
      "execution_count": 0,
      "outputs": []
    },
    {
      "cell_type": "code",
      "metadata": {
        "id": "1BiYbnj09jBm",
        "colab_type": "code",
        "outputId": "7abcee6f-525d-4d34-fcdc-0bf63e9ff701",
        "colab": {
          "base_uri": "https://localhost:8080/",
          "height": 119
        }
      },
      "source": [
        "X.dtypes"
      ],
      "execution_count": 9,
      "outputs": [
        {
          "output_type": "execute_result",
          "data": {
            "text/plain": [
              "Latitude °     int64\n",
              "Longitude °    int64\n",
              "Metals         int64\n",
              "Rare Metals    int64\n",
              "Water          int64\n",
              "dtype: object"
            ]
          },
          "metadata": {
            "tags": []
          },
          "execution_count": 9
        }
      ]
    },
    {
      "cell_type": "markdown",
      "metadata": {
        "id": "DiPs11OV9n31",
        "colab_type": "text"
      },
      "source": [
        "Посмотрим на данные в данном наборе данных:"
      ]
    },
    {
      "cell_type": "code",
      "metadata": {
        "id": "FukUcWsJ9lYD",
        "colab_type": "code",
        "outputId": "4b651d05-88cc-4554-e8bd-7472f1f7d833",
        "colab": {
          "base_uri": "https://localhost:8080/",
          "height": 204
        }
      },
      "source": [
        "X.head()"
      ],
      "execution_count": 10,
      "outputs": [
        {
          "output_type": "execute_result",
          "data": {
            "text/html": [
              "<div>\n",
              "<style scoped>\n",
              "    .dataframe tbody tr th:only-of-type {\n",
              "        vertical-align: middle;\n",
              "    }\n",
              "\n",
              "    .dataframe tbody tr th {\n",
              "        vertical-align: top;\n",
              "    }\n",
              "\n",
              "    .dataframe thead th {\n",
              "        text-align: right;\n",
              "    }\n",
              "</style>\n",
              "<table border=\"1\" class=\"dataframe\">\n",
              "  <thead>\n",
              "    <tr style=\"text-align: right;\">\n",
              "      <th></th>\n",
              "      <th>Latitude °</th>\n",
              "      <th>Longitude °</th>\n",
              "      <th>Metals</th>\n",
              "      <th>Rare Metals</th>\n",
              "      <th>Water</th>\n",
              "    </tr>\n",
              "  </thead>\n",
              "  <tbody>\n",
              "    <tr>\n",
              "      <th>0</th>\n",
              "      <td>62</td>\n",
              "      <td>149</td>\n",
              "      <td>2</td>\n",
              "      <td>2</td>\n",
              "      <td>1</td>\n",
              "    </tr>\n",
              "    <tr>\n",
              "      <th>1</th>\n",
              "      <td>62</td>\n",
              "      <td>149</td>\n",
              "      <td>1</td>\n",
              "      <td>1</td>\n",
              "      <td>1</td>\n",
              "    </tr>\n",
              "    <tr>\n",
              "      <th>2</th>\n",
              "      <td>62</td>\n",
              "      <td>150</td>\n",
              "      <td>2</td>\n",
              "      <td>2</td>\n",
              "      <td>2</td>\n",
              "    </tr>\n",
              "    <tr>\n",
              "      <th>3</th>\n",
              "      <td>62</td>\n",
              "      <td>150</td>\n",
              "      <td>2</td>\n",
              "      <td>2</td>\n",
              "      <td>2</td>\n",
              "    </tr>\n",
              "    <tr>\n",
              "      <th>4</th>\n",
              "      <td>62</td>\n",
              "      <td>150</td>\n",
              "      <td>2</td>\n",
              "      <td>2</td>\n",
              "      <td>1</td>\n",
              "    </tr>\n",
              "  </tbody>\n",
              "</table>\n",
              "</div>"
            ],
            "text/plain": [
              "   Latitude °  Longitude °  Metals  Rare Metals  Water\n",
              "0          62          149       2            2      1\n",
              "1          62          149       1            1      1\n",
              "2          62          150       2            2      2\n",
              "3          62          150       2            2      2\n",
              "4          62          150       2            2      1"
            ]
          },
          "metadata": {
            "tags": []
          },
          "execution_count": 10
        }
      ]
    },
    {
      "cell_type": "markdown",
      "metadata": {
        "id": "aehpjpD7_Ne0",
        "colab_type": "text"
      },
      "source": [
        "Convert Temperature (° F)   to Temperature (C)  "
      ]
    },
    {
      "cell_type": "markdown",
      "metadata": {
        "id": "Rw6TYTOaHYVZ",
        "colab_type": "text"
      },
      "source": [
        "С такими данными уже можно работать. Проверим размер набора данных:"
      ]
    },
    {
      "cell_type": "code",
      "metadata": {
        "id": "KXEov3GwHY9J",
        "colab_type": "code",
        "outputId": "127cbc91-e80c-4949-d6ed-2a51634e4e50",
        "colab": {
          "base_uri": "https://localhost:8080/",
          "height": 34
        }
      },
      "source": [
        "X.shape"
      ],
      "execution_count": 12,
      "outputs": [
        {
          "output_type": "execute_result",
          "data": {
            "text/plain": [
              "(5902, 5)"
            ]
          },
          "metadata": {
            "tags": []
          },
          "execution_count": 12
        }
      ]
    },
    {
      "cell_type": "markdown",
      "metadata": {
        "id": "RTID9-MLHdcT",
        "colab_type": "text"
      },
      "source": [
        "Проверим основные статистические характеристики набора данных:"
      ]
    },
    {
      "cell_type": "code",
      "metadata": {
        "id": "rKU_A9K1HbYy",
        "colab_type": "code",
        "outputId": "3c699c9d-872d-402b-edd7-85b86a0318b9",
        "colab": {
          "base_uri": "https://localhost:8080/",
          "height": 297
        }
      },
      "source": [
        "X.describe()"
      ],
      "execution_count": 13,
      "outputs": [
        {
          "output_type": "execute_result",
          "data": {
            "text/html": [
              "<div>\n",
              "<style scoped>\n",
              "    .dataframe tbody tr th:only-of-type {\n",
              "        vertical-align: middle;\n",
              "    }\n",
              "\n",
              "    .dataframe tbody tr th {\n",
              "        vertical-align: top;\n",
              "    }\n",
              "\n",
              "    .dataframe thead th {\n",
              "        text-align: right;\n",
              "    }\n",
              "</style>\n",
              "<table border=\"1\" class=\"dataframe\">\n",
              "  <thead>\n",
              "    <tr style=\"text-align: right;\">\n",
              "      <th></th>\n",
              "      <th>Latitude °</th>\n",
              "      <th>Longitude °</th>\n",
              "      <th>Metals</th>\n",
              "      <th>Rare Metals</th>\n",
              "      <th>Water</th>\n",
              "    </tr>\n",
              "  </thead>\n",
              "  <tbody>\n",
              "    <tr>\n",
              "      <th>count</th>\n",
              "      <td>5902.000000</td>\n",
              "      <td>5902.000000</td>\n",
              "      <td>5902.000000</td>\n",
              "      <td>5902.000000</td>\n",
              "      <td>5902.000000</td>\n",
              "    </tr>\n",
              "    <tr>\n",
              "      <th>mean</th>\n",
              "      <td>66.403931</td>\n",
              "      <td>91.839715</td>\n",
              "      <td>1.998645</td>\n",
              "      <td>1.998645</td>\n",
              "      <td>1.420535</td>\n",
              "    </tr>\n",
              "    <tr>\n",
              "      <th>std</th>\n",
              "      <td>2.358377</td>\n",
              "      <td>52.680989</td>\n",
              "      <td>0.721283</td>\n",
              "      <td>0.721283</td>\n",
              "      <td>0.562367</td>\n",
              "    </tr>\n",
              "    <tr>\n",
              "      <th>min</th>\n",
              "      <td>62.000000</td>\n",
              "      <td>0.000000</td>\n",
              "      <td>1.000000</td>\n",
              "      <td>1.000000</td>\n",
              "      <td>1.000000</td>\n",
              "    </tr>\n",
              "    <tr>\n",
              "      <th>25%</th>\n",
              "      <td>64.000000</td>\n",
              "      <td>46.000000</td>\n",
              "      <td>2.000000</td>\n",
              "      <td>2.000000</td>\n",
              "      <td>1.000000</td>\n",
              "    </tr>\n",
              "    <tr>\n",
              "      <th>50%</th>\n",
              "      <td>66.000000</td>\n",
              "      <td>92.000000</td>\n",
              "      <td>2.000000</td>\n",
              "      <td>2.000000</td>\n",
              "      <td>1.000000</td>\n",
              "    </tr>\n",
              "    <tr>\n",
              "      <th>75%</th>\n",
              "      <td>68.000000</td>\n",
              "      <td>138.000000</td>\n",
              "      <td>2.000000</td>\n",
              "      <td>2.000000</td>\n",
              "      <td>2.000000</td>\n",
              "    </tr>\n",
              "    <tr>\n",
              "      <th>max</th>\n",
              "      <td>70.000000</td>\n",
              "      <td>180.000000</td>\n",
              "      <td>4.000000</td>\n",
              "      <td>4.000000</td>\n",
              "      <td>3.000000</td>\n",
              "    </tr>\n",
              "  </tbody>\n",
              "</table>\n",
              "</div>"
            ],
            "text/plain": [
              "        Latitude °  Longitude °       Metals  Rare Metals        Water\n",
              "count  5902.000000  5902.000000  5902.000000  5902.000000  5902.000000\n",
              "mean     66.403931    91.839715     1.998645     1.998645     1.420535\n",
              "std       2.358377    52.680989     0.721283     0.721283     0.562367\n",
              "min      62.000000     0.000000     1.000000     1.000000     1.000000\n",
              "25%      64.000000    46.000000     2.000000     2.000000     1.000000\n",
              "50%      66.000000    92.000000     2.000000     2.000000     1.000000\n",
              "75%      68.000000   138.000000     2.000000     2.000000     2.000000\n",
              "max      70.000000   180.000000     4.000000     4.000000     3.000000"
            ]
          },
          "metadata": {
            "tags": []
          },
          "execution_count": 13
        }
      ]
    },
    {
      "cell_type": "markdown",
      "metadata": {
        "id": "E-ylQYgkHkVV",
        "colab_type": "text"
      },
      "source": [
        "Проверим наличие пропусков в данных:"
      ]
    },
    {
      "cell_type": "code",
      "metadata": {
        "id": "FH5EruxPHlXM",
        "colab_type": "code",
        "outputId": "4873ab56-9353-4c8b-8738-031771018db8",
        "colab": {
          "base_uri": "https://localhost:8080/",
          "height": 119
        }
      },
      "source": [
        "X.isnull().sum()"
      ],
      "execution_count": 14,
      "outputs": [
        {
          "output_type": "execute_result",
          "data": {
            "text/plain": [
              "Latitude °     0\n",
              "Longitude °    0\n",
              "Metals         0\n",
              "Rare Metals    0\n",
              "Water          0\n",
              "dtype: int64"
            ]
          },
          "metadata": {
            "tags": []
          },
          "execution_count": 14
        }
      ]
    },
    {
      "cell_type": "markdown",
      "metadata": {
        "id": "q66qtpAtHpYc",
        "colab_type": "text"
      },
      "source": [
        "**3.2. Разделение данных**"
      ]
    },
    {
      "cell_type": "markdown",
      "metadata": {
        "id": "lISEjgeAHtMD",
        "colab_type": "text"
      },
      "source": [
        "Разделим данные на целевой столбец и признаки:"
      ]
    },
    {
      "cell_type": "code",
      "metadata": {
        "id": "9efzpyMbWdnG",
        "colab_type": "code",
        "outputId": "78c9159d-890e-47d5-d5b9-32c0ec693f38",
        "colab": {
          "base_uri": "https://localhost:8080/",
          "height": 119
        }
      },
      "source": [
        "X.dtypes"
      ],
      "execution_count": 15,
      "outputs": [
        {
          "output_type": "execute_result",
          "data": {
            "text/plain": [
              "Latitude °     int64\n",
              "Longitude °    int64\n",
              "Metals         int64\n",
              "Rare Metals    int64\n",
              "Water          int64\n",
              "dtype: object"
            ]
          },
          "metadata": {
            "tags": []
          },
          "execution_count": 15
        }
      ]
    },
    {
      "cell_type": "code",
      "metadata": {
        "id": "J6MTODsTJrFX",
        "colab_type": "code",
        "outputId": "7412f6b5-f690-475b-9a07-cab440ea89f4",
        "colab": {
          "base_uri": "https://localhost:8080/",
          "height": 238
        }
      },
      "source": [
        "print(X.head(), \"\\n\")\n",
        "y = df[\"Tempreature(F)\"]\n",
        "print(y.head())"
      ],
      "execution_count": 17,
      "outputs": [
        {
          "output_type": "stream",
          "text": [
            "   Latitude °  Longitude °  Metals  Rare Metals  Water\n",
            "0          62          149       2            2      1\n",
            "1          62          149       1            1      1\n",
            "2          62          150       2            2      2\n",
            "3          62          150       2            2      2\n",
            "4          62          150       2            2      1 \n",
            "\n",
            "0   -122.8\n",
            "1   -122.8\n",
            "2      5.0\n",
            "3    -20.2\n",
            "4   -122.8\n",
            "Name: Tempreature(F), dtype: float64\n"
          ],
          "name": "stdout"
        }
      ]
    },
    {
      "cell_type": "code",
      "metadata": {
        "id": "v-cDrsbdKmtG",
        "colab_type": "code",
        "outputId": "1f05c580-83d0-44e3-8150-4a1f87a0a15b",
        "colab": {
          "base_uri": "https://localhost:8080/",
          "height": 51
        }
      },
      "source": [
        " print(X.shape)\n",
        "print(y.shape)"
      ],
      "execution_count": 0,
      "outputs": [
        {
          "output_type": "stream",
          "text": [
            "(5902, 5)\n",
            "(5902,)\n"
          ],
          "name": "stdout"
        }
      ]
    },
    {
      "cell_type": "markdown",
      "metadata": {
        "id": "lPpsN3YGMWUv",
        "colab_type": "text"
      },
      "source": [
        "Предобработаем данные, чтобы методы работали лучше:"
      ]
    },
    {
      "cell_type": "code",
      "metadata": {
        "id": "W5daOs5JMXSb",
        "colab_type": "code",
        "outputId": "9e9fa5ed-0b73-43f7-a24a-4a299ab229e4",
        "colab": {
          "base_uri": "https://localhost:8080/",
          "height": 297
        }
      },
      "source": [
        "columns = X.columns\n",
        "scaler = StandardScaler()\n",
        "X = scaler.fit_transform(X)\n",
        "pd.DataFrame(X, columns=columns).describe()\n"
      ],
      "execution_count": 18,
      "outputs": [
        {
          "output_type": "execute_result",
          "data": {
            "text/html": [
              "<div>\n",
              "<style scoped>\n",
              "    .dataframe tbody tr th:only-of-type {\n",
              "        vertical-align: middle;\n",
              "    }\n",
              "\n",
              "    .dataframe tbody tr th {\n",
              "        vertical-align: top;\n",
              "    }\n",
              "\n",
              "    .dataframe thead th {\n",
              "        text-align: right;\n",
              "    }\n",
              "</style>\n",
              "<table border=\"1\" class=\"dataframe\">\n",
              "  <thead>\n",
              "    <tr style=\"text-align: right;\">\n",
              "      <th></th>\n",
              "      <th>Latitude °</th>\n",
              "      <th>Longitude °</th>\n",
              "      <th>Metals</th>\n",
              "      <th>Rare Metals</th>\n",
              "      <th>Water</th>\n",
              "    </tr>\n",
              "  </thead>\n",
              "  <tbody>\n",
              "    <tr>\n",
              "      <th>count</th>\n",
              "      <td>5.902000e+03</td>\n",
              "      <td>5.902000e+03</td>\n",
              "      <td>5.902000e+03</td>\n",
              "      <td>5.902000e+03</td>\n",
              "      <td>5.902000e+03</td>\n",
              "    </tr>\n",
              "    <tr>\n",
              "      <th>mean</th>\n",
              "      <td>-2.600119e-14</td>\n",
              "      <td>1.191110e-16</td>\n",
              "      <td>-5.149012e-15</td>\n",
              "      <td>-5.149012e-15</td>\n",
              "      <td>1.096555e-14</td>\n",
              "    </tr>\n",
              "    <tr>\n",
              "      <th>std</th>\n",
              "      <td>1.000085e+00</td>\n",
              "      <td>1.000085e+00</td>\n",
              "      <td>1.000085e+00</td>\n",
              "      <td>1.000085e+00</td>\n",
              "      <td>1.000085e+00</td>\n",
              "    </tr>\n",
              "    <tr>\n",
              "      <th>min</th>\n",
              "      <td>-1.867515e+00</td>\n",
              "      <td>-1.743466e+00</td>\n",
              "      <td>-1.384657e+00</td>\n",
              "      <td>-1.384657e+00</td>\n",
              "      <td>-7.478585e-01</td>\n",
              "    </tr>\n",
              "    <tr>\n",
              "      <th>25%</th>\n",
              "      <td>-1.019402e+00</td>\n",
              "      <td>-8.702114e-01</td>\n",
              "      <td>1.879412e-03</td>\n",
              "      <td>1.879412e-03</td>\n",
              "      <td>-7.478585e-01</td>\n",
              "    </tr>\n",
              "    <tr>\n",
              "      <th>50%</th>\n",
              "      <td>-1.712894e-01</td>\n",
              "      <td>3.042810e-03</td>\n",
              "      <td>1.879412e-03</td>\n",
              "      <td>1.879412e-03</td>\n",
              "      <td>-7.478585e-01</td>\n",
              "    </tr>\n",
              "    <tr>\n",
              "      <th>75%</th>\n",
              "      <td>6.768232e-01</td>\n",
              "      <td>8.762971e-01</td>\n",
              "      <td>1.879412e-03</td>\n",
              "      <td>1.879412e-03</td>\n",
              "      <td>1.030490e+00</td>\n",
              "    </tr>\n",
              "    <tr>\n",
              "      <th>max</th>\n",
              "      <td>1.524936e+00</td>\n",
              "      <td>1.673616e+00</td>\n",
              "      <td>2.774952e+00</td>\n",
              "      <td>2.774952e+00</td>\n",
              "      <td>2.808839e+00</td>\n",
              "    </tr>\n",
              "  </tbody>\n",
              "</table>\n",
              "</div>"
            ],
            "text/plain": [
              "         Latitude °   Longitude °        Metals   Rare Metals         Water\n",
              "count  5.902000e+03  5.902000e+03  5.902000e+03  5.902000e+03  5.902000e+03\n",
              "mean  -2.600119e-14  1.191110e-16 -5.149012e-15 -5.149012e-15  1.096555e-14\n",
              "std    1.000085e+00  1.000085e+00  1.000085e+00  1.000085e+00  1.000085e+00\n",
              "min   -1.867515e+00 -1.743466e+00 -1.384657e+00 -1.384657e+00 -7.478585e-01\n",
              "25%   -1.019402e+00 -8.702114e-01  1.879412e-03  1.879412e-03 -7.478585e-01\n",
              "50%   -1.712894e-01  3.042810e-03  1.879412e-03  1.879412e-03 -7.478585e-01\n",
              "75%    6.768232e-01  8.762971e-01  1.879412e-03  1.879412e-03  1.030490e+00\n",
              "max    1.524936e+00  1.673616e+00  2.774952e+00  2.774952e+00  2.808839e+00"
            ]
          },
          "metadata": {
            "tags": []
          },
          "execution_count": 18
        }
      ]
    },
    {
      "cell_type": "markdown",
      "metadata": {
        "id": "ql3FsNoiNQCZ",
        "colab_type": "text"
      },
      "source": [
        "Разделим выборку на тренировочную и тестовую:"
      ]
    },
    {
      "cell_type": "code",
      "metadata": {
        "id": "IQ4Gs6AmNQrB",
        "colab_type": "code",
        "colab": {}
      },
      "source": [
        " X_train, X_test, y_train, y_test = train_test_split(X, y,\n",
        "test_size=0.25, random_state=346705925)"
      ],
      "execution_count": 0,
      "outputs": []
    },
    {
      "cell_type": "code",
      "metadata": {
        "id": "flznUHqQNXHz",
        "colab_type": "code",
        "outputId": "71ee94cc-6504-49be-8e33-f9d330a2196c",
        "colab": {
          "base_uri": "https://localhost:8080/",
          "height": 85
        }
      },
      "source": [
        "print(X_train.shape)\n",
        "print(X_test.shape)\n",
        "print(y_train.shape)\n",
        "print(y_test.shape)"
      ],
      "execution_count": 20,
      "outputs": [
        {
          "output_type": "stream",
          "text": [
            "(4426, 5)\n",
            "(1476, 5)\n",
            "(4426,)\n",
            "(1476,)\n"
          ],
          "name": "stdout"
        }
      ]
    },
    {
      "cell_type": "markdown",
      "metadata": {
        "id": "gs26ECUuNcXl",
        "colab_type": "text"
      },
      "source": [
        "3.3. Обучение моделей\n",
        " \n",
        "\n",
        "Напишем функцию, которая считает метрики построенной модели:"
      ]
    },
    {
      "cell_type": "code",
      "metadata": {
        "id": "N53mkqkHNaHs",
        "colab_type": "code",
        "colab": {}
      },
      "source": [
        "def test_model(model):\n",
        "  print(\"mean_absolute_error:\",\n",
        "  mean_absolute_error(y_test, model.predict(X_test)))\n",
        "  print(\"median_absolute_error:\",\n",
        "  median_absolute_error(y_test, model.predict(X_test)))\n",
        "  print(\"r2_score:\",\n",
        "  r2_score(y_test, model.predict(X_test)))"
      ],
      "execution_count": 0,
      "outputs": []
    },
    {
      "cell_type": "markdown",
      "metadata": {
        "id": "XQk9fisZ_noz",
        "colab_type": "text"
      },
      "source": [
        "**3.3.1. Случайный лес**"
      ]
    },
    {
      "cell_type": "markdown",
      "metadata": {
        "id": "iKxXGgFZ_qQD",
        "colab_type": "text"
      },
      "source": [
        "Попробуем случайный лес с гиперпараметром n = 100:"
      ]
    },
    {
      "cell_type": "code",
      "metadata": {
        "id": "VaiT9hw-zs97",
        "colab_type": "code",
        "colab": {
          "base_uri": "https://localhost:8080/",
          "height": 136
        },
        "outputId": "45da698d-029d-4e9e-b403-692e292090d0"
      },
      "source": [
        "ran_100 = RandomForestRegressor(n_estimators=100)\n",
        "ran_100.fit(X_train, y_train)"
      ],
      "execution_count": 22,
      "outputs": [
        {
          "output_type": "execute_result",
          "data": {
            "text/plain": [
              "RandomForestRegressor(bootstrap=True, ccp_alpha=0.0, criterion='mse',\n",
              "                      max_depth=None, max_features='auto', max_leaf_nodes=None,\n",
              "                      max_samples=None, min_impurity_decrease=0.0,\n",
              "                      min_impurity_split=None, min_samples_leaf=1,\n",
              "                      min_samples_split=2, min_weight_fraction_leaf=0.0,\n",
              "                      n_estimators=100, n_jobs=None, oob_score=False,\n",
              "                      random_state=None, verbose=0, warm_start=False)"
            ]
          },
          "metadata": {
            "tags": []
          },
          "execution_count": 22
        }
      ]
    },
    {
      "cell_type": "code",
      "metadata": {
        "id": "iIOGJOawzxi7",
        "colab_type": "code",
        "colab": {
          "base_uri": "https://localhost:8080/",
          "height": 68
        },
        "outputId": "433c0a75-a88a-4a8b-8184-f7961f8bb205"
      },
      "source": [
        "test_model(ran_100)"
      ],
      "execution_count": 23,
      "outputs": [
        {
          "output_type": "stream",
          "text": [
            "mean_absolute_error: 25.902023054587726\n",
            "median_absolute_error: 3.906000000000141\n",
            "r2_score: 0.3217273006719126\n"
          ],
          "name": "stdout"
        }
      ]
    },
    {
      "cell_type": "markdown",
      "metadata": {
        "id": "hW9XziUhz04w",
        "colab_type": "text"
      },
      "source": [
        "**3.3.2. Градиентный бустинг**"
      ]
    },
    {
      "cell_type": "code",
      "metadata": {
        "id": "hCuubastz2QZ",
        "colab_type": "code",
        "colab": {
          "base_uri": "https://localhost:8080/",
          "height": 170
        },
        "outputId": "c07f73f2-3265-4e56-9ecb-edd3329c81df"
      },
      "source": [
        "gr_100 = GradientBoostingRegressor(n_estimators=100)\n",
        "gr_100.fit(X_train, y_train)"
      ],
      "execution_count": 24,
      "outputs": [
        {
          "output_type": "execute_result",
          "data": {
            "text/plain": [
              "GradientBoostingRegressor(alpha=0.9, ccp_alpha=0.0, criterion='friedman_mse',\n",
              "                          init=None, learning_rate=0.1, loss='ls', max_depth=3,\n",
              "                          max_features=None, max_leaf_nodes=None,\n",
              "                          min_impurity_decrease=0.0, min_impurity_split=None,\n",
              "                          min_samples_leaf=1, min_samples_split=2,\n",
              "                          min_weight_fraction_leaf=0.0, n_estimators=100,\n",
              "                          n_iter_no_change=None, presort='deprecated',\n",
              "                          random_state=None, subsample=1.0, tol=0.0001,\n",
              "                          validation_fraction=0.1, verbose=0, warm_start=False)"
            ]
          },
          "metadata": {
            "tags": []
          },
          "execution_count": 24
        }
      ]
    },
    {
      "cell_type": "code",
      "metadata": {
        "id": "hZ6ms7r_z77B",
        "colab_type": "code",
        "colab": {
          "base_uri": "https://localhost:8080/",
          "height": 68
        },
        "outputId": "67d98954-fe57-425c-9af5-2a823da79a9e"
      },
      "source": [
        "test_model(gr_100)"
      ],
      "execution_count": 25,
      "outputs": [
        {
          "output_type": "stream",
          "text": [
            "mean_absolute_error: 25.24586753549456\n",
            "median_absolute_error: 14.403326059301236\n",
            "r2_score: 0.578731187952973\n"
          ],
          "name": "stdout"
        }
      ]
    },
    {
      "cell_type": "markdown",
      "metadata": {
        "id": "T7Tm8y-Bz-_8",
        "colab_type": "text"
      },
      "source": [
        "**3.4. Подбор гиперпараметра n**"
      ]
    },
    {
      "cell_type": "markdown",
      "metadata": {
        "id": "CF5nftGC0AIQ",
        "colab_type": "text"
      },
      "source": [
        "3.4.1. Случайный лес"
      ]
    },
    {
      "cell_type": "code",
      "metadata": {
        "id": "29GJpumG0CNC",
        "colab_type": "code",
        "colab": {
          "base_uri": "https://localhost:8080/",
          "height": 51
        },
        "outputId": "37963b05-2ece-4aa6-ca92-84d40af6218d"
      },
      "source": [
        "param_range = np.arange(10, 201, 10)\n",
        "tuned_parameters = [{'n_estimators': param_range}]\n",
        "tuned_parameters"
      ],
      "execution_count": 26,
      "outputs": [
        {
          "output_type": "execute_result",
          "data": {
            "text/plain": [
              "[{'n_estimators': array([ 10,  20,  30,  40,  50,  60,  70,  80,  90, 100, 110, 120, 130,\n",
              "         140, 150, 160, 170, 180, 190, 200])}]"
            ]
          },
          "metadata": {
            "tags": []
          },
          "execution_count": 26
        }
      ]
    },
    {
      "cell_type": "code",
      "metadata": {
        "id": "dP-aFui30GI5",
        "colab_type": "code",
        "colab": {
          "base_uri": "https://localhost:8080/",
          "height": 136
        },
        "outputId": "f315618d-b499-4351-86df-d111ac481d73"
      },
      "source": [
        "gs = GridSearchCV(RandomForestRegressor(), tuned_parameters,\n",
        "cv=ShuffleSplit(n_splits=10), scoring=\"r2\",\n",
        "return_train_score=True, n_jobs=-1)\n",
        "gs.fit(X, y)\n",
        "gs.best_estimator_"
      ],
      "execution_count": 27,
      "outputs": [
        {
          "output_type": "execute_result",
          "data": {
            "text/plain": [
              "RandomForestRegressor(bootstrap=True, ccp_alpha=0.0, criterion='mse',\n",
              "                      max_depth=None, max_features='auto', max_leaf_nodes=None,\n",
              "                      max_samples=None, min_impurity_decrease=0.0,\n",
              "                      min_impurity_split=None, min_samples_leaf=1,\n",
              "                      min_samples_split=2, min_weight_fraction_leaf=0.0,\n",
              "                      n_estimators=170, n_jobs=None, oob_score=False,\n",
              "                      random_state=None, verbose=0, warm_start=False)"
            ]
          },
          "metadata": {
            "tags": []
          },
          "execution_count": 27
        }
      ]
    },
    {
      "cell_type": "code",
      "metadata": {
        "id": "fH08hXWn0JSs",
        "colab_type": "code",
        "colab": {
          "base_uri": "https://localhost:8080/",
          "height": 265
        },
        "outputId": "32251579-0ee3-4ac1-c9cb-f140a9ac0f61"
      },
      "source": [
        "plt.plot(param_range, gs.cv_results_[\"mean_train_score\"]);"
      ],
      "execution_count": 28,
      "outputs": [
        {
          "output_type": "display_data",
          "data": {
            "image/png": "[encoded data removed]",
            "text/plain": [
              "<Figure size 432x288 with 1 Axes>"
            ]
          },
          "metadata": {
            "tags": [],
            "image/png": {
              "width": 384,
              "height": 248
            },
            "needs_background": "light"
          }
        }
      ]
    },
    {
      "cell_type": "code",
      "metadata": {
        "id": "4GnewzQs0tQT",
        "colab_type": "code",
        "colab": {
          "base_uri": "https://localhost:8080/",
          "height": 265
        },
        "outputId": "6c0efdbf-a6b1-4c73-dc2a-a878fdaa0a37"
      },
      "source": [
        "plt.plot(param_range, gs.cv_results_[\"mean_test_score\"]);"
      ],
      "execution_count": 29,
      "outputs": [
        {
          "output_type": "display_data",
          "data": {
            "image/png": "[encoded data removed]",
            "text/plain": [
              "<Figure size 432x288 with 1 Axes>"
            ]
          },
          "metadata": {
            "tags": [],
            "image/png": {
              "width": 384,
              "height": 248
            },
            "needs_background": "light"
          }
        }
      ]
    },
    {
      "cell_type": "code",
      "metadata": {
        "id": "OarsftDP0w-y",
        "colab_type": "code",
        "colab": {
          "base_uri": "https://localhost:8080/",
          "height": 68
        },
        "outputId": "4c3e44d4-ae02-4b73-c5c3-25b903fb7f98"
      },
      "source": [
        "reg = gs.best_estimator_\n",
        "reg.fit(X_train, y_train)\n",
        "test_model(reg)"
      ],
      "execution_count": 30,
      "outputs": [
        {
          "output_type": "stream",
          "text": [
            "mean_absolute_error: 25.955678345765584\n",
            "median_absolute_error: 3.727058823529802\n",
            "r2_score: 0.3177291588641753\n"
          ],
          "name": "stdout"
        }
      ]
    },
    {
      "cell_type": "markdown",
      "metadata": {
        "id": "cbnFA1i30z9U",
        "colab_type": "text"
      },
      "source": [
        "**3.4.2. Градиентный бустинг**"
      ]
    },
    {
      "cell_type": "code",
      "metadata": {
        "id": "IyI5_3di01Ry",
        "colab_type": "code",
        "colab": {
          "base_uri": "https://localhost:8080/",
          "height": 51
        },
        "outputId": "d2c9aae2-da71-47b0-8d18-b4fe853b75b5"
      },
      "source": [
        "tuned_parameters"
      ],
      "execution_count": 31,
      "outputs": [
        {
          "output_type": "execute_result",
          "data": {
            "text/plain": [
              "[{'n_estimators': array([ 10,  20,  30,  40,  50,  60,  70,  80,  90, 100, 110, 120, 130,\n",
              "         140, 150, 160, 170, 180, 190, 200])}]"
            ]
          },
          "metadata": {
            "tags": []
          },
          "execution_count": 31
        }
      ]
    },
    {
      "cell_type": "code",
      "metadata": {
        "id": "17yH9Bib0487",
        "colab_type": "code",
        "colab": {
          "base_uri": "https://localhost:8080/",
          "height": 170
        },
        "outputId": "3a7eb500-97bd-430e-efee-acbe6f7c1f98"
      },
      "source": [
        "gs = GridSearchCV(GradientBoostingRegressor(), tuned_parameters,\n",
        "cv=ShuffleSplit(n_splits=10), scoring=\"r2\",\n",
        "return_train_score=True, n_jobs=-1)\n",
        "gs.fit(X, y)\n",
        "gs.best_estimator_"
      ],
      "execution_count": 32,
      "outputs": [
        {
          "output_type": "execute_result",
          "data": {
            "text/plain": [
              "GradientBoostingRegressor(alpha=0.9, ccp_alpha=0.0, criterion='friedman_mse',\n",
              "                          init=None, learning_rate=0.1, loss='ls', max_depth=3,\n",
              "                          max_features=None, max_leaf_nodes=None,\n",
              "                          min_impurity_decrease=0.0, min_impurity_split=None,\n",
              "                          min_samples_leaf=1, min_samples_split=2,\n",
              "                          min_weight_fraction_leaf=0.0, n_estimators=200,\n",
              "                          n_iter_no_change=None, presort='deprecated',\n",
              "                          random_state=None, subsample=1.0, tol=0.0001,\n",
              "                          validation_fraction=0.1, verbose=0, warm_start=False)"
            ]
          },
          "metadata": {
            "tags": []
          },
          "execution_count": 32
        }
      ]
    },
    {
      "cell_type": "code",
      "metadata": {
        "id": "kgtR3deA1DP5",
        "colab_type": "code",
        "colab": {
          "base_uri": "https://localhost:8080/",
          "height": 265
        },
        "outputId": "f7c75a1e-fcb1-425a-a11f-dc2126c061bf"
      },
      "source": [
        "plt.plot(param_range, gs.cv_results_[\"mean_train_score\"]);"
      ],
      "execution_count": 33,
      "outputs": [
        {
          "output_type": "display_data",
          "data": {
            "image/png": "[encoded data removed]",
            "text/plain": [
              "<Figure size 432x288 with 1 Axes>"
            ]
          },
          "metadata": {
            "tags": [],
            "image/png": {
              "width": 385,
              "height": 248
            },
            "needs_background": "light"
          }
        }
      ]
    },
    {
      "cell_type": "code",
      "metadata": {
        "id": "e2ryZW7D1F1A",
        "colab_type": "code",
        "colab": {
          "base_uri": "https://localhost:8080/",
          "height": 265
        },
        "outputId": "45904ca4-3743-4d2f-a611-f8ca366a30c3"
      },
      "source": [
        "plt.plot(param_range, gs.cv_results_[\"mean_test_score\"]);"
      ],
      "execution_count": 34,
      "outputs": [
        {
          "output_type": "display_data",
          "data": {
            "image/png": "[encoded data removed]",
            "text/plain": [
              "<Figure size 432x288 with 1 Axes>"
            ]
          },
          "metadata": {
            "tags": [],
            "image/png": {
              "width": 385,
              "height": 248
            },
            "needs_background": "light"
          }
        }
      ]
    },
    {
      "cell_type": "code",
      "metadata": {
        "id": "jEaCX74I1Iqt",
        "colab_type": "code",
        "colab": {
          "base_uri": "https://localhost:8080/",
          "height": 68
        },
        "outputId": "88ce58d7-714c-4543-f0e6-50bcd17c7d4e"
      },
      "source": [
        "reg = gs.best_estimator_\n",
        "reg.fit(X_train, y_train)\n",
        "test_model(reg)"
      ],
      "execution_count": 35,
      "outputs": [
        {
          "output_type": "stream",
          "text": [
            "mean_absolute_error: 24.54115075254639\n",
            "median_absolute_error: 12.836797097003473\n",
            "r2_score: 0.5831520547363556\n"
          ],
          "name": "stdout"
        }
      ]
    }
  ]
}
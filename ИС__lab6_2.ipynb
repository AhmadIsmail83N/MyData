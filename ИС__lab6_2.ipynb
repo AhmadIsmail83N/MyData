{
  "nbformat": 4,
  "nbformat_minor": 0,
  "metadata": {
    "colab": {
      "name": "ИС__lab6_2.ipynb",
      "provenance": [],
      "collapsed_sections": [],
      "include_colab_link": true
    },
    "kernelspec": {
      "name": "python3",
      "display_name": "Python 3"
    }
  },
  "cells": [
    {
      "cell_type": "markdown",
      "metadata": {
        "id": "view-in-github",
        "colab_type": "text"
      },
      "source": [
        "<a href=\"https://colab.research.google.com/github/AhmadIsmail83N/MyData/blob/master/%D0%98%D0%A1__lab6_2.ipynb\" target=\"_parent\"><img src=\"https://colab.research.google.com/assets/colab-badge.svg\" alt=\"Open In Colab\"/></a>"
      ]
    },
    {
      "cell_type": "code",
      "metadata": {
        "id": "9Ezi0Im18w5B",
        "colab_type": "code",
        "outputId": "dad14212-dd72-4944-ffb0-52b0d9c86231",
        "colab": {
          "base_uri": "https://localhost:8080/",
          "height": 34
        }
      },
      "source": [
        "%tensorflow_version 1.x"
      ],
      "execution_count": 1,
      "outputs": [
        {
          "output_type": "stream",
          "text": [
            "TensorFlow 1.x selected.\n"
          ],
          "name": "stdout"
        }
      ]
    },
    {
      "cell_type": "code",
      "metadata": {
        "id": "RAYfOzTU_-1M",
        "colab_type": "code",
        "colab": {}
      },
      "source": [
        "import numpy as np\n",
        "import random\n",
        "import math\n",
        "import tensorflow as tf\n",
        "import matplotlib.pyplot as plt"
      ],
      "execution_count": 0,
      "outputs": []
    },
    {
      "cell_type": "markdown",
      "metadata": {
        "id": "BYxc9ovVoPG3",
        "colab_type": "text"
      },
      "source": [
        "**Data generation**"
      ]
    },
    {
      "cell_type": "markdown",
      "metadata": {
        "id": "br_WB0mzoZv2",
        "colab_type": "text"
      },
      "source": [
        "**Auxiliary f-I to determine the series, which is a superposition of 2x sinusoids**"
      ]
    },
    {
      "cell_type": "code",
      "metadata": {
        "id": "ZfD_IV3HZ7F2",
        "colab_type": "code",
        "colab": {}
      },
      "source": [
        "def generate_x_y_data_two_freqs(isTrain , batch_size , seq_length):\n",
        "    batch_x = [] \n",
        "    batch_y = []\n",
        "\n",
        "    for _ in range(batch_size):\n",
        "        offset_rand = random.random() * 2 * math.pi\n",
        "        freq_rand = (random.random() - 0.5) / 1.5 * 15 + 0.5\n",
        "        amp_rand = random.random() + 0.1\n",
        "        \n",
        "        sig1 = amp_rand * np.sin(np.linspace(\n",
        "            seq_length / 15.0 * freq_rand * 0.0 * math.pi + offset_rand,\n",
        "            seq_length / 15.0 * freq_rand * 3.0 * math.pi + offset_rand , seq_length * 2)\n",
        "        )\n",
        "        \n",
        "        offset_rand = random.random() * 2 * math.pi\n",
        "        freq_rand = (random.random() - 0.5) / 1.5 * 15 + 0.5\n",
        "        amp_rand = random.random() * 1.2\n",
        "        sig1 = amp_rand * np.cos(np.linspace(\n",
        "            seq_length / 15.0 * freq_rand * 0.0 * math.pi + offset_rand,\n",
        "            seq_length / 15.0 * freq_rand * 3.0 * math.pi + offset_rand , seq_length * 2)\n",
        "        ) + sig1\n",
        "        \n",
        "        x1 = sig1[:seq_length]\n",
        "        y1 = sig1[seq_length:]\n",
        "        x_ = np.array([x1])\n",
        "        y_ = np.array([y1])\n",
        "        x_, y_ = x_.T, y_.T\n",
        "        \n",
        "        batch_x.append(x_)\n",
        "        batch_y.append(y_)\n",
        "        \n",
        "    batch_x = np.array(batch_x)\n",
        "    batch_y = np.array(batch_y)\n",
        "    # размерность: (batch_size , seq_length , output_dim)\n",
        "    batch_x = np.array(batch_x).transpose((1, 0, 2))\n",
        "    batch_y = np.array(batch_y).transpose((1, 0, 2))\n",
        "    # размерность: (seq_length , batch_size , output_dim)\n",
        "\n",
        "    return batch_x , batch_y"
      ],
      "execution_count": 0,
      "outputs": []
    },
    {
      "cell_type": "code",
      "metadata": {
        "id": "DhvaGy1zQ45f",
        "colab_type": "code",
        "colab": {}
      },
      "source": [
        "def generate_x_y_data_v2(isTrain, batch_size):\n",
        "    return generate_x_y_data_two_freqs(isTrain, batch_size, seq_length=15)"
      ],
      "execution_count": 0,
      "outputs": []
    },
    {
      "cell_type": "markdown",
      "metadata": {
        "id": "Kryo4X0YqNiC",
        "colab_type": "text"
      },
      "source": [
        "**Parameter Definition НС**"
      ]
    },
    {
      "cell_type": "code",
      "metadata": {
        "id": "6jjpUSLC924R",
        "colab_type": "code",
        "colab": {}
      },
      "source": [
        "# Данные имеют размерность (seq_length , batch_size , output_dim) \n",
        "sample_x , sample_y = generate_x_y_data_v2(isTrain=True , batch_size=3)\n",
        "\n",
        "# Длина последовательности (в данных примерах одинаковая для обучающих и тестовых данных)\n",
        "seq_length = sample_x.shape[0] \n",
        "\n",
        "# Размер пакета количество(тестовых примеров), по которому усредняется градиент\n",
        "batch_size = 100\n",
        "# Размерность выходных данных \n",
        "output_dim = input_dim = sample_x.shape[-1]\n",
        "# Количество скрытых нейронов в каждой ячейке\n",
        "hidden_dim = 50\n",
        "# Количество ячеек рекуррентной сети (в глубину)\n",
        "layers_stacked_count = 1\n",
        "\n",
        "# Параметры оптимизатора \n",
        "# Скорость обучения маленькая (скорость обучения позволяет алгоритму не расходиться во время обучения)\n",
        "learning_rate = 0.007\n",
        "# Количество итераций по обучающей выборке \n",
        "nb_iters = 3000\n",
        "# Дополнительные параметры алгоритма оптимизации\n",
        "lr_decay = 0.75\n",
        "momentum = 0.4\n",
        "# Коэффициент L2 регуляризации\n",
        "lambda_l2_reg = 1e-10"
      ],
      "execution_count": 0,
      "outputs": []
    },
    {
      "cell_type": "markdown",
      "metadata": {
        "id": "vGcKbosKqXcm",
        "colab_type": "text"
      },
      "source": [
        "**Description of Computing Graph**"
      ]
    },
    {
      "cell_type": "code",
      "metadata": {
        "id": "6z5e_fEe9FpG",
        "colab_type": "code",
        "outputId": "5d210fed-f7e6-4e11-df9a-af15b75a473c",
        "colab": {
          "base_uri": "https://localhost:8080/",
          "height": 153
        }
      },
      "source": [
        "tf.nn.seq2seq = tf.contrib.legacy_seq2seq\n",
        "tf.nn.rnn_cell = tf.contrib.rnn\n",
        "tf.nn.rnn_cell.GRUCell = tf.contrib.rnn.GRUCell"
      ],
      "execution_count": 6,
      "outputs": [
        {
          "output_type": "stream",
          "text": [
            "WARNING:tensorflow:\n",
            "The TensorFlow contrib module will not be included in TensorFlow 2.0.\n",
            "For more information, please see:\n",
            "  * https://github.com/tensorflow/community/blob/master/rfcs/20180907-contrib-sunset.md\n",
            "  * https://github.com/tensorflow/addons\n",
            "  * https://github.com/tensorflow/io (for I/O related ops)\n",
            "If you depend on functionality not listed there, please file an issue.\n",
            "\n"
          ],
          "name": "stdout"
        }
      ]
    },
    {
      "cell_type": "code",
      "metadata": {
        "id": "a2fz5s1Yq_LM",
        "colab_type": "code",
        "colab": {}
      },
      "source": [
        "tf.reset_default_graph()\n",
        "# интерактивная сессия\n",
        "sess = tf.InteractiveSession()"
      ],
      "execution_count": 0,
      "outputs": []
    },
    {
      "cell_type": "code",
      "metadata": {
        "id": "yMBw0_It9FvQ",
        "colab_type": "code",
        "outputId": "1d50edf5-11b2-4378-9d3c-1e46a13f1493",
        "colab": {
          "base_uri": "https://localhost:8080/",
          "height": 343
        }
      },
      "source": [
        "with tf.variable_scope('Seq2seq'):\n",
        "    enc_inp = [\n",
        "        tf.placeholder(tf.float32, shape=(None, input_dim), name=\"inp_{}\".format(t))\n",
        "            for t in range(seq_length)\n",
        "    ]\n",
        "\n",
        "    expected_sparse_output = [\n",
        "        tf.placeholder(tf.float32 , shape=(None , output_dim), name=\"expected_sparse_output_\".format(t))\n",
        "            for t in range(seq_length)\n",
        "    ]\n",
        "    \n",
        "    dec_inp = [ tf.zeros_like(enc_inp[0], dtype=np.float32 , name=\"GO\") ] + enc_inp[:-1]\n",
        "    \n",
        "    cells = []\n",
        "    for i in range(layers_stacked_count):\n",
        "        with tf.variable_scope('RNN_{}'.format(i)):\n",
        "            cells.append(tf.nn.rnn_cell.GRUCell(hidden_dim))\n",
        "            \n",
        "    cell = tf.nn.rnn_cell.MultiRNNCell(cells)\n",
        "    \n",
        "    w_in = tf.Variable(tf.random_normal([input_dim , hidden_dim]))\n",
        "    b_in = tf.Variable(tf.random_normal([hidden_dim], mean=1.0))\n",
        "    w_out = tf.Variable(tf.random_normal([hidden_dim , output_dim]))\n",
        "    b_out = tf.Variable(tf.random_normal([output_dim]))\n",
        "\n",
        "    reshaped_inputs = [tf.nn.relu(tf.matmul(i, w_in) + b_in) for i in enc_inp]\n",
        "    \n",
        "    dec_outputs, dec_memory = tf.nn.seq2seq.basic_rnn_seq2seq(enc_inp, dec_inp, cell)\n",
        "    \n",
        "    output_scale_factor = tf.Variable(1.0, name=\"Output_ScaleFactor\")\n",
        "    reshaped_outputs = [output_scale_factor * (tf.matmul(i, w_out) + b_out) for i in dec_outputs]"
      ],
      "execution_count": 8,
      "outputs": [
        {
          "output_type": "stream",
          "text": [
            "WARNING:tensorflow:From <ipython-input-8-a9e263b0cf24>:17: GRUCell.__init__ (from tensorflow.python.ops.rnn_cell_impl) is deprecated and will be removed in a future version.\n",
            "Instructions for updating:\n",
            "This class is equivalent as tf.keras.layers.GRUCell, and will be replaced by that in Tensorflow 2.0.\n",
            "WARNING:tensorflow:From <ipython-input-8-a9e263b0cf24>:19: MultiRNNCell.__init__ (from tensorflow.python.ops.rnn_cell_impl) is deprecated and will be removed in a future version.\n",
            "Instructions for updating:\n",
            "This class is equivalent as tf.keras.layers.StackedRNNCells, and will be replaced by that in Tensorflow 2.0.\n",
            "WARNING:tensorflow:From /tensorflow-1.15.2/python3.6/tensorflow_core/contrib/legacy_seq2seq/python/ops/seq2seq.py:186: static_rnn (from tensorflow.python.ops.rnn) is deprecated and will be removed in a future version.\n",
            "Instructions for updating:\n",
            "Please use `keras.layers.RNN(cell, unroll=True)`, which is equivalent to this API\n",
            "WARNING:tensorflow:From /tensorflow-1.15.2/python3.6/tensorflow_core/python/ops/rnn_cell_impl.py:559: Layer.add_variable (from tensorflow.python.keras.engine.base_layer) is deprecated and will be removed in a future version.\n",
            "Instructions for updating:\n",
            "Please use `layer.add_weight` method instead.\n",
            "WARNING:tensorflow:From /tensorflow-1.15.2/python3.6/tensorflow_core/python/ops/rnn_cell_impl.py:565: calling Constant.__init__ (from tensorflow.python.ops.init_ops) with dtype is deprecated and will be removed in a future version.\n",
            "Instructions for updating:\n",
            "Call initializer instance with the dtype argument instead of passing it to the constructor\n",
            "WARNING:tensorflow:From /tensorflow-1.15.2/python3.6/tensorflow_core/python/ops/rnn_cell_impl.py:575: calling Zeros.__init__ (from tensorflow.python.ops.init_ops) with dtype is deprecated and will be removed in a future version.\n",
            "Instructions for updating:\n",
            "Call initializer instance with the dtype argument instead of passing it to the constructor\n"
          ],
          "name": "stdout"
        }
      ]
    },
    {
      "cell_type": "markdown",
      "metadata": {
        "id": "I2zJDGUutOZE",
        "colab_type": "text"
      },
      "source": [
        "**Description of loss function and optimizer**"
      ]
    },
    {
      "cell_type": "code",
      "metadata": {
        "id": "FtsXiyQNrsNm",
        "colab_type": "code",
        "colab": {}
      },
      "source": [
        "with tf.variable_scope('Loss'):\n",
        "    # L2 loss\n",
        "    output_loss = 0\n",
        "    for _y, _Y in zip(reshaped_outputs, expected_sparse_output):\n",
        "        output_loss += tf.reduce_mean(tf.nn.l2_loss(_y - _Y))\n",
        "\n",
        "    # слагаемое, отвечающее за L2 регуляризацию\n",
        "    reg_loss = 0\n",
        "    for tf_var in tf.trainable_variables():\n",
        "        if not (\"Bias\" in tf_var.name or \"Output_\" in tf_var.name):\n",
        "            reg_loss += tf.reduce_mean(tf.nn.l2_loss(tf_var))\n",
        "\n",
        "    loss = output_loss  + lambda_l2_reg * reg_loss"
      ],
      "execution_count": 0,
      "outputs": []
    },
    {
      "cell_type": "code",
      "metadata": {
        "id": "HLPRAys7rzty",
        "colab_type": "code",
        "outputId": "925ed8db-73a6-4c1c-b992-2b03439ae77d",
        "colab": {
          "base_uri": "https://localhost:8080/",
          "height": 88
        }
      },
      "source": [
        "with tf.variable_scope('Optimizer'):\n",
        "    optimizer = tf.train.RMSPropOptimizer(learning_rate, decay=lr_decay, momentum=momentum)\n",
        "    train_op = optimizer.minimize(loss)"
      ],
      "execution_count": 10,
      "outputs": [
        {
          "output_type": "stream",
          "text": [
            "WARNING:tensorflow:From /tensorflow-1.15.2/python3.6/tensorflow_core/python/training/rmsprop.py:119: calling Ones.__init__ (from tensorflow.python.ops.init_ops) with dtype is deprecated and will be removed in a future version.\n",
            "Instructions for updating:\n",
            "Call initializer instance with the dtype argument instead of passing it to the constructor\n"
          ],
          "name": "stdout"
        }
      ]
    },
    {
      "cell_type": "code",
      "metadata": {
        "id": "8sh6_5on9F2Q",
        "colab_type": "code",
        "colab": {}
      },
      "source": [
        "# Шаг обучения, который оптимизирует веса в соответствии с переданным минипакетом-примеров\n",
        "def train_batch(batch_size):\n",
        "    X, Y = generate_x_y_data_v2(isTrain=True , batch_size=batch_size)\n",
        "    feed_dict = {enc_inp[t]: X[t] for t in range(len(enc_inp))} \n",
        "    feed_dict.update({expected_sparse_output[t]: Y[t] for t in range(len(expected_sparse_output))}) \n",
        "    #  запускаем сессию. При этом рассчитываются тензоры, указанные в первом параметре, \n",
        "    # а значения для них берутся из второго параметра\n",
        "    _, loss_t = sess.run([train_op , loss], feed_dict)\n",
        "    \n",
        "    return loss_t"
      ],
      "execution_count": 0,
      "outputs": []
    },
    {
      "cell_type": "markdown",
      "metadata": {
        "id": "Kqd-VgastE9J",
        "colab_type": "text"
      },
      "source": [
        "**Training and validation НС**"
      ]
    },
    {
      "cell_type": "code",
      "metadata": {
        "id": "BOa8fdVv9F77",
        "colab_type": "code",
        "outputId": "1e2a5686-cd0c-48f9-bfb5-f49e573f1c96",
        "colab": {
          "base_uri": "https://localhost:8080/",
          "height": 1000
        }
      },
      "source": [
        "# Тестовый прогон. Веса не обновляются благодаря тому, что переменная train_op не передается в sess.run\n",
        "def test_batch(batch_size, graph=False): \n",
        "    X, Y = generate_x_y_data_v2(isTrain=False, batch_size=batch_size)\n",
        "    feed_dict = {enc_inp[t]: X[t] for t in range(len(enc_inp))}\n",
        "    feed_dict.update({expected_sparse_output[t]: Y[t] for t in range(len(expected_sparse_output))}) \n",
        "    loss_t = sess.run([loss], feed_dict)\n",
        "    \n",
        "    return loss_t[0]\n",
        "\n",
        "train_losses = []\n",
        "test_losses = []\n",
        "sess.run(tf.global_variables_initializer())\n",
        "\n",
        "#nb_iters - количество шагов для обучения. После каждых 10 шагов проверяется ошибка на тестовой выборке\n",
        "\n",
        "\n",
        "for t in range(nb_iters+1):\n",
        "    train_loss = train_batch(batch_size)\n",
        "    train_losses.append(train_loss)\n",
        "\n",
        "    if t % 10 == 0:\n",
        "        test_loss = test_batch(batch_size, t==nb_iters)\n",
        "        test_losses.append(test_loss)\n",
        "        print(\"Step {}/{}, train loss: {}, \\tTEST loss: {}\".format(t, nb_iters , train_loss , test_loss))\n",
        "\n",
        "print(\"Fin. train loss: {}, \\tTEST loss: {}\".format(train_loss , test_loss))"
      ],
      "execution_count": 12,
      "outputs": [
        {
          "output_type": "stream",
          "text": [
            "Step 0/3000, train loss: 695.0545043945312, \tTEST loss: 469.4497985839844\n",
            "Step 10/3000, train loss: 340.88824462890625, \tTEST loss: 391.8354187011719\n",
            "Step 20/3000, train loss: 360.4458923339844, \tTEST loss: 323.5889892578125\n",
            "Step 30/3000, train loss: 423.68780517578125, \tTEST loss: 363.19390869140625\n",
            "Step 40/3000, train loss: 313.8809509277344, \tTEST loss: 285.9078063964844\n",
            "Step 50/3000, train loss: 363.5986328125, \tTEST loss: 383.50689697265625\n",
            "Step 60/3000, train loss: 365.3365478515625, \tTEST loss: 321.60858154296875\n",
            "Step 70/3000, train loss: 323.4718322753906, \tTEST loss: 306.40478515625\n",
            "Step 80/3000, train loss: 338.4772033691406, \tTEST loss: 316.2676086425781\n",
            "Step 90/3000, train loss: 303.2720947265625, \tTEST loss: 323.22589111328125\n",
            "Step 100/3000, train loss: 290.51873779296875, \tTEST loss: 295.0580139160156\n",
            "Step 110/3000, train loss: 289.6035461425781, \tTEST loss: 269.41668701171875\n",
            "Step 120/3000, train loss: 276.2729187011719, \tTEST loss: 296.9899597167969\n",
            "Step 130/3000, train loss: 268.1425476074219, \tTEST loss: 263.61627197265625\n",
            "Step 140/3000, train loss: 300.8568420410156, \tTEST loss: 239.633544921875\n",
            "Step 150/3000, train loss: 250.1102752685547, \tTEST loss: 337.3619689941406\n",
            "Step 160/3000, train loss: 353.0615539550781, \tTEST loss: 279.2068786621094\n",
            "Step 170/3000, train loss: 310.6607971191406, \tTEST loss: 216.40036010742188\n",
            "Step 180/3000, train loss: 333.45208740234375, \tTEST loss: 216.2840118408203\n",
            "Step 190/3000, train loss: 223.35357666015625, \tTEST loss: 262.21258544921875\n",
            "Step 200/3000, train loss: 293.671630859375, \tTEST loss: 196.54139709472656\n",
            "Step 210/3000, train loss: 241.6025848388672, \tTEST loss: 231.27066040039062\n",
            "Step 220/3000, train loss: 287.723388671875, \tTEST loss: 214.96334838867188\n",
            "Step 230/3000, train loss: 225.4384765625, \tTEST loss: 187.9351348876953\n",
            "Step 240/3000, train loss: 211.044189453125, \tTEST loss: 280.3021545410156\n",
            "Step 250/3000, train loss: 159.578857421875, \tTEST loss: 230.97186279296875\n",
            "Step 260/3000, train loss: 234.7354278564453, \tTEST loss: 208.59754943847656\n",
            "Step 270/3000, train loss: 184.961669921875, \tTEST loss: 215.78646850585938\n",
            "Step 280/3000, train loss: 195.2384033203125, \tTEST loss: 195.45852661132812\n",
            "Step 290/3000, train loss: 232.1758270263672, \tTEST loss: 218.25381469726562\n",
            "Step 300/3000, train loss: 184.95068359375, \tTEST loss: 221.86070251464844\n",
            "Step 310/3000, train loss: 190.91061401367188, \tTEST loss: 157.56051635742188\n",
            "Step 320/3000, train loss: 208.38319396972656, \tTEST loss: 222.47166442871094\n",
            "Step 330/3000, train loss: 227.0933837890625, \tTEST loss: 192.26560974121094\n",
            "Step 340/3000, train loss: 183.10292053222656, \tTEST loss: 160.193603515625\n",
            "Step 350/3000, train loss: 192.8301544189453, \tTEST loss: 208.4911651611328\n",
            "Step 360/3000, train loss: 190.50970458984375, \tTEST loss: 238.16990661621094\n",
            "Step 370/3000, train loss: 181.42152404785156, \tTEST loss: 172.85313415527344\n",
            "Step 380/3000, train loss: 221.4522247314453, \tTEST loss: 219.07522583007812\n",
            "Step 390/3000, train loss: 175.05958557128906, \tTEST loss: 184.42466735839844\n",
            "Step 400/3000, train loss: 186.60057067871094, \tTEST loss: 199.36636352539062\n",
            "Step 410/3000, train loss: 197.88890075683594, \tTEST loss: 203.2574462890625\n",
            "Step 420/3000, train loss: 175.7852783203125, \tTEST loss: 191.90467834472656\n",
            "Step 430/3000, train loss: 218.297607421875, \tTEST loss: 225.64239501953125\n",
            "Step 440/3000, train loss: 199.95082092285156, \tTEST loss: 164.7076416015625\n",
            "Step 450/3000, train loss: 194.76779174804688, \tTEST loss: 198.87063598632812\n",
            "Step 460/3000, train loss: 168.20921325683594, \tTEST loss: 196.6998291015625\n",
            "Step 470/3000, train loss: 173.77435302734375, \tTEST loss: 139.63404846191406\n",
            "Step 480/3000, train loss: 218.7050323486328, \tTEST loss: 170.12222290039062\n",
            "Step 490/3000, train loss: 172.45053100585938, \tTEST loss: 200.764892578125\n",
            "Step 500/3000, train loss: 211.2475128173828, \tTEST loss: 168.87135314941406\n",
            "Step 510/3000, train loss: 158.37188720703125, \tTEST loss: 213.49644470214844\n",
            "Step 520/3000, train loss: 221.75572204589844, \tTEST loss: 212.78326416015625\n",
            "Step 530/3000, train loss: 232.47244262695312, \tTEST loss: 203.65509033203125\n",
            "Step 540/3000, train loss: 186.15353393554688, \tTEST loss: 187.50799560546875\n",
            "Step 550/3000, train loss: 177.0054473876953, \tTEST loss: 168.96937561035156\n",
            "Step 560/3000, train loss: 181.09390258789062, \tTEST loss: 199.13214111328125\n",
            "Step 570/3000, train loss: 151.35476684570312, \tTEST loss: 197.7438507080078\n",
            "Step 580/3000, train loss: 195.5404052734375, \tTEST loss: 145.57765197753906\n",
            "Step 590/3000, train loss: 180.84683227539062, \tTEST loss: 159.4827880859375\n",
            "Step 600/3000, train loss: 134.480224609375, \tTEST loss: 153.18179321289062\n",
            "Step 610/3000, train loss: 163.46932983398438, \tTEST loss: 147.9781036376953\n",
            "Step 620/3000, train loss: 164.02320861816406, \tTEST loss: 116.3656997680664\n",
            "Step 630/3000, train loss: 139.85020446777344, \tTEST loss: 163.43312072753906\n",
            "Step 640/3000, train loss: 181.99105834960938, \tTEST loss: 153.83468627929688\n",
            "Step 650/3000, train loss: 162.05751037597656, \tTEST loss: 143.91461181640625\n",
            "Step 660/3000, train loss: 121.26644134521484, \tTEST loss: 145.30348205566406\n",
            "Step 670/3000, train loss: 124.63580322265625, \tTEST loss: 195.3561248779297\n",
            "Step 680/3000, train loss: 125.70929718017578, \tTEST loss: 137.16355895996094\n",
            "Step 690/3000, train loss: 123.97296142578125, \tTEST loss: 137.69459533691406\n",
            "Step 700/3000, train loss: 133.63037109375, \tTEST loss: 148.7030029296875\n",
            "Step 710/3000, train loss: 133.2896270751953, \tTEST loss: 129.7993927001953\n",
            "Step 720/3000, train loss: 132.05882263183594, \tTEST loss: 117.08545684814453\n",
            "Step 730/3000, train loss: 155.4202117919922, \tTEST loss: 155.73138427734375\n",
            "Step 740/3000, train loss: 131.60037231445312, \tTEST loss: 158.2601776123047\n",
            "Step 750/3000, train loss: 127.90398406982422, \tTEST loss: 145.4945068359375\n",
            "Step 760/3000, train loss: 135.57501220703125, \tTEST loss: 96.03813934326172\n",
            "Step 770/3000, train loss: 124.56041717529297, \tTEST loss: 104.28974914550781\n",
            "Step 780/3000, train loss: 146.22808837890625, \tTEST loss: 131.68321228027344\n",
            "Step 790/3000, train loss: 113.93690490722656, \tTEST loss: 129.87498474121094\n",
            "Step 800/3000, train loss: 141.3859100341797, \tTEST loss: 138.15655517578125\n",
            "Step 810/3000, train loss: 139.9290008544922, \tTEST loss: 128.4073028564453\n",
            "Step 820/3000, train loss: 98.952392578125, \tTEST loss: 123.17465209960938\n",
            "Step 830/3000, train loss: 101.30528259277344, \tTEST loss: 128.71783447265625\n",
            "Step 840/3000, train loss: 125.14744567871094, \tTEST loss: 102.6458740234375\n",
            "Step 850/3000, train loss: 108.62586975097656, \tTEST loss: 119.77049255371094\n",
            "Step 860/3000, train loss: 127.98197937011719, \tTEST loss: 132.61863708496094\n",
            "Step 870/3000, train loss: 87.3750991821289, \tTEST loss: 107.93627166748047\n",
            "Step 880/3000, train loss: 151.07164001464844, \tTEST loss: 154.8208465576172\n",
            "Step 890/3000, train loss: 97.263427734375, \tTEST loss: 123.42820739746094\n",
            "Step 900/3000, train loss: 141.02493286132812, \tTEST loss: 111.80683135986328\n",
            "Step 910/3000, train loss: 128.85491943359375, \tTEST loss: 122.48431396484375\n",
            "Step 920/3000, train loss: 127.42395782470703, \tTEST loss: 105.3469009399414\n",
            "Step 930/3000, train loss: 118.6334228515625, \tTEST loss: 139.12709045410156\n",
            "Step 940/3000, train loss: 122.00861358642578, \tTEST loss: 140.1021728515625\n",
            "Step 950/3000, train loss: 122.55455780029297, \tTEST loss: 156.45852661132812\n",
            "Step 960/3000, train loss: 118.26873016357422, \tTEST loss: 155.20237731933594\n",
            "Step 970/3000, train loss: 135.15936279296875, \tTEST loss: 127.80293273925781\n",
            "Step 980/3000, train loss: 133.24131774902344, \tTEST loss: 106.34490966796875\n",
            "Step 990/3000, train loss: 98.85592651367188, \tTEST loss: 120.29135131835938\n",
            "Step 1000/3000, train loss: 114.62287902832031, \tTEST loss: 117.2895736694336\n",
            "Step 1010/3000, train loss: 110.53436279296875, \tTEST loss: 100.10348510742188\n",
            "Step 1020/3000, train loss: 108.42613220214844, \tTEST loss: 95.98841094970703\n",
            "Step 1030/3000, train loss: 78.10609436035156, \tTEST loss: 106.09211730957031\n",
            "Step 1040/3000, train loss: 100.80086517333984, \tTEST loss: 108.7477798461914\n",
            "Step 1050/3000, train loss: 128.68844604492188, \tTEST loss: 79.93998718261719\n",
            "Step 1060/3000, train loss: 133.99264526367188, \tTEST loss: 101.96942901611328\n",
            "Step 1070/3000, train loss: 111.0459976196289, \tTEST loss: 112.48348999023438\n",
            "Step 1080/3000, train loss: 120.1408920288086, \tTEST loss: 125.28782653808594\n",
            "Step 1090/3000, train loss: 105.88145446777344, \tTEST loss: 96.21583557128906\n",
            "Step 1100/3000, train loss: 71.0230484008789, \tTEST loss: 80.2914047241211\n",
            "Step 1110/3000, train loss: 149.30816650390625, \tTEST loss: 131.1177978515625\n",
            "Step 1120/3000, train loss: 97.73429870605469, \tTEST loss: 115.03645324707031\n",
            "Step 1130/3000, train loss: 79.98503875732422, \tTEST loss: 109.28148651123047\n",
            "Step 1140/3000, train loss: 94.5712661743164, \tTEST loss: 124.22581481933594\n",
            "Step 1150/3000, train loss: 112.68809509277344, \tTEST loss: 87.30265808105469\n",
            "Step 1160/3000, train loss: 127.3363265991211, \tTEST loss: 142.5841827392578\n",
            "Step 1170/3000, train loss: 93.07881927490234, \tTEST loss: 106.16344451904297\n",
            "Step 1180/3000, train loss: 115.23394012451172, \tTEST loss: 106.4217758178711\n",
            "Step 1190/3000, train loss: 111.46615600585938, \tTEST loss: 88.55679321289062\n",
            "Step 1200/3000, train loss: 102.04834747314453, \tTEST loss: 83.1825180053711\n",
            "Step 1210/3000, train loss: 107.14107513427734, \tTEST loss: 110.49385070800781\n",
            "Step 1220/3000, train loss: 96.84999084472656, \tTEST loss: 89.23089599609375\n",
            "Step 1230/3000, train loss: 111.47154998779297, \tTEST loss: 100.46104431152344\n",
            "Step 1240/3000, train loss: 72.07335662841797, \tTEST loss: 82.57645416259766\n",
            "Step 1250/3000, train loss: 94.85256958007812, \tTEST loss: 128.25152587890625\n",
            "Step 1260/3000, train loss: 79.52442169189453, \tTEST loss: 77.4825439453125\n",
            "Step 1270/3000, train loss: 94.62403869628906, \tTEST loss: 80.01844787597656\n",
            "Step 1280/3000, train loss: 86.50914764404297, \tTEST loss: 106.2066650390625\n",
            "Step 1290/3000, train loss: 125.25021362304688, \tTEST loss: 125.6456069946289\n",
            "Step 1300/3000, train loss: 106.66671752929688, \tTEST loss: 68.7890396118164\n",
            "Step 1310/3000, train loss: 88.6494140625, \tTEST loss: 85.88068389892578\n",
            "Step 1320/3000, train loss: 99.8587646484375, \tTEST loss: 131.51026916503906\n",
            "Step 1330/3000, train loss: 90.08467864990234, \tTEST loss: 95.54765319824219\n",
            "Step 1340/3000, train loss: 75.8898696899414, \tTEST loss: 75.74549102783203\n",
            "Step 1350/3000, train loss: 90.26904296875, \tTEST loss: 103.24037170410156\n",
            "Step 1360/3000, train loss: 87.53140258789062, \tTEST loss: 78.61181640625\n",
            "Step 1370/3000, train loss: 85.12014770507812, \tTEST loss: 101.12673950195312\n",
            "Step 1380/3000, train loss: 95.40499877929688, \tTEST loss: 83.16918182373047\n",
            "Step 1390/3000, train loss: 138.0238037109375, \tTEST loss: 102.95179748535156\n",
            "Step 1400/3000, train loss: 71.78678131103516, \tTEST loss: 83.40882110595703\n",
            "Step 1410/3000, train loss: 78.91183471679688, \tTEST loss: 78.80516052246094\n",
            "Step 1420/3000, train loss: 80.30115509033203, \tTEST loss: 91.38053131103516\n",
            "Step 1430/3000, train loss: 103.85090637207031, \tTEST loss: 97.5781021118164\n",
            "Step 1440/3000, train loss: 93.06727600097656, \tTEST loss: 86.77235412597656\n",
            "Step 1450/3000, train loss: 93.05176544189453, \tTEST loss: 65.00110626220703\n",
            "Step 1460/3000, train loss: 115.69282531738281, \tTEST loss: 90.87125396728516\n",
            "Step 1470/3000, train loss: 90.18749237060547, \tTEST loss: 78.77623748779297\n",
            "Step 1480/3000, train loss: 71.67520141601562, \tTEST loss: 87.81925964355469\n",
            "Step 1490/3000, train loss: 84.27232360839844, \tTEST loss: 79.76544189453125\n",
            "Step 1500/3000, train loss: 90.23171997070312, \tTEST loss: 69.24681854248047\n",
            "Step 1510/3000, train loss: 86.51665496826172, \tTEST loss: 72.31221771240234\n",
            "Step 1520/3000, train loss: 98.51445770263672, \tTEST loss: 75.57805633544922\n",
            "Step 1530/3000, train loss: 86.32630920410156, \tTEST loss: 82.73011779785156\n",
            "Step 1540/3000, train loss: 79.39568328857422, \tTEST loss: 71.65029907226562\n",
            "Step 1550/3000, train loss: 81.82682800292969, \tTEST loss: 94.56536865234375\n",
            "Step 1560/3000, train loss: 97.3010482788086, \tTEST loss: 95.72895812988281\n",
            "Step 1570/3000, train loss: 83.20086669921875, \tTEST loss: 75.73641967773438\n",
            "Step 1580/3000, train loss: 73.02334594726562, \tTEST loss: 96.41455841064453\n",
            "Step 1590/3000, train loss: 86.5785140991211, \tTEST loss: 87.27428436279297\n",
            "Step 1600/3000, train loss: 100.66524505615234, \tTEST loss: 84.38726806640625\n",
            "Step 1610/3000, train loss: 98.38461303710938, \tTEST loss: 83.94527435302734\n",
            "Step 1620/3000, train loss: 95.69977569580078, \tTEST loss: 104.4921875\n",
            "Step 1630/3000, train loss: 94.7390365600586, \tTEST loss: 76.766357421875\n",
            "Step 1640/3000, train loss: 128.38894653320312, \tTEST loss: 99.36837768554688\n",
            "Step 1650/3000, train loss: 69.96937561035156, \tTEST loss: 68.39370727539062\n",
            "Step 1660/3000, train loss: 87.56890106201172, \tTEST loss: 86.47979736328125\n",
            "Step 1670/3000, train loss: 66.86602783203125, \tTEST loss: 88.8585433959961\n",
            "Step 1680/3000, train loss: 97.12169647216797, \tTEST loss: 75.05097961425781\n",
            "Step 1690/3000, train loss: 94.97431182861328, \tTEST loss: 91.79375457763672\n",
            "Step 1700/3000, train loss: 96.51624298095703, \tTEST loss: 104.1751937866211\n",
            "Step 1710/3000, train loss: 96.02778625488281, \tTEST loss: 76.9618911743164\n",
            "Step 1720/3000, train loss: 82.72274780273438, \tTEST loss: 68.60271453857422\n",
            "Step 1730/3000, train loss: 94.62543487548828, \tTEST loss: 85.835205078125\n",
            "Step 1740/3000, train loss: 80.39456939697266, \tTEST loss: 130.41082763671875\n",
            "Step 1750/3000, train loss: 70.57286071777344, \tTEST loss: 54.57419204711914\n",
            "Step 1760/3000, train loss: 73.80403137207031, \tTEST loss: 79.33621215820312\n",
            "Step 1770/3000, train loss: 62.04729080200195, \tTEST loss: 65.54122924804688\n",
            "Step 1780/3000, train loss: 91.15373992919922, \tTEST loss: 69.30839538574219\n",
            "Step 1790/3000, train loss: 84.80183410644531, \tTEST loss: 71.5653076171875\n",
            "Step 1800/3000, train loss: 77.26119232177734, \tTEST loss: 85.55316162109375\n",
            "Step 1810/3000, train loss: 85.87344360351562, \tTEST loss: 96.83879089355469\n",
            "Step 1820/3000, train loss: 50.19713592529297, \tTEST loss: 67.99797058105469\n",
            "Step 1830/3000, train loss: 99.42350769042969, \tTEST loss: 90.2209243774414\n",
            "Step 1840/3000, train loss: 88.18606567382812, \tTEST loss: 64.33561706542969\n",
            "Step 1850/3000, train loss: 81.16801452636719, \tTEST loss: 71.62129974365234\n",
            "Step 1860/3000, train loss: 106.67327880859375, \tTEST loss: 139.16770935058594\n",
            "Step 1870/3000, train loss: 77.96279907226562, \tTEST loss: 67.80259704589844\n",
            "Step 1880/3000, train loss: 76.81963348388672, \tTEST loss: 65.28904724121094\n",
            "Step 1890/3000, train loss: 90.64826202392578, \tTEST loss: 93.18892669677734\n",
            "Step 1900/3000, train loss: 70.50704193115234, \tTEST loss: 70.77552795410156\n",
            "Step 1910/3000, train loss: 70.07627868652344, \tTEST loss: 80.36524963378906\n",
            "Step 1920/3000, train loss: 71.6617431640625, \tTEST loss: 92.51591491699219\n",
            "Step 1930/3000, train loss: 101.95038604736328, \tTEST loss: 79.78753662109375\n",
            "Step 1940/3000, train loss: 55.14392852783203, \tTEST loss: 61.021732330322266\n",
            "Step 1950/3000, train loss: 59.568328857421875, \tTEST loss: 99.73369598388672\n",
            "Step 1960/3000, train loss: 73.57371520996094, \tTEST loss: 82.18746948242188\n",
            "Step 1970/3000, train loss: 83.66506958007812, \tTEST loss: 113.03155517578125\n",
            "Step 1980/3000, train loss: 68.1241683959961, \tTEST loss: 105.84977722167969\n",
            "Step 1990/3000, train loss: 74.4079818725586, \tTEST loss: 73.49891662597656\n",
            "Step 2000/3000, train loss: 113.61225128173828, \tTEST loss: 75.97116088867188\n",
            "Step 2010/3000, train loss: 73.84864044189453, \tTEST loss: 76.22976684570312\n",
            "Step 2020/3000, train loss: 121.94084930419922, \tTEST loss: 80.57540893554688\n",
            "Step 2030/3000, train loss: 76.84251403808594, \tTEST loss: 78.97840118408203\n",
            "Step 2040/3000, train loss: 75.75402069091797, \tTEST loss: 82.92289733886719\n",
            "Step 2050/3000, train loss: 49.58873748779297, \tTEST loss: 77.29682159423828\n",
            "Step 2060/3000, train loss: 48.181941986083984, \tTEST loss: 68.40235900878906\n",
            "Step 2070/3000, train loss: 69.67279815673828, \tTEST loss: 72.35505676269531\n",
            "Step 2080/3000, train loss: 78.3649673461914, \tTEST loss: 100.09806060791016\n",
            "Step 2090/3000, train loss: 64.31172180175781, \tTEST loss: 89.75228118896484\n",
            "Step 2100/3000, train loss: 75.70064544677734, \tTEST loss: 96.92044830322266\n",
            "Step 2110/3000, train loss: 77.52521514892578, \tTEST loss: 61.91138458251953\n",
            "Step 2120/3000, train loss: 61.47224426269531, \tTEST loss: 68.01428985595703\n",
            "Step 2130/3000, train loss: 56.124481201171875, \tTEST loss: 76.99545288085938\n",
            "Step 2140/3000, train loss: 73.05474090576172, \tTEST loss: 69.24162292480469\n",
            "Step 2150/3000, train loss: 58.56881332397461, \tTEST loss: 67.91242980957031\n",
            "Step 2160/3000, train loss: 83.65774536132812, \tTEST loss: 85.65888977050781\n",
            "Step 2170/3000, train loss: 79.59063720703125, \tTEST loss: 55.21723175048828\n",
            "Step 2180/3000, train loss: 68.58981323242188, \tTEST loss: 82.37853240966797\n",
            "Step 2190/3000, train loss: 61.36051940917969, \tTEST loss: 80.8073959350586\n",
            "Step 2200/3000, train loss: 78.17106628417969, \tTEST loss: 60.69092559814453\n",
            "Step 2210/3000, train loss: 57.932151794433594, \tTEST loss: 59.84375762939453\n",
            "Step 2220/3000, train loss: 90.10069274902344, \tTEST loss: 74.80831909179688\n",
            "Step 2230/3000, train loss: 45.58625411987305, \tTEST loss: 93.33052825927734\n",
            "Step 2240/3000, train loss: 66.32829284667969, \tTEST loss: 68.29798126220703\n",
            "Step 2250/3000, train loss: 68.8287582397461, \tTEST loss: 71.10572052001953\n",
            "Step 2260/3000, train loss: 53.22187805175781, \tTEST loss: 84.88251495361328\n",
            "Step 2270/3000, train loss: 79.1133041381836, \tTEST loss: 77.69743347167969\n",
            "Step 2280/3000, train loss: 54.41866683959961, \tTEST loss: 65.35428619384766\n",
            "Step 2290/3000, train loss: 73.91458892822266, \tTEST loss: 57.19101333618164\n",
            "Step 2300/3000, train loss: 81.06884002685547, \tTEST loss: 80.22294616699219\n",
            "Step 2310/3000, train loss: 104.4288101196289, \tTEST loss: 66.68212127685547\n",
            "Step 2320/3000, train loss: 83.86343383789062, \tTEST loss: 71.70211029052734\n",
            "Step 2330/3000, train loss: 50.37432861328125, \tTEST loss: 62.27740478515625\n",
            "Step 2340/3000, train loss: 84.4864501953125, \tTEST loss: 69.8050537109375\n",
            "Step 2350/3000, train loss: 68.34060668945312, \tTEST loss: 93.88963317871094\n",
            "Step 2360/3000, train loss: 65.8552474975586, \tTEST loss: 80.48667907714844\n",
            "Step 2370/3000, train loss: 60.96586227416992, \tTEST loss: 54.268280029296875\n",
            "Step 2380/3000, train loss: 109.24847412109375, \tTEST loss: 81.50083923339844\n",
            "Step 2390/3000, train loss: 69.53550720214844, \tTEST loss: 63.779632568359375\n",
            "Step 2400/3000, train loss: 67.59477233886719, \tTEST loss: 62.061134338378906\n",
            "Step 2410/3000, train loss: 62.56303787231445, \tTEST loss: 52.86304473876953\n",
            "Step 2420/3000, train loss: 67.64186096191406, \tTEST loss: 56.76101303100586\n",
            "Step 2430/3000, train loss: 59.76643371582031, \tTEST loss: 55.34872817993164\n",
            "Step 2440/3000, train loss: 73.77601623535156, \tTEST loss: 57.553192138671875\n",
            "Step 2450/3000, train loss: 76.30352020263672, \tTEST loss: 86.67188262939453\n",
            "Step 2460/3000, train loss: 80.87247467041016, \tTEST loss: 57.847782135009766\n",
            "Step 2470/3000, train loss: 53.29917907714844, \tTEST loss: 65.11546325683594\n",
            "Step 2480/3000, train loss: 54.732933044433594, \tTEST loss: 58.771724700927734\n",
            "Step 2490/3000, train loss: 63.95806884765625, \tTEST loss: 56.404319763183594\n",
            "Step 2500/3000, train loss: 63.27186584472656, \tTEST loss: 48.38950729370117\n",
            "Step 2510/3000, train loss: 61.88117218017578, \tTEST loss: 50.203739166259766\n",
            "Step 2520/3000, train loss: 66.22279357910156, \tTEST loss: 67.40486145019531\n",
            "Step 2530/3000, train loss: 75.92932891845703, \tTEST loss: 47.45304489135742\n",
            "Step 2540/3000, train loss: 64.40647888183594, \tTEST loss: 57.87339782714844\n",
            "Step 2550/3000, train loss: 65.61641693115234, \tTEST loss: 71.6456069946289\n",
            "Step 2560/3000, train loss: 53.796844482421875, \tTEST loss: 60.83640670776367\n",
            "Step 2570/3000, train loss: 63.243167877197266, \tTEST loss: 49.42610549926758\n",
            "Step 2580/3000, train loss: 60.661346435546875, \tTEST loss: 60.35665512084961\n",
            "Step 2590/3000, train loss: 58.66618728637695, \tTEST loss: 54.26301956176758\n",
            "Step 2600/3000, train loss: 60.566673278808594, \tTEST loss: 58.962066650390625\n",
            "Step 2610/3000, train loss: 71.17423248291016, \tTEST loss: 63.68894577026367\n",
            "Step 2620/3000, train loss: 67.9812240600586, \tTEST loss: 66.313232421875\n",
            "Step 2630/3000, train loss: 84.8927993774414, \tTEST loss: 64.55004119873047\n",
            "Step 2640/3000, train loss: 57.37593078613281, \tTEST loss: 66.32209777832031\n",
            "Step 2650/3000, train loss: 79.99340057373047, \tTEST loss: 80.65811157226562\n",
            "Step 2660/3000, train loss: 87.7340316772461, \tTEST loss: 73.23434448242188\n",
            "Step 2670/3000, train loss: 80.9610366821289, \tTEST loss: 55.512996673583984\n",
            "Step 2680/3000, train loss: 67.95600128173828, \tTEST loss: 64.29053497314453\n",
            "Step 2690/3000, train loss: 69.96955108642578, \tTEST loss: 80.71456146240234\n",
            "Step 2700/3000, train loss: 90.68766021728516, \tTEST loss: 98.03926849365234\n",
            "Step 2710/3000, train loss: 52.33113479614258, \tTEST loss: 64.69282531738281\n",
            "Step 2720/3000, train loss: 92.63400268554688, \tTEST loss: 69.89097595214844\n",
            "Step 2730/3000, train loss: 58.124305725097656, \tTEST loss: 62.69629669189453\n",
            "Step 2740/3000, train loss: 65.8200454711914, \tTEST loss: 69.78164672851562\n",
            "Step 2750/3000, train loss: 57.44610595703125, \tTEST loss: 59.59543991088867\n",
            "Step 2760/3000, train loss: 58.341922760009766, \tTEST loss: 52.3690071105957\n",
            "Step 2770/3000, train loss: 59.001407623291016, \tTEST loss: 62.332969665527344\n",
            "Step 2780/3000, train loss: 67.25250244140625, \tTEST loss: 55.67742919921875\n",
            "Step 2790/3000, train loss: 60.34294509887695, \tTEST loss: 39.12664031982422\n",
            "Step 2800/3000, train loss: 56.47490692138672, \tTEST loss: 56.870208740234375\n",
            "Step 2810/3000, train loss: 54.859031677246094, \tTEST loss: 62.08938980102539\n",
            "Step 2820/3000, train loss: 69.82733154296875, \tTEST loss: 73.83411407470703\n",
            "Step 2830/3000, train loss: 66.28522491455078, \tTEST loss: 40.30731201171875\n",
            "Step 2840/3000, train loss: 61.422542572021484, \tTEST loss: 51.73944091796875\n",
            "Step 2850/3000, train loss: 43.54170227050781, \tTEST loss: 60.25730895996094\n",
            "Step 2860/3000, train loss: 87.64911651611328, \tTEST loss: 69.62126159667969\n",
            "Step 2870/3000, train loss: 75.30809020996094, \tTEST loss: 54.015541076660156\n",
            "Step 2880/3000, train loss: 62.22024917602539, \tTEST loss: 50.18867874145508\n",
            "Step 2890/3000, train loss: 64.70936584472656, \tTEST loss: 61.24921798706055\n",
            "Step 2900/3000, train loss: 63.832298278808594, \tTEST loss: 60.80124282836914\n",
            "Step 2910/3000, train loss: 68.70405578613281, \tTEST loss: 67.1689453125\n",
            "Step 2920/3000, train loss: 49.47835159301758, \tTEST loss: 74.6331787109375\n",
            "Step 2930/3000, train loss: 63.15348434448242, \tTEST loss: 77.83819580078125\n",
            "Step 2940/3000, train loss: 73.30690002441406, \tTEST loss: 76.07579040527344\n",
            "Step 2950/3000, train loss: 49.023277282714844, \tTEST loss: 64.92503356933594\n",
            "Step 2960/3000, train loss: 72.5434341430664, \tTEST loss: 70.09770202636719\n",
            "Step 2970/3000, train loss: 77.7736587524414, \tTEST loss: 51.31485366821289\n",
            "Step 2980/3000, train loss: 58.053977966308594, \tTEST loss: 65.63758087158203\n",
            "Step 2990/3000, train loss: 58.26286697387695, \tTEST loss: 50.765159606933594\n",
            "Step 3000/3000, train loss: 79.65096282958984, \tTEST loss: 58.79021453857422\n",
            "Fin. train loss: 79.65096282958984, \tTEST loss: 58.79021453857422\n"
          ],
          "name": "stdout"
        }
      ]
    },
    {
      "cell_type": "markdown",
      "metadata": {
        "id": "UYztURk7tdZx",
        "colab_type": "text"
      },
      "source": [
        "**Results Visualization**"
      ]
    },
    {
      "cell_type": "markdown",
      "metadata": {
        "id": "RaNM30CXtdxk",
        "colab_type": "text"
      },
      "source": [
        "**Error dynamics in the training and test sample by iterations**"
      ]
    },
    {
      "cell_type": "code",
      "metadata": {
        "id": "oiQIoHSG9F6T",
        "colab_type": "code",
        "outputId": "7dc13144-7931-4829-ba7b-78af0823b4b7",
        "colab": {
          "base_uri": "https://localhost:8080/",
          "height": 388
        }
      },
      "source": [
        "plt.figure(figsize=(12, 6))\n",
        "plt.plot( np.array(range(0, len(test_losses)))/float(len(test_losses)-1)*(len(train_losses)-1), np.log(test_losses), label=\"Test loss\")\n",
        "plt.plot(np.log(train_losses), label=\"Train loss\")\n",
        "\n",
        "#log scale\n",
        "plt.xlabel('Iteration')\n",
        "plt.ylabel('log(Loss)') \n",
        "plt.show()"
      ],
      "execution_count": 13,
      "outputs": [
        {
          "output_type": "display_data",
          "data": {
            "image/png": "[encoded data removed]",
            "text/plain": [
              "<Figure size 864x432 with 1 Axes>"
            ]
          },
          "metadata": {
            "tags": [],
            "needs_background": "light"
          }
        }
      ]
    },
    {
      "cell_type": "markdown",
      "metadata": {
        "id": "qay-jI60tsRy",
        "colab_type": "text"
      },
      "source": [
        "**Prediction Visualization**"
      ]
    },
    {
      "cell_type": "code",
      "metadata": {
        "id": "Cd0sno6c9F0q",
        "colab_type": "code",
        "outputId": "1af898d1-b90f-4492-ec42-05665a792635",
        "colab": {
          "base_uri": "https://localhost:8080/",
          "height": 485
        }
      },
      "source": [
        "nb_predictions = 1\n",
        "print (\" Let 's visualize {} predictions with our signals :\". format (nb_predictions ))\n",
        "X, Y = generate_x_y_data_v2( isTrain =False , batch_size = nb_predictions )\n",
        "feed_dict = { enc_inp [t]: X[t] for t in range ( seq_length )}\n",
        "outputs = np.array( sess.run([ reshaped_outputs ], feed_dict )[0])\n",
        "# выводим предсказания по каждому пакету\n",
        "for j in range ( nb_predictions ):\n",
        "    plt.figure( figsize =(12 , 3))\n",
        "    for k in range ( output_dim ):\n",
        "        past = X[:,j,k]\n",
        "        expected = Y[:,j,k]\n",
        "        pred = outputs [:,j,k]\n",
        "    label1 = \" Seen ( past ) values \" if k ==0 else \" _nolegend_ \"\n",
        "    label2 = \" True future values \" if k ==0 else \" _nolegend_ \"\n",
        "    label3 = \" Predictions \" if k ==0 else \" _nolegend_ \"\n",
        "    plt.plot(range(len(past)), past , \"o--b\", label = label1 )\n",
        "    plt.plot(range(len(past),len(expected)+len(past)), expected, \"x--b\", label = label2)\n",
        "    plt.plot(range(len(past),len(pred) + len (past)), pred , \"o--y\", label = label3 )\n",
        "    plt.legend( loc ='best ')\n",
        "    plt.title(\" Predictions v.s. true values \")\n",
        "    plt.show()"
      ],
      "execution_count": 14,
      "outputs": [
        {
          "output_type": "stream",
          "text": [
            " Let 's visualize 1 predictions with our signals :\n"
          ],
          "name": "stdout"
        },
        {
          "output_type": "stream",
          "text": [
            "/usr/local/lib/python3.6/dist-packages/ipykernel_launcher.py:19: MatplotlibDeprecationWarning: Unrecognized location 'best '. Falling back on 'best'; valid locations are\n",
            "\tbest\n",
            "\tupper right\n",
            "\tupper left\n",
            "\tlower left\n",
            "\tlower right\n",
            "\tright\n",
            "\tcenter left\n",
            "\tcenter right\n",
            "\tlower center\n",
            "\tupper center\n",
            "\tcenter\n",
            "This will raise an exception in 3.3.\n"
          ],
          "name": "stderr"
        },
        {
          "output_type": "display_data",
          "data": {
            "image/png": "[encoded data removed]",
            "text/plain": [
              "<Figure size 864x216 with 1 Axes>"
            ]
          },
          "metadata": {
            "tags": [],
            "needs_background": "light"
          }
        }
      ]
    }
  ]
}
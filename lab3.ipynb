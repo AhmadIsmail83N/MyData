{
  "nbformat": 4,
  "nbformat_minor": 0,
  "metadata": {
    "colab": {
      "name": "lab3.ipynb",
      "provenance": [],
      "private_outputs": true,
      "include_colab_link": true
    },
    "kernelspec": {
      "name": "python3",
      "display_name": "Python 3"
    },
    "accelerator": "GPU"
  },
  "cells": [
    {
      "cell_type": "markdown",
      "metadata": {
        "id": "view-in-github",
        "colab_type": "text"
      },
      "source": [
        "<a href=\"https://colab.research.google.com/github/AhmadIsmail83N/MyData/blob/master/lab3.ipynb\" target=\"_parent\"><img src=\"https://colab.research.google.com/assets/colab-badge.svg\" alt=\"Open In Colab\"/></a>"
      ]
    },
    {
      "cell_type": "code",
      "metadata": {
        "id": "EdsWXyZFz1zm",
        "colab_type": "code",
        "colab": {}
      },
      "source": [
        "!pip show tensorflow"
      ],
      "execution_count": 0,
      "outputs": []
    },
    {
      "cell_type": "markdown",
      "metadata": {
        "id": "IHIcWQ-H2Xvo",
        "colab_type": "text"
      },
      "source": [
        "# Reinstall Tnsorflow if you have v2.*"
      ]
    },
    {
      "cell_type": "code",
      "metadata": {
        "id": "CJuCBGvZ18ho",
        "colab_type": "code",
        "colab": {}
      },
      "source": [
        "!pip uninstall -y tensorflow"
      ],
      "execution_count": 0,
      "outputs": []
    },
    {
      "cell_type": "code",
      "metadata": {
        "id": "_baez5s3wl2B",
        "colab_type": "code",
        "colab": {}
      },
      "source": [
        "!pip install tensorflow-gpu==1.15"
      ],
      "execution_count": 0,
      "outputs": []
    },
    {
      "cell_type": "code",
      "metadata": {
        "id": "NHpNPNOJ3BGH",
        "colab_type": "code",
        "colab": {}
      },
      "source": [
        ""
      ],
      "execution_count": 0,
      "outputs": []
    },
    {
      "cell_type": "markdown",
      "metadata": {
        "id": "0pxQvx1F4V_g",
        "colab_type": "text"
      },
      "source": [
        "**Restart runtime** by button and launch "
      ]
    },
    {
      "cell_type": "markdown",
      "metadata": {
        "id": "sszfDKkn3EkK",
        "colab_type": "text"
      },
      "source": [
        "# Lab executing"
      ]
    },
    {
      "cell_type": "code",
      "metadata": {
        "id": "KMvGgyUdJ6_t",
        "colab_type": "code",
        "colab": {}
      },
      "source": [
        "import tensorflow as tf\n",
        "from tensorflow . python . keras . datasets import cifar10\n",
        "from tensorflow . examples . tutorials . mnist import input_data\n",
        "import numpy as np\n",
        "import time"
      ],
      "execution_count": 0,
      "outputs": []
    },
    {
      "cell_type": "code",
      "metadata": {
        "id": "Mm4xQ776KKdH",
        "colab_type": "code",
        "colab": {}
      },
      "source": [
        "cifar10 . load_data ()"
      ],
      "execution_count": 0,
      "outputs": []
    },
    {
      "cell_type": "code",
      "metadata": {
        "id": "wHnc7dTvKRpK",
        "colab_type": "code",
        "colab": {}
      },
      "source": [
        "\n",
        "def weight_variable ( shape ):\n",
        "  initial = tf. truncated_normal (shape , stddev =0.1)\n",
        "  return tf. Variable ( initial )\n",
        "\n",
        "def bias_variable ( shape ):\n",
        "  initial = tf. constant (0.1 , shape = shape )\n",
        "  return tf. Variable ( initial )\n",
        "\n",
        "def conv2d (x, W):\n",
        "  return tf.nn. conv2d (x, W, strides =[1 , 1, 1, 1], padding ='SAME')\n",
        "\n",
        "def max_pool_2x2 (x):\n",
        "  return tf.nn. max_pool (x, ksize =[1 , 2, 2, 1],\n",
        "  strides =[1 , 2, 2, 1], padding ='SAME')\n",
        "  \n",
        "def conv_layer (input , shape ):\n",
        "  W = weight_variable ( shape )\n",
        "  b = bias_variable ([ shape [3]])\n",
        "  return tf.nn. relu ( conv2d (input , W) + b)\n",
        "\n",
        "def full_layer (input , size ):\n",
        "  in_size = int ( input . get_shape ()[1])\n",
        "  W = weight_variable ([ in_size , size ])\n",
        "  b = bias_variable ([ size ])\n",
        "  return tf. matmul (input , W) + b"
      ],
      "execution_count": 0,
      "outputs": []
    },
    {
      "cell_type": "code",
      "metadata": {
        "id": "10oaPSptKzn5",
        "colab_type": "code",
        "colab": {}
      },
      "source": [
        "x = tf. placeholder (tf. float32 , shape =[ None , 784])\n",
        "y_= tf. placeholder (tf. float32 , shape =[ None , 10])\n",
        "keep_prob = tf. placeholder (tf. float32 )\n",
        "x_image = tf. reshape (x, [-1, 28, 28, 1])"
      ],
      "execution_count": 0,
      "outputs": []
    },
    {
      "cell_type": "code",
      "metadata": {
        "id": "7KJaoKLxK8mY",
        "colab_type": "code",
        "colab": {}
      },
      "source": [
        "with tf. name_scope ('conv_1'):\n",
        "  conv1 = conv_layer ( x_image , shape =[5 , 5, 1, 32])\n",
        "  conv1_pool = max_pool_2x2 (conv1)\n",
        "  \n",
        "with tf. name_scope ('conv_2'):\n",
        "  conv2 = conv_layer ( conv1_pool , shape =[5 , 5, 32, 64])\n",
        "  conv2_pool = max_pool_2x2 ( conv2 )\n",
        "  #\n",
        "with tf. name_scope ('conv_3'):\n",
        "  conv3 = conv_layer ( conv2_pool , shape =[5 , 5, 64, 64])\n",
        "  conv3_pool = max_pool_2x2 ( conv3 )\n",
        "  conv3_flat = tf. reshape ( conv3_pool , [-1, 4*4*64] )\n",
        "\n",
        "with tf. name_scope ('full_1'):\n",
        "  full_1 = tf.nn. relu ( full_layer ( conv3_flat , 1024))\n",
        "\n",
        "with tf. name_scope ('dropout'):\n",
        "  full1_drop = tf.nn. dropout ( full_1 , keep_prob = keep_prob )\n",
        "\n",
        "with tf. name_scope ('activations'):\n",
        "  y_conv = full_layer ( full1_drop , 10)\n",
        "  tf. summary . scalar ('cross_entropy_loss',y_conv )\n",
        "  mnist = input_data. read_data_sets ('tmp \\ data', one_hot = True )\n",
        "\n",
        "with tf. name_scope ('cross'):\n",
        "  cross_entropy = tf. reduce_mean (tf.nn. softmax_cross_entropy_with_logits_v2\n",
        "                                    (logits= y_conv, labels =y_))\n",
        "# # SGD\n",
        "train_step = tf. train . AdagradOptimizer ( learning_rate =1e-4). minimize ( cross_entropy )\n",
        "correct_prediction = tf. equal (tf. argmax ( y_conv , 1), tf. argmax (y_ , 1))\n",
        "accuracy = tf. reduce_mean (tf. cast ( correct_prediction , tf. float32 ))"
      ],
      "execution_count": 0,
      "outputs": []
    },
    {
      "cell_type": "code",
      "metadata": {
        "id": "N3NhFHpTPuur",
        "colab_type": "code",
        "colab": {}
      },
      "source": [
        "with tf. Session () as sess :\n",
        "  sess . run (tf. global_variables_initializer ())\n",
        "  start_time = time . time ()\n",
        "  for i in range (50000):\n",
        "    batch = mnist . train . next_batch (50)\n",
        "    if i % 100 == 0:\n",
        "      train_accuracy = sess . run ( accuracy ,feed_dict ={x: batch [0] , \n",
        "                                      y_: batch [1] , keep_prob : 1.0})\n",
        "      print (\" time {}, step {}, training accuracy {}\". format ( time .time() - start_time,i,train_accuracy ) )\n",
        "    sess . run ( train_step , feed_dict ={x: batch [0] , y_: batch [1] , keep_prob : 0.5})\n",
        "\n",
        "  X= mnist . test . images . reshape (10 , 1000 , 784)\n",
        "  Y= mnist . test . labels . reshape (10 , 1000 , 10)\n",
        "  test_accuracy = np. mean ([ sess . run ( accuracy , feed_dict ={x:X[i], y_:Y[i],\n",
        "  keep_prob :1.0}) for i in range (10)])\n",
        "  print (\" test accuracy : {}\". format ( test_accuracy ))\n"
      ],
      "execution_count": 0,
      "outputs": []
    }
  ]
}
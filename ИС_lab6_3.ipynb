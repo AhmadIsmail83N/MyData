{
  "nbformat": 4,
  "nbformat_minor": 0,
  "metadata": {
    "colab": {
      "name": "ИС lab6_3.ipynb",
      "provenance": [],
      "collapsed_sections": [],
      "include_colab_link": true
    },
    "kernelspec": {
      "name": "python3",
      "display_name": "Python 3"
    }
  },
  "cells": [
    {
      "cell_type": "markdown",
      "metadata": {
        "id": "view-in-github",
        "colab_type": "text"
      },
      "source": [
        "<a href=\"https://colab.research.google.com/github/AhmadIsmail83N/MyData/blob/master/%D0%98%D0%A1_lab6_3.ipynb\" target=\"_parent\"><img src=\"https://colab.research.google.com/assets/colab-badge.svg\" alt=\"Open In Colab\"/></a>"
      ]
    },
    {
      "cell_type": "code",
      "metadata": {
        "id": "9Ezi0Im18w5B",
        "colab_type": "code",
        "outputId": "ab0eb125-fcd0-43fd-fdc0-758f02e936d3",
        "colab": {
          "base_uri": "https://localhost:8080/",
          "height": 34
        }
      },
      "source": [
        "%tensorflow_version 1.x"
      ],
      "execution_count": 1,
      "outputs": [
        {
          "output_type": "stream",
          "text": [
            "TensorFlow 1.x selected.\n"
          ],
          "name": "stdout"
        }
      ]
    },
    {
      "cell_type": "code",
      "metadata": {
        "id": "RAYfOzTU_-1M",
        "colab_type": "code",
        "colab": {}
      },
      "source": [
        "import numpy as np\n",
        "import random\n",
        "import math\n",
        "import tensorflow as tf\n",
        "import matplotlib.pyplot as plt"
      ],
      "execution_count": 0,
      "outputs": []
    },
    {
      "cell_type": "markdown",
      "metadata": {
        "id": "BYxc9ovVoPG3",
        "colab_type": "text"
      },
      "source": [
        "**Data generation**"
      ]
    },
    {
      "cell_type": "markdown",
      "metadata": {
        "id": "br_WB0mzoZv2",
        "colab_type": "text"
      },
      "source": [
        "**Generates two time series related to each other.**"
      ]
    },
    {
      "cell_type": "code",
      "metadata": {
        "id": "ZfD_IV3HZ7F2",
        "colab_type": "code",
        "colab": {}
      },
      "source": [
        "def generate_x_y_data_two_freqs(isTrain , batch_size , seq_length):\n",
        "    batch_x = [] \n",
        "    batch_y = []\n",
        "\n",
        "    for _ in range(batch_size):\n",
        "        offset_rand = random.random() * 2 * math.pi\n",
        "        freq_rand = (random.random() - 0.5) / 1.5 * 15 + 0.5\n",
        "        amp_rand = random.random() + 0.1\n",
        "        \n",
        "        sig1 = amp_rand * np.sin(np.linspace(\n",
        "            seq_length / 15.0 * freq_rand * 0.0 * math.pi + offset_rand,\n",
        "            seq_length / 15.0 * freq_rand * 3.0 * math.pi + offset_rand , seq_length * 2)\n",
        "        )\n",
        "        \n",
        "        offset_rand = random.random() * 2 * math.pi\n",
        "        freq_rand = (random.random() - 0.5) / 1.5 * 15 + 0.5\n",
        "        amp_rand = random.random() * 1.2\n",
        "        sig1 = amp_rand * np.cos(np.linspace(\n",
        "            seq_length / 15.0 * freq_rand * 0.0 * math.pi + offset_rand,\n",
        "            seq_length / 15.0 * freq_rand * 3.0 * math.pi + offset_rand , seq_length * 2)\n",
        "        ) + sig1\n",
        "        \n",
        "        x1 = sig1[:seq_length]\n",
        "        y1 = sig1[seq_length:]\n",
        "        x_ = np.array([x1])\n",
        "        y_ = np.array([y1])\n",
        "        x_, y_ = x_.T, y_.T\n",
        "        \n",
        "        batch_x.append(x_)\n",
        "        batch_y.append(y_)\n",
        "        \n",
        "    batch_x = np.array(batch_x)\n",
        "    batch_y = np.array(batch_y)\n",
        "    # размерность: (batch_size , seq_length , output_dim)\n",
        "    batch_x = np.array(batch_x).transpose((1, 0, 2))\n",
        "    batch_y = np.array(batch_y).transpose((1, 0, 2))\n",
        "    # размерность: (seq_length , batch_size , output_dim)\n",
        "\n",
        "    return batch_x , batch_y"
      ],
      "execution_count": 0,
      "outputs": []
    },
    {
      "cell_type": "code",
      "metadata": {
        "id": "6fWnmGXfa_Dv",
        "colab_type": "code",
        "colab": {}
      },
      "source": [
        "def generate_x_y_data_v3(isTrain , batch_size): \n",
        "  seq_length = 30 \n",
        "  x, y = generate_x_y_data_two_freqs( isTrain , batch_size , seq_length=seq_length) \n",
        "  noise_amount = random.random() * 0.15 + 0.10\n",
        "  x = x + noise_amount * np.random.randn(seq_length , batch_size , 1)\n",
        "  avg = np.average(x) \n",
        "  std = np.std(x) + 0.0001\n",
        "  x = x - avg \n",
        "  y = y - avg \n",
        "  x = x / std / 2.5 \n",
        "  y = y / std / 2.5\n",
        "\n",
        "  return x, y"
      ],
      "execution_count": 0,
      "outputs": []
    },
    {
      "cell_type": "code",
      "metadata": {
        "id": "_4lMC7B3a_h7",
        "colab_type": "code",
        "colab": {}
      },
      "source": [
        "def generate_x_y_data(isTrain, batch_size):\n",
        "    return generate_x_y_data_v3(isTrain, batch_size)"
      ],
      "execution_count": 0,
      "outputs": []
    },
    {
      "cell_type": "markdown",
      "metadata": {
        "id": "Kryo4X0YqNiC",
        "colab_type": "text"
      },
      "source": [
        "**Parameter Definition НС**"
      ]
    },
    {
      "cell_type": "code",
      "metadata": {
        "id": "6jjpUSLC924R",
        "colab_type": "code",
        "colab": {}
      },
      "source": [
        "# Данные имеют размерность (seq_length , batch_size , output_dim) \n",
        "sample_x , sample_y = generate_x_y_data(isTrain=True , batch_size=3)\n",
        "\n",
        "# Длина последовательности (в данных примерах одинаковая для обучающих и тестовых данных)\n",
        "seq_length = sample_x.shape[0] \n",
        "\n",
        "# Размер пакета количество(тестовых примеров), по которому усредняется градиент\n",
        "batch_size = 100\n",
        "# Размерность выходных данных \n",
        "output_dim = input_dim = sample_x.shape[-1]\n",
        "# Количество скрытых нейронов в каждой ячейке\n",
        "hidden_dim = 50\n",
        "# Количество ячеек рекуррентной сети (в глубину)\n",
        "layers_stacked_count = 1\n",
        "\n",
        "# Параметры оптимизатора \n",
        "# Скорость обучения маленькая (скорость обучения позволяет алгоритму не расходиться во время обучения)\n",
        "learning_rate = 0.007\n",
        "# Количество итераций по обучающей выборке \n",
        "nb_iters = 3000\n",
        "# Дополнительные параметры алгоритма оптимизации\n",
        "lr_decay = 0.9\n",
        "momentum = 0.4\n",
        "# Коэффициент L2 регуляризации\n",
        "lambda_l2_reg = 1e-10"
      ],
      "execution_count": 0,
      "outputs": []
    },
    {
      "cell_type": "markdown",
      "metadata": {
        "id": "vGcKbosKqXcm",
        "colab_type": "text"
      },
      "source": [
        "**Description of Computing Graph**"
      ]
    },
    {
      "cell_type": "code",
      "metadata": {
        "id": "6z5e_fEe9FpG",
        "colab_type": "code",
        "colab": {
          "base_uri": "https://localhost:8080/",
          "height": 153
        },
        "outputId": "f62fa36e-77a7-480a-80a3-31ebed53ddbd"
      },
      "source": [
        "tf.nn.seq2seq = tf.contrib.legacy_seq2seq\n",
        "tf.nn.rnn_cell = tf.contrib.rnn\n",
        "tf.nn.rnn_cell.GRUCell = tf.contrib.rnn.GRUCell"
      ],
      "execution_count": 7,
      "outputs": [
        {
          "output_type": "stream",
          "text": [
            "WARNING:tensorflow:\n",
            "The TensorFlow contrib module will not be included in TensorFlow 2.0.\n",
            "For more information, please see:\n",
            "  * https://github.com/tensorflow/community/blob/master/rfcs/20180907-contrib-sunset.md\n",
            "  * https://github.com/tensorflow/addons\n",
            "  * https://github.com/tensorflow/io (for I/O related ops)\n",
            "If you depend on functionality not listed there, please file an issue.\n",
            "\n"
          ],
          "name": "stdout"
        }
      ]
    },
    {
      "cell_type": "code",
      "metadata": {
        "id": "a2fz5s1Yq_LM",
        "colab_type": "code",
        "colab": {}
      },
      "source": [
        "tf.reset_default_graph()\n",
        "# интерактивная сессия\n",
        "sess = tf.InteractiveSession()"
      ],
      "execution_count": 0,
      "outputs": []
    },
    {
      "cell_type": "code",
      "metadata": {
        "id": "yMBw0_It9FvQ",
        "colab_type": "code",
        "colab": {
          "base_uri": "https://localhost:8080/",
          "height": 343
        },
        "outputId": "5c543ad4-ac02-4706-82b9-9686f27e586c"
      },
      "source": [
        "with tf.variable_scope('Seq2seq'):\n",
        "    enc_inp = [\n",
        "        tf.placeholder(tf.float32, shape=(None, input_dim), name=\"inp_{}\".format(t))\n",
        "            for t in range(seq_length)\n",
        "    ]\n",
        "\n",
        "    expected_sparse_output = [\n",
        "        tf.placeholder(tf.float32 , shape=(None , output_dim), name=\"expected_sparse_output_\".format(t))\n",
        "            for t in range(seq_length)\n",
        "    ]\n",
        "    \n",
        "    dec_inp = [ tf.zeros_like(enc_inp[0], dtype=np.float32 , name=\"GO\") ] + enc_inp[:-1]\n",
        "    \n",
        "    cells = []\n",
        "    for i in range(layers_stacked_count):\n",
        "        with tf.variable_scope('RNN_{}'.format(i)):\n",
        "            cells.append(tf.nn.rnn_cell.GRUCell(hidden_dim))\n",
        "            \n",
        "    cell = tf.nn.rnn_cell.MultiRNNCell(cells)\n",
        "    \n",
        "    w_in = tf.Variable(tf.random_normal([input_dim , hidden_dim]))\n",
        "    b_in = tf.Variable(tf.random_normal([hidden_dim], mean=1.0))\n",
        "    w_out = tf.Variable(tf.random_normal([hidden_dim , output_dim]))\n",
        "    b_out = tf.Variable(tf.random_normal([output_dim]))\n",
        "\n",
        "    reshaped_inputs = [tf.nn.relu(tf.matmul(i, w_in) + b_in) for i in enc_inp]\n",
        "    \n",
        "    dec_outputs, dec_memory = tf.nn.seq2seq.basic_rnn_seq2seq(enc_inp, dec_inp, cell)\n",
        "    \n",
        "    output_scale_factor = tf.Variable(1.0, name=\"Output_ScaleFactor\")\n",
        "    reshaped_outputs = [output_scale_factor * (tf.matmul(i, w_out) + b_out) for i in dec_outputs]"
      ],
      "execution_count": 9,
      "outputs": [
        {
          "output_type": "stream",
          "text": [
            "WARNING:tensorflow:From <ipython-input-9-a9e263b0cf24>:17: GRUCell.__init__ (from tensorflow.python.ops.rnn_cell_impl) is deprecated and will be removed in a future version.\n",
            "Instructions for updating:\n",
            "This class is equivalent as tf.keras.layers.GRUCell, and will be replaced by that in Tensorflow 2.0.\n",
            "WARNING:tensorflow:From <ipython-input-9-a9e263b0cf24>:19: MultiRNNCell.__init__ (from tensorflow.python.ops.rnn_cell_impl) is deprecated and will be removed in a future version.\n",
            "Instructions for updating:\n",
            "This class is equivalent as tf.keras.layers.StackedRNNCells, and will be replaced by that in Tensorflow 2.0.\n",
            "WARNING:tensorflow:From /tensorflow-1.15.2/python3.6/tensorflow_core/contrib/legacy_seq2seq/python/ops/seq2seq.py:186: static_rnn (from tensorflow.python.ops.rnn) is deprecated and will be removed in a future version.\n",
            "Instructions for updating:\n",
            "Please use `keras.layers.RNN(cell, unroll=True)`, which is equivalent to this API\n",
            "WARNING:tensorflow:From /tensorflow-1.15.2/python3.6/tensorflow_core/python/ops/rnn_cell_impl.py:559: Layer.add_variable (from tensorflow.python.keras.engine.base_layer) is deprecated and will be removed in a future version.\n",
            "Instructions for updating:\n",
            "Please use `layer.add_weight` method instead.\n",
            "WARNING:tensorflow:From /tensorflow-1.15.2/python3.6/tensorflow_core/python/ops/rnn_cell_impl.py:565: calling Constant.__init__ (from tensorflow.python.ops.init_ops) with dtype is deprecated and will be removed in a future version.\n",
            "Instructions for updating:\n",
            "Call initializer instance with the dtype argument instead of passing it to the constructor\n",
            "WARNING:tensorflow:From /tensorflow-1.15.2/python3.6/tensorflow_core/python/ops/rnn_cell_impl.py:575: calling Zeros.__init__ (from tensorflow.python.ops.init_ops) with dtype is deprecated and will be removed in a future version.\n",
            "Instructions for updating:\n",
            "Call initializer instance with the dtype argument instead of passing it to the constructor\n"
          ],
          "name": "stdout"
        }
      ]
    },
    {
      "cell_type": "markdown",
      "metadata": {
        "id": "I2zJDGUutOZE",
        "colab_type": "text"
      },
      "source": [
        "**Description of loss function and optimizer**"
      ]
    },
    {
      "cell_type": "code",
      "metadata": {
        "id": "FtsXiyQNrsNm",
        "colab_type": "code",
        "colab": {}
      },
      "source": [
        "with tf.variable_scope('Loss'):\n",
        "    # L2 loss\n",
        "    output_loss = 0\n",
        "    for _y, _Y in zip(reshaped_outputs, expected_sparse_output):\n",
        "        output_loss += tf.reduce_mean(tf.nn.l2_loss(_y - _Y))\n",
        "\n",
        "    # слагаемое, отвечающее за L2 регуляризацию\n",
        "    reg_loss = 0\n",
        "    for tf_var in tf.trainable_variables():\n",
        "        if not (\"Bias\" in tf_var.name or \"Output_\" in tf_var.name):\n",
        "            reg_loss += tf.reduce_mean(tf.nn.l2_loss(tf_var))\n",
        "\n",
        "    loss = output_loss  + lambda_l2_reg * reg_loss"
      ],
      "execution_count": 0,
      "outputs": []
    },
    {
      "cell_type": "code",
      "metadata": {
        "id": "HLPRAys7rzty",
        "colab_type": "code",
        "colab": {
          "base_uri": "https://localhost:8080/",
          "height": 88
        },
        "outputId": "7e3f59d2-866e-4cfb-bc22-8c47ee0f6411"
      },
      "source": [
        "with tf.variable_scope('Optimizer'):\n",
        "    optimizer = tf.train.RMSPropOptimizer(learning_rate, decay=lr_decay, momentum=momentum)\n",
        "    train_op = optimizer.minimize(loss)"
      ],
      "execution_count": 11,
      "outputs": [
        {
          "output_type": "stream",
          "text": [
            "WARNING:tensorflow:From /tensorflow-1.15.2/python3.6/tensorflow_core/python/training/rmsprop.py:119: calling Ones.__init__ (from tensorflow.python.ops.init_ops) with dtype is deprecated and will be removed in a future version.\n",
            "Instructions for updating:\n",
            "Call initializer instance with the dtype argument instead of passing it to the constructor\n"
          ],
          "name": "stdout"
        }
      ]
    },
    {
      "cell_type": "code",
      "metadata": {
        "id": "8sh6_5on9F2Q",
        "colab_type": "code",
        "colab": {}
      },
      "source": [
        "# Шаг обучения, который оптимизирует веса в соответствии с переданным минипакетом-примеров\n",
        "def train_batch(batch_size):\n",
        "    X, Y = generate_x_y_data(isTrain=True , batch_size=batch_size)\n",
        "    feed_dict = {enc_inp[t]: X[t] for t in range(len(enc_inp))} \n",
        "    feed_dict.update({expected_sparse_output[t]: Y[t] for t in range(len(expected_sparse_output))}) \n",
        "    #  запускаем сессию. При этом рассчитываются тензоры, указанные в первом параметре, \n",
        "    # а значения для них берутся из второго параметра\n",
        "    _, loss_t = sess.run([train_op , loss], feed_dict)\n",
        "    \n",
        "    return loss_t"
      ],
      "execution_count": 0,
      "outputs": []
    },
    {
      "cell_type": "markdown",
      "metadata": {
        "id": "Kqd-VgastE9J",
        "colab_type": "text"
      },
      "source": [
        "**Training and validation НС**"
      ]
    },
    {
      "cell_type": "code",
      "metadata": {
        "id": "BOa8fdVv9F77",
        "colab_type": "code",
        "outputId": "23bb4cf4-1c75-4fe3-cc6b-e5def6fecad8",
        "colab": {
          "base_uri": "https://localhost:8080/",
          "height": 1000
        }
      },
      "source": [
        "# Тестовый прогон. Веса не обновляются благодаря тому, что переменная train_op не передается в sess.run\n",
        "def test_batch(batch_size, graph=False): \n",
        "    X, Y = generate_x_y_data(isTrain=False, batch_size=batch_size)\n",
        "    feed_dict = {enc_inp[t]: X[t] for t in range(len(enc_inp))}\n",
        "    feed_dict.update({expected_sparse_output[t]: Y[t] for t in range(len(expected_sparse_output))}) \n",
        "    loss_t = sess.run([loss], feed_dict)\n",
        "    \n",
        "    return loss_t[0]\n",
        "\n",
        "train_losses = []\n",
        "test_losses = []\n",
        "sess.run(tf.global_variables_initializer())\n",
        "\n",
        "#nb_iters - количество шагов для обучения. После каждых 10 шагов проверяется ошибка на тестовой выборке\n",
        "\n",
        "for t in range(nb_iters+1):\n",
        "    train_loss = train_batch(batch_size)\n",
        "    train_losses.append(train_loss)\n",
        "\n",
        "    if t % 10 == 0:\n",
        "        test_loss = test_batch(batch_size, t==nb_iters)\n",
        "        test_losses.append(test_loss)\n",
        "        print(\"Step {}/{}, train loss: {}, \\tTEST loss: {}\".format(t, nb_iters , train_loss , test_loss))\n",
        "\n",
        "print(\"Fin. train loss: {}, \\tTEST loss: {}\".format(train_loss , test_loss))"
      ],
      "execution_count": 13,
      "outputs": [
        {
          "output_type": "stream",
          "text": [
            "Step 0/3000, train loss: 445.594482421875, \tTEST loss: 951.4985961914062\n",
            "Step 10/3000, train loss: 227.14549255371094, \tTEST loss: 227.06369018554688\n",
            "Step 20/3000, train loss: 229.11546325683594, \tTEST loss: 244.72906494140625\n",
            "Step 30/3000, train loss: 205.19094848632812, \tTEST loss: 254.7764434814453\n",
            "Step 40/3000, train loss: 226.72286987304688, \tTEST loss: 226.4072723388672\n",
            "Step 50/3000, train loss: 244.698974609375, \tTEST loss: 229.5478515625\n",
            "Step 60/3000, train loss: 225.007568359375, \tTEST loss: 219.43382263183594\n",
            "Step 70/3000, train loss: 222.7742462158203, \tTEST loss: 243.24014282226562\n",
            "Step 80/3000, train loss: 267.9752502441406, \tTEST loss: 210.71487426757812\n",
            "Step 90/3000, train loss: 211.20057678222656, \tTEST loss: 224.8778076171875\n",
            "Step 100/3000, train loss: 227.82742309570312, \tTEST loss: 226.71499633789062\n",
            "Step 110/3000, train loss: 200.8192596435547, \tTEST loss: 209.7288055419922\n",
            "Step 120/3000, train loss: 224.194580078125, \tTEST loss: 201.59896850585938\n",
            "Step 130/3000, train loss: 218.0087890625, \tTEST loss: 239.4500732421875\n",
            "Step 140/3000, train loss: 216.6273956298828, \tTEST loss: 221.1629638671875\n",
            "Step 150/3000, train loss: 222.47222900390625, \tTEST loss: 233.62974548339844\n",
            "Step 160/3000, train loss: 211.78895568847656, \tTEST loss: 200.3492889404297\n",
            "Step 170/3000, train loss: 206.58851623535156, \tTEST loss: 197.91368103027344\n",
            "Step 180/3000, train loss: 212.32249450683594, \tTEST loss: 197.31985473632812\n",
            "Step 190/3000, train loss: 180.79165649414062, \tTEST loss: 192.84437561035156\n",
            "Step 200/3000, train loss: 212.27577209472656, \tTEST loss: 210.06336975097656\n",
            "Step 210/3000, train loss: 189.49148559570312, \tTEST loss: 191.80130004882812\n",
            "Step 220/3000, train loss: 196.54910278320312, \tTEST loss: 186.46836853027344\n",
            "Step 230/3000, train loss: 182.17909240722656, \tTEST loss: 201.44113159179688\n",
            "Step 240/3000, train loss: 195.98220825195312, \tTEST loss: 184.37612915039062\n",
            "Step 250/3000, train loss: 183.83966064453125, \tTEST loss: 200.73480224609375\n",
            "Step 260/3000, train loss: 178.05447387695312, \tTEST loss: 173.1147918701172\n",
            "Step 270/3000, train loss: 190.38888549804688, \tTEST loss: 212.7672119140625\n",
            "Step 280/3000, train loss: 197.36016845703125, \tTEST loss: 193.33372497558594\n",
            "Step 290/3000, train loss: 181.53089904785156, \tTEST loss: 177.02369689941406\n",
            "Step 300/3000, train loss: 189.60061645507812, \tTEST loss: 176.19747924804688\n",
            "Step 310/3000, train loss: 188.66444396972656, \tTEST loss: 182.628662109375\n",
            "Step 320/3000, train loss: 200.67454528808594, \tTEST loss: 176.64895629882812\n",
            "Step 330/3000, train loss: 151.2010955810547, \tTEST loss: 194.46194458007812\n",
            "Step 340/3000, train loss: 184.41583251953125, \tTEST loss: 214.8368377685547\n",
            "Step 350/3000, train loss: 168.02322387695312, \tTEST loss: 181.51339721679688\n",
            "Step 360/3000, train loss: 166.7822723388672, \tTEST loss: 185.59390258789062\n",
            "Step 370/3000, train loss: 180.1400146484375, \tTEST loss: 153.5223846435547\n",
            "Step 380/3000, train loss: 186.88760375976562, \tTEST loss: 203.9234619140625\n",
            "Step 390/3000, train loss: 169.86106872558594, \tTEST loss: 163.7656707763672\n",
            "Step 400/3000, train loss: 157.35440063476562, \tTEST loss: 133.4281768798828\n",
            "Step 410/3000, train loss: 167.90875244140625, \tTEST loss: 160.6020050048828\n",
            "Step 420/3000, train loss: 160.7668914794922, \tTEST loss: 186.35592651367188\n",
            "Step 430/3000, train loss: 172.55479431152344, \tTEST loss: 165.06166076660156\n",
            "Step 440/3000, train loss: 203.55487060546875, \tTEST loss: 159.8957977294922\n",
            "Step 450/3000, train loss: 165.94821166992188, \tTEST loss: 165.03602600097656\n",
            "Step 460/3000, train loss: 156.18194580078125, \tTEST loss: 151.06028747558594\n",
            "Step 470/3000, train loss: 155.0758819580078, \tTEST loss: 155.84552001953125\n",
            "Step 480/3000, train loss: 147.19476318359375, \tTEST loss: 151.7628173828125\n",
            "Step 490/3000, train loss: 158.29705810546875, \tTEST loss: 155.1039581298828\n",
            "Step 500/3000, train loss: 137.26841735839844, \tTEST loss: 152.60787963867188\n",
            "Step 510/3000, train loss: 141.24623107910156, \tTEST loss: 160.38368225097656\n",
            "Step 520/3000, train loss: 153.3401336669922, \tTEST loss: 151.82830810546875\n",
            "Step 530/3000, train loss: 167.32908630371094, \tTEST loss: 146.54568481445312\n",
            "Step 540/3000, train loss: 160.70025634765625, \tTEST loss: 157.39950561523438\n",
            "Step 550/3000, train loss: 146.5242156982422, \tTEST loss: 164.4579315185547\n",
            "Step 560/3000, train loss: 151.5342254638672, \tTEST loss: 132.2005157470703\n",
            "Step 570/3000, train loss: 161.15438842773438, \tTEST loss: 144.95309448242188\n",
            "Step 580/3000, train loss: 128.02467346191406, \tTEST loss: 128.93905639648438\n",
            "Step 590/3000, train loss: 178.09884643554688, \tTEST loss: 142.0349578857422\n",
            "Step 600/3000, train loss: 147.25711059570312, \tTEST loss: 146.55934143066406\n",
            "Step 610/3000, train loss: 147.40000915527344, \tTEST loss: 123.38439178466797\n",
            "Step 620/3000, train loss: 152.13526916503906, \tTEST loss: 149.97796630859375\n",
            "Step 630/3000, train loss: 124.6029052734375, \tTEST loss: 133.4213409423828\n",
            "Step 640/3000, train loss: 132.70913696289062, \tTEST loss: 133.10235595703125\n",
            "Step 650/3000, train loss: 154.6936492919922, \tTEST loss: 112.30829620361328\n",
            "Step 660/3000, train loss: 152.48251342773438, \tTEST loss: 140.03778076171875\n",
            "Step 670/3000, train loss: 142.49005126953125, \tTEST loss: 151.66941833496094\n",
            "Step 680/3000, train loss: 138.2383575439453, \tTEST loss: 145.68846130371094\n",
            "Step 690/3000, train loss: 142.91500854492188, \tTEST loss: 164.044921875\n",
            "Step 700/3000, train loss: 129.22076416015625, \tTEST loss: 137.1758575439453\n",
            "Step 710/3000, train loss: 157.9456024169922, \tTEST loss: 136.38490295410156\n",
            "Step 720/3000, train loss: 142.18295288085938, \tTEST loss: 164.906494140625\n",
            "Step 730/3000, train loss: 130.14878845214844, \tTEST loss: 138.46261596679688\n",
            "Step 740/3000, train loss: 119.28045654296875, \tTEST loss: 127.87767028808594\n",
            "Step 750/3000, train loss: 142.17086791992188, \tTEST loss: 152.0677490234375\n",
            "Step 760/3000, train loss: 141.03085327148438, \tTEST loss: 128.02362060546875\n",
            "Step 770/3000, train loss: 128.84603881835938, \tTEST loss: 117.68141174316406\n",
            "Step 780/3000, train loss: 155.4979248046875, \tTEST loss: 136.5011749267578\n",
            "Step 790/3000, train loss: 127.34994506835938, \tTEST loss: 120.81895446777344\n",
            "Step 800/3000, train loss: 159.3443603515625, \tTEST loss: 146.39065551757812\n",
            "Step 810/3000, train loss: 124.74267578125, \tTEST loss: 137.99063110351562\n",
            "Step 820/3000, train loss: 151.687744140625, \tTEST loss: 164.728759765625\n",
            "Step 830/3000, train loss: 132.94662475585938, \tTEST loss: 154.52500915527344\n",
            "Step 840/3000, train loss: 116.96798706054688, \tTEST loss: 119.17621612548828\n",
            "Step 850/3000, train loss: 122.03360748291016, \tTEST loss: 125.15869140625\n",
            "Step 860/3000, train loss: 133.34242248535156, \tTEST loss: 126.18083953857422\n",
            "Step 870/3000, train loss: 120.04302978515625, \tTEST loss: 117.32474517822266\n",
            "Step 880/3000, train loss: 133.78146362304688, \tTEST loss: 136.86212158203125\n",
            "Step 890/3000, train loss: 126.82904815673828, \tTEST loss: 118.7038345336914\n",
            "Step 900/3000, train loss: 113.61296844482422, \tTEST loss: 111.69551849365234\n",
            "Step 910/3000, train loss: 155.91836547851562, \tTEST loss: 139.43185424804688\n",
            "Step 920/3000, train loss: 135.84555053710938, \tTEST loss: 127.18926239013672\n",
            "Step 930/3000, train loss: 124.01117706298828, \tTEST loss: 122.835693359375\n",
            "Step 940/3000, train loss: 115.51750183105469, \tTEST loss: 114.31769561767578\n",
            "Step 950/3000, train loss: 126.3614501953125, \tTEST loss: 130.83729553222656\n",
            "Step 960/3000, train loss: 117.18191528320312, \tTEST loss: 123.40785217285156\n",
            "Step 970/3000, train loss: 115.4513168334961, \tTEST loss: 121.90109252929688\n",
            "Step 980/3000, train loss: 123.91521453857422, \tTEST loss: 103.45178985595703\n",
            "Step 990/3000, train loss: 113.6079330444336, \tTEST loss: 122.28937530517578\n",
            "Step 1000/3000, train loss: 110.51384735107422, \tTEST loss: 123.98023223876953\n",
            "Step 1010/3000, train loss: 103.55522155761719, \tTEST loss: 114.9892578125\n",
            "Step 1020/3000, train loss: 119.70475769042969, \tTEST loss: 124.10921478271484\n",
            "Step 1030/3000, train loss: 112.25184631347656, \tTEST loss: 131.19094848632812\n",
            "Step 1040/3000, train loss: 124.80562591552734, \tTEST loss: 103.15055847167969\n",
            "Step 1050/3000, train loss: 120.79016876220703, \tTEST loss: 112.95274353027344\n",
            "Step 1060/3000, train loss: 99.96463775634766, \tTEST loss: 126.3048324584961\n",
            "Step 1070/3000, train loss: 107.02685546875, \tTEST loss: 103.96742248535156\n",
            "Step 1080/3000, train loss: 106.76565551757812, \tTEST loss: 114.517822265625\n",
            "Step 1090/3000, train loss: 130.06893920898438, \tTEST loss: 123.27521514892578\n",
            "Step 1100/3000, train loss: 112.7450942993164, \tTEST loss: 123.2218246459961\n",
            "Step 1110/3000, train loss: 114.8230972290039, \tTEST loss: 122.80366516113281\n",
            "Step 1120/3000, train loss: 96.25389862060547, \tTEST loss: 110.75308227539062\n",
            "Step 1130/3000, train loss: 134.15457153320312, \tTEST loss: 116.26810455322266\n",
            "Step 1140/3000, train loss: 108.77037811279297, \tTEST loss: 110.92025756835938\n",
            "Step 1150/3000, train loss: 116.64359283447266, \tTEST loss: 97.23187255859375\n",
            "Step 1160/3000, train loss: 116.58661651611328, \tTEST loss: 97.55646514892578\n",
            "Step 1170/3000, train loss: 93.87337493896484, \tTEST loss: 100.91777038574219\n",
            "Step 1180/3000, train loss: 105.70291137695312, \tTEST loss: 115.83031463623047\n",
            "Step 1190/3000, train loss: 101.79891967773438, \tTEST loss: 103.29706573486328\n",
            "Step 1200/3000, train loss: 108.6924057006836, \tTEST loss: 115.70357513427734\n",
            "Step 1210/3000, train loss: 105.54534149169922, \tTEST loss: 96.98966979980469\n",
            "Step 1220/3000, train loss: 118.80778503417969, \tTEST loss: 101.3633804321289\n",
            "Step 1230/3000, train loss: 116.57523345947266, \tTEST loss: 106.20266723632812\n",
            "Step 1240/3000, train loss: 78.67271423339844, \tTEST loss: 114.76722717285156\n",
            "Step 1250/3000, train loss: 98.42317962646484, \tTEST loss: 114.50669860839844\n",
            "Step 1260/3000, train loss: 112.09734344482422, \tTEST loss: 123.90065002441406\n",
            "Step 1270/3000, train loss: 102.43817901611328, \tTEST loss: 102.79721069335938\n",
            "Step 1280/3000, train loss: 105.98106384277344, \tTEST loss: 93.89259338378906\n",
            "Step 1290/3000, train loss: 128.9986114501953, \tTEST loss: 105.83655548095703\n",
            "Step 1300/3000, train loss: 141.0991668701172, \tTEST loss: 137.61964416503906\n",
            "Step 1310/3000, train loss: 120.68806457519531, \tTEST loss: 126.9493637084961\n",
            "Step 1320/3000, train loss: 131.11349487304688, \tTEST loss: 118.28260803222656\n",
            "Step 1330/3000, train loss: 102.3069076538086, \tTEST loss: 118.5320816040039\n",
            "Step 1340/3000, train loss: 117.0827407836914, \tTEST loss: 100.06594848632812\n",
            "Step 1350/3000, train loss: 88.88389587402344, \tTEST loss: 84.34246826171875\n",
            "Step 1360/3000, train loss: 94.10821533203125, \tTEST loss: 102.62334442138672\n",
            "Step 1370/3000, train loss: 104.30606079101562, \tTEST loss: 107.9699478149414\n",
            "Step 1380/3000, train loss: 110.24407196044922, \tTEST loss: 101.1397476196289\n",
            "Step 1390/3000, train loss: 112.57853698730469, \tTEST loss: 88.7291259765625\n",
            "Step 1400/3000, train loss: 94.0721435546875, \tTEST loss: 105.79344940185547\n",
            "Step 1410/3000, train loss: 86.19689178466797, \tTEST loss: 92.33057403564453\n",
            "Step 1420/3000, train loss: 97.16492462158203, \tTEST loss: 112.50849151611328\n",
            "Step 1430/3000, train loss: 94.77181243896484, \tTEST loss: 106.92744445800781\n",
            "Step 1440/3000, train loss: 98.65876007080078, \tTEST loss: 96.13358306884766\n",
            "Step 1450/3000, train loss: 91.67874908447266, \tTEST loss: 106.09612274169922\n",
            "Step 1460/3000, train loss: 93.92466735839844, \tTEST loss: 105.5765151977539\n",
            "Step 1470/3000, train loss: 114.93763732910156, \tTEST loss: 100.98583984375\n",
            "Step 1480/3000, train loss: 89.10792541503906, \tTEST loss: 93.62923431396484\n",
            "Step 1490/3000, train loss: 101.92438507080078, \tTEST loss: 93.17609405517578\n",
            "Step 1500/3000, train loss: 94.98956298828125, \tTEST loss: 102.75655364990234\n",
            "Step 1510/3000, train loss: 83.42240905761719, \tTEST loss: 100.36044311523438\n",
            "Step 1520/3000, train loss: 96.52320861816406, \tTEST loss: 94.42085266113281\n",
            "Step 1530/3000, train loss: 127.81977844238281, \tTEST loss: 87.36754608154297\n",
            "Step 1540/3000, train loss: 109.36650085449219, \tTEST loss: 91.70586395263672\n",
            "Step 1550/3000, train loss: 93.2365493774414, \tTEST loss: 93.36486053466797\n",
            "Step 1560/3000, train loss: 101.14825439453125, \tTEST loss: 94.54232788085938\n",
            "Step 1570/3000, train loss: 93.0425033569336, \tTEST loss: 103.63015747070312\n",
            "Step 1580/3000, train loss: 101.61443328857422, \tTEST loss: 99.06657409667969\n",
            "Step 1590/3000, train loss: 98.77789306640625, \tTEST loss: 82.49346923828125\n",
            "Step 1600/3000, train loss: 106.7530288696289, \tTEST loss: 89.65238189697266\n",
            "Step 1610/3000, train loss: 100.03485870361328, \tTEST loss: 89.12057495117188\n",
            "Step 1620/3000, train loss: 112.53153991699219, \tTEST loss: 79.99868774414062\n",
            "Step 1630/3000, train loss: 99.39938354492188, \tTEST loss: 84.3321304321289\n",
            "Step 1640/3000, train loss: 98.8249740600586, \tTEST loss: 94.58207702636719\n",
            "Step 1650/3000, train loss: 111.57032012939453, \tTEST loss: 105.98612213134766\n",
            "Step 1660/3000, train loss: 88.84930419921875, \tTEST loss: 81.49029541015625\n",
            "Step 1670/3000, train loss: 79.96892547607422, \tTEST loss: 96.87078094482422\n",
            "Step 1680/3000, train loss: 108.83292388916016, \tTEST loss: 92.02479553222656\n",
            "Step 1690/3000, train loss: 73.61990356445312, \tTEST loss: 97.91862487792969\n",
            "Step 1700/3000, train loss: 100.40616607666016, \tTEST loss: 96.63090515136719\n",
            "Step 1710/3000, train loss: 105.38418579101562, \tTEST loss: 114.22117614746094\n",
            "Step 1720/3000, train loss: 102.13585662841797, \tTEST loss: 97.14924621582031\n",
            "Step 1730/3000, train loss: 94.67353820800781, \tTEST loss: 95.33731079101562\n",
            "Step 1740/3000, train loss: 81.72767639160156, \tTEST loss: 87.77774047851562\n",
            "Step 1750/3000, train loss: 65.95256042480469, \tTEST loss: 114.1099853515625\n",
            "Step 1760/3000, train loss: 103.75902557373047, \tTEST loss: 77.75157165527344\n",
            "Step 1770/3000, train loss: 96.30577087402344, \tTEST loss: 96.02635955810547\n",
            "Step 1780/3000, train loss: 84.69627380371094, \tTEST loss: 95.60260009765625\n",
            "Step 1790/3000, train loss: 89.91080474853516, \tTEST loss: 69.58138275146484\n",
            "Step 1800/3000, train loss: 88.39572143554688, \tTEST loss: 104.97607421875\n",
            "Step 1810/3000, train loss: 97.44383239746094, \tTEST loss: 123.11575317382812\n",
            "Step 1820/3000, train loss: 84.27783203125, \tTEST loss: 67.15633392333984\n",
            "Step 1830/3000, train loss: 109.18498992919922, \tTEST loss: 95.03483581542969\n",
            "Step 1840/3000, train loss: 106.81218719482422, \tTEST loss: 88.89144134521484\n",
            "Step 1850/3000, train loss: 128.54669189453125, \tTEST loss: 124.00971221923828\n",
            "Step 1860/3000, train loss: 83.9671630859375, \tTEST loss: 106.38643646240234\n",
            "Step 1870/3000, train loss: 93.97663879394531, \tTEST loss: 97.94728088378906\n",
            "Step 1880/3000, train loss: 95.6751480102539, \tTEST loss: 94.32411193847656\n",
            "Step 1890/3000, train loss: 78.65155029296875, \tTEST loss: 87.11751556396484\n",
            "Step 1900/3000, train loss: 72.37276458740234, \tTEST loss: 121.18673706054688\n",
            "Step 1910/3000, train loss: 92.50780487060547, \tTEST loss: 89.63646697998047\n",
            "Step 1920/3000, train loss: 116.16837310791016, \tTEST loss: 66.04986572265625\n",
            "Step 1930/3000, train loss: 85.76187133789062, \tTEST loss: 87.47215270996094\n",
            "Step 1940/3000, train loss: 75.79930877685547, \tTEST loss: 74.54067993164062\n",
            "Step 1950/3000, train loss: 85.297119140625, \tTEST loss: 84.41995239257812\n",
            "Step 1960/3000, train loss: 89.61279296875, \tTEST loss: 77.61804962158203\n",
            "Step 1970/3000, train loss: 73.20904541015625, \tTEST loss: 77.33079528808594\n",
            "Step 1980/3000, train loss: 78.45851135253906, \tTEST loss: 81.62323760986328\n",
            "Step 1990/3000, train loss: 85.87870788574219, \tTEST loss: 78.35965728759766\n",
            "Step 2000/3000, train loss: 72.55274963378906, \tTEST loss: 92.96358489990234\n",
            "Step 2010/3000, train loss: 100.3880844116211, \tTEST loss: 99.84797668457031\n",
            "Step 2020/3000, train loss: 81.50732421875, \tTEST loss: 77.7591552734375\n",
            "Step 2030/3000, train loss: 81.88137817382812, \tTEST loss: 86.4381103515625\n",
            "Step 2040/3000, train loss: 82.66893768310547, \tTEST loss: 81.45442199707031\n",
            "Step 2050/3000, train loss: 83.93632507324219, \tTEST loss: 68.8332290649414\n",
            "Step 2060/3000, train loss: 83.2110366821289, \tTEST loss: 98.6020736694336\n",
            "Step 2070/3000, train loss: 74.41294860839844, \tTEST loss: 108.47201538085938\n",
            "Step 2080/3000, train loss: 82.84766387939453, \tTEST loss: 61.09257888793945\n",
            "Step 2090/3000, train loss: 75.2835922241211, \tTEST loss: 98.98346710205078\n",
            "Step 2100/3000, train loss: 70.09210968017578, \tTEST loss: 81.91678619384766\n",
            "Step 2110/3000, train loss: 82.08494567871094, \tTEST loss: 78.69120025634766\n",
            "Step 2120/3000, train loss: 95.405029296875, \tTEST loss: 80.93051147460938\n",
            "Step 2130/3000, train loss: 97.76172637939453, \tTEST loss: 69.50762176513672\n",
            "Step 2140/3000, train loss: 83.85186767578125, \tTEST loss: 84.45011138916016\n",
            "Step 2150/3000, train loss: 80.0219955444336, \tTEST loss: 71.56879425048828\n",
            "Step 2160/3000, train loss: 89.82958221435547, \tTEST loss: 72.2493667602539\n",
            "Step 2170/3000, train loss: 81.49649810791016, \tTEST loss: 98.48070526123047\n",
            "Step 2180/3000, train loss: 81.17413330078125, \tTEST loss: 67.8608169555664\n",
            "Step 2190/3000, train loss: 80.56595611572266, \tTEST loss: 73.18409729003906\n",
            "Step 2200/3000, train loss: 73.79216766357422, \tTEST loss: 72.90744018554688\n",
            "Step 2210/3000, train loss: 67.51836395263672, \tTEST loss: 83.70711517333984\n",
            "Step 2220/3000, train loss: 62.91142654418945, \tTEST loss: 96.25325012207031\n",
            "Step 2230/3000, train loss: 67.88753509521484, \tTEST loss: 54.446815490722656\n",
            "Step 2240/3000, train loss: 95.90240478515625, \tTEST loss: 92.57718658447266\n",
            "Step 2250/3000, train loss: 91.48014831542969, \tTEST loss: 99.58114624023438\n",
            "Step 2260/3000, train loss: 61.92011260986328, \tTEST loss: 70.42317199707031\n",
            "Step 2270/3000, train loss: 88.081787109375, \tTEST loss: 83.6375961303711\n",
            "Step 2280/3000, train loss: 74.63573455810547, \tTEST loss: 100.54857635498047\n",
            "Step 2290/3000, train loss: 63.29966354370117, \tTEST loss: 66.2625961303711\n",
            "Step 2300/3000, train loss: 90.61238861083984, \tTEST loss: 91.4260025024414\n",
            "Step 2310/3000, train loss: 88.06405639648438, \tTEST loss: 79.46941375732422\n",
            "Step 2320/3000, train loss: 75.69493103027344, \tTEST loss: 79.54908752441406\n",
            "Step 2330/3000, train loss: 52.265682220458984, \tTEST loss: 72.53607177734375\n",
            "Step 2340/3000, train loss: 90.57132720947266, \tTEST loss: 82.07646179199219\n",
            "Step 2350/3000, train loss: 59.28279113769531, \tTEST loss: 67.44061279296875\n",
            "Step 2360/3000, train loss: 83.24519348144531, \tTEST loss: 91.00835418701172\n",
            "Step 2370/3000, train loss: 74.98641967773438, \tTEST loss: 82.73016357421875\n",
            "Step 2380/3000, train loss: 75.08650970458984, \tTEST loss: 58.81312561035156\n",
            "Step 2390/3000, train loss: 92.92253875732422, \tTEST loss: 62.61823272705078\n",
            "Step 2400/3000, train loss: 71.72174072265625, \tTEST loss: 81.97529602050781\n",
            "Step 2410/3000, train loss: 77.13822174072266, \tTEST loss: 77.87857055664062\n",
            "Step 2420/3000, train loss: 98.85064697265625, \tTEST loss: 77.51776123046875\n",
            "Step 2430/3000, train loss: 78.41670227050781, \tTEST loss: 86.26331329345703\n",
            "Step 2440/3000, train loss: 71.6753158569336, \tTEST loss: 93.72461700439453\n",
            "Step 2450/3000, train loss: 65.36347198486328, \tTEST loss: 100.20643615722656\n",
            "Step 2460/3000, train loss: 87.8318862915039, \tTEST loss: 85.26554107666016\n",
            "Step 2470/3000, train loss: 78.51959991455078, \tTEST loss: 72.5244140625\n",
            "Step 2480/3000, train loss: 88.1001205444336, \tTEST loss: 74.47552490234375\n",
            "Step 2490/3000, train loss: 89.20246887207031, \tTEST loss: 74.10293579101562\n",
            "Step 2500/3000, train loss: 57.23397445678711, \tTEST loss: 88.3370132446289\n",
            "Step 2510/3000, train loss: 81.10712432861328, \tTEST loss: 77.00753021240234\n",
            "Step 2520/3000, train loss: 61.174129486083984, \tTEST loss: 69.27986907958984\n",
            "Step 2530/3000, train loss: 75.93264770507812, \tTEST loss: 85.7977523803711\n",
            "Step 2540/3000, train loss: 78.1657943725586, \tTEST loss: 79.5154800415039\n",
            "Step 2550/3000, train loss: 83.79347229003906, \tTEST loss: 58.89327621459961\n",
            "Step 2560/3000, train loss: 71.99439239501953, \tTEST loss: 72.50613403320312\n",
            "Step 2570/3000, train loss: 67.77408599853516, \tTEST loss: 64.14202117919922\n",
            "Step 2580/3000, train loss: 86.6729736328125, \tTEST loss: 80.4811782836914\n",
            "Step 2590/3000, train loss: 81.48076629638672, \tTEST loss: 49.406044006347656\n",
            "Step 2600/3000, train loss: 96.51534271240234, \tTEST loss: 87.79288482666016\n",
            "Step 2610/3000, train loss: 97.01676177978516, \tTEST loss: 89.3632583618164\n",
            "Step 2620/3000, train loss: 83.16214752197266, \tTEST loss: 71.06947326660156\n",
            "Step 2630/3000, train loss: 76.05082702636719, \tTEST loss: 74.75967407226562\n",
            "Step 2640/3000, train loss: 82.580322265625, \tTEST loss: 56.995750427246094\n",
            "Step 2650/3000, train loss: 81.9321517944336, \tTEST loss: 59.806297302246094\n",
            "Step 2660/3000, train loss: 88.2955093383789, \tTEST loss: 80.7059097290039\n",
            "Step 2670/3000, train loss: 94.69001007080078, \tTEST loss: 74.08602905273438\n",
            "Step 2680/3000, train loss: 77.44072723388672, \tTEST loss: 67.92426300048828\n",
            "Step 2690/3000, train loss: 82.29654693603516, \tTEST loss: 75.75881958007812\n",
            "Step 2700/3000, train loss: 96.89205932617188, \tTEST loss: 64.85679626464844\n",
            "Step 2710/3000, train loss: 66.37400817871094, \tTEST loss: 53.441062927246094\n",
            "Step 2720/3000, train loss: 67.69108581542969, \tTEST loss: 73.12862396240234\n",
            "Step 2730/3000, train loss: 68.06739807128906, \tTEST loss: 71.25738525390625\n",
            "Step 2740/3000, train loss: 81.81015014648438, \tTEST loss: 85.54317474365234\n",
            "Step 2750/3000, train loss: 91.263671875, \tTEST loss: 87.36302947998047\n",
            "Step 2760/3000, train loss: 77.688232421875, \tTEST loss: 77.84900665283203\n",
            "Step 2770/3000, train loss: 82.37578582763672, \tTEST loss: 78.9586181640625\n",
            "Step 2780/3000, train loss: 61.64043045043945, \tTEST loss: 87.0042724609375\n",
            "Step 2790/3000, train loss: 64.99845886230469, \tTEST loss: 71.92986297607422\n",
            "Step 2800/3000, train loss: 61.6837158203125, \tTEST loss: 71.31111145019531\n",
            "Step 2810/3000, train loss: 80.85826873779297, \tTEST loss: 74.65516662597656\n",
            "Step 2820/3000, train loss: 50.909915924072266, \tTEST loss: 56.22650909423828\n",
            "Step 2830/3000, train loss: 64.31262969970703, \tTEST loss: 91.49864196777344\n",
            "Step 2840/3000, train loss: 67.370849609375, \tTEST loss: 71.07463073730469\n",
            "Step 2850/3000, train loss: 69.54523468017578, \tTEST loss: 90.52653503417969\n",
            "Step 2860/3000, train loss: 76.47126007080078, \tTEST loss: 61.60063171386719\n",
            "Step 2870/3000, train loss: 84.26220703125, \tTEST loss: 62.46586608886719\n",
            "Step 2880/3000, train loss: 83.25376892089844, \tTEST loss: 69.8160400390625\n",
            "Step 2890/3000, train loss: 83.86585235595703, \tTEST loss: 78.85581970214844\n",
            "Step 2900/3000, train loss: 70.28230285644531, \tTEST loss: 64.21322631835938\n",
            "Step 2910/3000, train loss: 90.12772369384766, \tTEST loss: 78.11366271972656\n",
            "Step 2920/3000, train loss: 83.55476379394531, \tTEST loss: 96.06816101074219\n",
            "Step 2930/3000, train loss: 76.77086639404297, \tTEST loss: 63.54460525512695\n",
            "Step 2940/3000, train loss: 49.78193283081055, \tTEST loss: 57.8036003112793\n",
            "Step 2950/3000, train loss: 75.42169952392578, \tTEST loss: 69.08370971679688\n",
            "Step 2960/3000, train loss: 57.40239715576172, \tTEST loss: 89.58942413330078\n",
            "Step 2970/3000, train loss: 77.0992660522461, \tTEST loss: 63.61873245239258\n",
            "Step 2980/3000, train loss: 88.45709991455078, \tTEST loss: 77.12034606933594\n",
            "Step 2990/3000, train loss: 78.30503845214844, \tTEST loss: 68.53685760498047\n",
            "Step 3000/3000, train loss: 93.07372283935547, \tTEST loss: 106.94412231445312\n",
            "Fin. train loss: 93.07372283935547, \tTEST loss: 106.94412231445312\n"
          ],
          "name": "stdout"
        }
      ]
    },
    {
      "cell_type": "markdown",
      "metadata": {
        "id": "UYztURk7tdZx",
        "colab_type": "text"
      },
      "source": [
        "**Results Visualization**"
      ]
    },
    {
      "cell_type": "markdown",
      "metadata": {
        "id": "RaNM30CXtdxk",
        "colab_type": "text"
      },
      "source": [
        "**Error dynamics in the training and test sample by iterations**"
      ]
    },
    {
      "cell_type": "code",
      "metadata": {
        "id": "oiQIoHSG9F6T",
        "colab_type": "code",
        "outputId": "cb6e3fb8-e772-43f4-c096-1fcd07b26030",
        "colab": {
          "base_uri": "https://localhost:8080/",
          "height": 662
        }
      },
      "source": [
        "plt.figure(figsize=(12, 6))\n",
        "plt.plot( np.array(range(0, len(test_losses)))/float(len(test_losses)-1)*(len(train_losses)-1), np.log(test_losses), label=\"Test loss\")\n",
        "plt.plot(np.log(train_losses), label=\"Train loss\")\n",
        "\n",
        "plt.title(\" errors vs time (on a logarithmic scale)\") \n",
        "plt.xlabel('Iteration')\n",
        "plt.ylabel('log(Loss)') \n",
        "plt.legend(loc='3') \n",
        "plt.show()"
      ],
      "execution_count": 14,
      "outputs": [
        {
          "output_type": "stream",
          "text": [
            "/usr/local/lib/python3.6/dist-packages/ipykernel_launcher.py:8: MatplotlibDeprecationWarning: Unrecognized location '3'. Falling back on 'best'; valid locations are\n",
            "\tbest\n",
            "\tupper right\n",
            "\tupper left\n",
            "\tlower left\n",
            "\tlower right\n",
            "\tright\n",
            "\tcenter left\n",
            "\tcenter right\n",
            "\tlower center\n",
            "\tupper center\n",
            "\tcenter\n",
            "This will raise an exception in 3.3.\n",
            "  \n"
          ],
          "name": "stderr"
        },
        {
          "output_type": "display_data",
          "data": {
            "image/png": "[encoded data removed]",
            "text/plain": [
              "<Figure size 864x432 with 1 Axes>"
            ]
          },
          "metadata": {
            "tags": [],
            "needs_background": "light"
          }
        }
      ]
    },
    {
      "cell_type": "markdown",
      "metadata": {
        "id": "qay-jI60tsRy",
        "colab_type": "text"
      },
      "source": [
        "**Prediction Visualization**"
      ]
    },
    {
      "cell_type": "code",
      "metadata": {
        "id": "Cd0sno6c9F0q",
        "colab_type": "code",
        "outputId": "f42574d0-0a3f-4a7f-ff2b-f179c48a1e03",
        "colab": {
          "base_uri": "https://localhost:8080/",
          "height": 485
        }
      },
      "source": [
        "nb_predictions = 1\n",
        "print (\" Let 's visualize {} predictions with our signals :\". format (nb_predictions ))\n",
        "X, Y = generate_x_y_data( isTrain =False , batch_size = nb_predictions )\n",
        "feed_dict = { enc_inp [t]: X[t] for t in range ( seq_length )}\n",
        "outputs = np.array( sess.run([ reshaped_outputs ], feed_dict )[0])\n",
        "# выводим предсказания по каждому пакету\n",
        "for j in range ( nb_predictions ):\n",
        "    plt.figure( figsize =(12 , 3))\n",
        "    for k in range ( output_dim ):\n",
        "        past = X[:,j,k]\n",
        "        expected = Y[:,j,k]\n",
        "        pred = outputs [:,j,k]\n",
        "    label1 = \" Seen ( past ) values \" if k ==0 else \" _nolegend_ \"\n",
        "    label2 = \" True future values \" if k ==0 else \" _nolegend_ \"\n",
        "    label3 = \" Predictions \" if k ==0 else \" _nolegend_ \"\n",
        "    plt.plot(range(len(past)), past , \"o--b\", label = label1 )\n",
        "    plt.plot(range(len(past),len(expected)+len(past)), expected, \"x--b\", label = label2)\n",
        "    plt.plot(range(len(past),len(pred) + len (past)), pred , \"o--y\", label = label3 )\n",
        "    plt.legend( loc ='best ')\n",
        "    plt.title(\" Predictions v.s. true values \")\n",
        "    plt.show()"
      ],
      "execution_count": 15,
      "outputs": [
        {
          "output_type": "stream",
          "text": [
            " Let 's visualize 1 predictions with our signals :\n"
          ],
          "name": "stdout"
        },
        {
          "output_type": "stream",
          "text": [
            "/usr/local/lib/python3.6/dist-packages/ipykernel_launcher.py:19: MatplotlibDeprecationWarning: Unrecognized location 'best '. Falling back on 'best'; valid locations are\n",
            "\tbest\n",
            "\tupper right\n",
            "\tupper left\n",
            "\tlower left\n",
            "\tlower right\n",
            "\tright\n",
            "\tcenter left\n",
            "\tcenter right\n",
            "\tlower center\n",
            "\tupper center\n",
            "\tcenter\n",
            "This will raise an exception in 3.3.\n"
          ],
          "name": "stderr"
        },
        {
          "output_type": "display_data",
          "data": {
            "image/png": "[encoded data removed]",
            "text/plain": [
              "<Figure size 864x216 with 1 Axes>"
            ]
          },
          "metadata": {
            "tags": [],
            "needs_background": "light"
          }
        }
      ]
    }
  ]
}